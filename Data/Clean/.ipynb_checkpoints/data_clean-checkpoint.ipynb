{
 "cells": [
  {
   "cell_type": "code",
   "execution_count": 1,
   "metadata": {
    "collapsed": false
   },
   "outputs": [],
   "source": [
    "import json\n",
    "with open('restaurants.json') as d:\n",
    "    RAW = d.read()\n",
    "RAW = '[' + RAW.replace('}{', '},{') + ']'\n",
    "rest = json.loads(RAW)"
   ]
  },
  {
   "cell_type": "code",
   "execution_count": 2,
   "metadata": {
    "collapsed": false
   },
   "outputs": [
    {
     "data": {
      "text/plain": [
       "[u'is_claimed',\n",
       " u'rating',\n",
       " u'mobile_url',\n",
       " u'rating_img_url',\n",
       " u'review_count',\n",
       " u'name',\n",
       " u'snippet_image_url',\n",
       " u'rating_img_url_small',\n",
       " u'url',\n",
       " u'location',\n",
       " u'menu_date_updated',\n",
       " u'phone',\n",
       " u'snippet_text',\n",
       " u'image_url',\n",
       " u'categories',\n",
       " u'display_phone',\n",
       " u'rating_img_url_large',\n",
       " u'menu_provider',\n",
       " u'id',\n",
       " u'is_closed',\n",
       " u'distance']"
      ]
     },
     "execution_count": 2,
     "metadata": {},
     "output_type": "execute_result"
    }
   ],
   "source": [
    "#keys in each dic\n",
    "list(rest[0].keys())\n",
    "#keys in businesses\n",
    "list(rest[0]['businesses'][0].keys())"
   ]
  },
  {
   "cell_type": "code",
   "execution_count": 29,
   "metadata": {
    "collapsed": false
   },
   "outputs": [],
   "source": [
    "## Target format: [{'latitude': xxx, 'longtitude': xxx,\n",
    "## 'businesses': [{'categories': xxx, 'name': xxx, 'rating': xxx, 'neighborhoods': xxx}, {}, {}...]}, {}, {} ...]\n",
    "\n",
    "# import pdb; pdb.set_trace()\n",
    "new = []\n",
    "num_loc = len(rest)\n",
    "\n",
    "for i in range(num_loc):\n",
    "    one_loc = {}\n",
    "    businesses = []\n",
    "    one_loc['latitude'] = rest[i]['region']['center']['latitude']\n",
    "    one_loc['longitude'] = rest[i]['region']['center']['longitude']\n",
    "    # businesses\n",
    "    num_bus = len(rest[i]['businesses'])\n",
    "    for j in range(num_bus):    \n",
    "        try:\n",
    "            one_bus = rest[i]['businesses'][j]\n",
    "        except:\n",
    "            import pdb; pdb.set_trace()\n",
    "        new_bus = {}\n",
    "        new_bus['categories'] = one_bus['categories'][0][0]\n",
    "        new_bus['name'] = one_bus['name']\n",
    "        new_bus['rating'] = one_bus['rating']\n",
    "        businesses.append(new_bus)\n",
    "    one_loc['businesses'] = businesses\n",
    "    new.append(one_loc)"
   ]
  },
  {
   "cell_type": "code",
   "execution_count": 30,
   "metadata": {
    "collapsed": false
   },
   "outputs": [],
   "source": [
    "json_str = json.dumps(new)\n",
    "with open('clean_restaurant.json', 'w') as d:\n",
    "    json.dump(json_str, d)"
   ]
  },
  {
   "cell_type": "code",
   "execution_count": 52,
   "metadata": {
    "collapsed": true
   },
   "outputs": [
    {
     "data": {
      "text/plain": [
       "{'businesses': [{'categories': u'Brazilian',\n",
       "   'name': u'Brazil Fresh Squeeze Cafe',\n",
       "   'rating': 4.5},\n",
       "  {'categories': u'Japanese', 'name': u'Simply Bowl', 'rating': 4.0},\n",
       "  {'categories': u'Cajun/Creole',\n",
       "   'name': u\"Angeline's Louisiana Kitchen\",\n",
       "   'rating': 4.0},\n",
       "  {'categories': u'Asian Fusion', 'name': u'Toss Noodle Bar', 'rating': 4.0},\n",
       "  {'categories': u'Pizza', 'name': u'Sliver Pizzeria', 'rating': 4.5},\n",
       "  {'categories': u'Vegan', 'name': u'Cinnaholic', 'rating': 4.5},\n",
       "  {'categories': u'Japanese', 'name': u'Sushinista', 'rating': 4.5},\n",
       "  {'categories': u'African',\n",
       "   'name': u'Suya African Caribbean Grill',\n",
       "   'rating': 4.0},\n",
       "  {'categories': u'Burgers', 'name': u'Eureka!', 'rating': 4.0},\n",
       "  {'categories': u'Thai', 'name': u'Imm Thai Street Food', 'rating': 4.0},\n",
       "  {'categories': u'Japanese', 'name': u'Sushi Secrets', 'rating': 4.0},\n",
       "  {'categories': u'Sushi Bars', 'name': u'Sumo Roll', 'rating': 4.5},\n",
       "  {'categories': u'Sandwiches', 'name': u'The Sandwich Spot', 'rating': 4.0},\n",
       "  {'categories': u'American (New)', 'name': u'Gather', 'rating': 4.0},\n",
       "  {'categories': u'Chinese', 'name': u'Great China', 'rating': 4.0},\n",
       "  {'categories': u'Japanese', 'name': u'Tamon Tea', 'rating': 4.5},\n",
       "  {'categories': u'Pubs', 'name': u'Jupiter', 'rating': 4.0},\n",
       "  {'categories': u'Latin American', 'name': u'Platano', 'rating': 4.0},\n",
       "  {'categories': u'Japanese', 'name': u'Ippuku', 'rating': 4.0},\n",
       "  {'categories': u'Italian', 'name': u'PIQ Bakery', 'rating': 4.0}],\n",
       " 'latitude': 37.8701173693928,\n",
       " 'longitude': -122.267956974363}"
      ]
     },
     "execution_count": 52,
     "metadata": {},
     "output_type": "execute_result"
    }
   ],
   "source": [
    "new[0]"
   ]
  },
  {
   "cell_type": "code",
   "execution_count": 54,
   "metadata": {
    "collapsed": false
   },
   "outputs": [],
   "source": [
    "# Average rating & #Cafes & #Pubs\n",
    "analysis = []\n",
    "for i in range(len(new)):\n",
    "    loc = {}\n",
    "    loc['latitude'] = new[i]['latitude']\n",
    "    loc['longitude'] = new[i]['longitude']\n",
    "    total = 0\n",
    "    num_bus = len(new[i]['businesses'])\n",
    "    for j in range(num_bus):\n",
    "        total += new[i]['businesses'][j]['rating']\n",
    "    loc['avg_rating'] = float(total) / float(num_bus)\n",
    "    \n",
    "    cafe = 0\n",
    "    pub = 0\n",
    "    num_bus = len(new[i]['businesses'])\n",
    "    for j in range(num_bus):\n",
    "        if ('Coffee' in new[i]['businesses'][j]['categories']) or ('Cafe' in new[i]['businesses'][j]['name']):\n",
    "            cafe += 1\n",
    "        if ('Pubs' in new[i]['businesses'][j]['categories']) or ('Bar' in new[i]['businesses'][j]['name']):\n",
    "            pub += 1\n",
    "    loc['#cafes'] = cafe\n",
    "    loc['#pubs'] = pub\n",
    "    \n",
    "    analysis.append(loc)\n",
    "    "
   ]
  },
  {
   "cell_type": "code",
   "execution_count": 56,
   "metadata": {
    "collapsed": true
   },
   "outputs": [],
   "source": [
    "summary = json.dumps(analysis)\n",
    "with open('analysis.json', 'w') as d:\n",
    "    json.dump(summary, d)"
   ]
  },
  {
   "cell_type": "code",
   "execution_count": 57,
   "metadata": {
    "collapsed": true
   },
   "outputs": [],
   "source": [
    "# CSV\n",
    "import csv\n",
    "import json\n",
    "\n",
    "x = json.loads(summary)\n",
    "f = csv.writer(open(\"restaurant.csv\", \"wb+\"))\n",
    "f.writerow(['latitude', 'longitude', 'avg_rating', '#cafes', '#pubs'])\n",
    "\n",
    "for x in x:\n",
    "    f.writerow([x['latitude'], \n",
    "                x['longitude'], \n",
    "                x['avg_rating'], \n",
    "                x['#cafes'],\n",
    "                x['#pubs']])"
   ]
  },
  {
   "cell_type": "code",
   "execution_count": 1,
   "metadata": {
    "collapsed": false
   },
   "outputs": [
    {
     "ename": "NameError",
     "evalue": "name 'analysis' is not defined",
     "output_type": "error",
     "traceback": [
      "\u001b[0;31m---------------------------------------------------------------------------\u001b[0m",
      "\u001b[0;31mNameError\u001b[0m                                 Traceback (most recent call last)",
      "\u001b[0;32m<ipython-input-1-0327c87ceb2f>\u001b[0m in \u001b[0;36m<module>\u001b[0;34m()\u001b[0m\n\u001b[0;32m----> 1\u001b[0;31m \u001b[0mlen\u001b[0m\u001b[0;34m(\u001b[0m\u001b[0manalysis\u001b[0m\u001b[0;34m)\u001b[0m\u001b[0;34m\u001b[0m\u001b[0m\n\u001b[0m",
      "\u001b[0;31mNameError\u001b[0m: name 'analysis' is not defined"
     ]
    }
   ],
   "source": [
    "len(analysis)"
   ]
  },
  {
   "cell_type": "code",
   "execution_count": null,
   "metadata": {
    "collapsed": true
   },
   "outputs": [],
   "source": []
  }
 ],
 "metadata": {
  "kernelspec": {
   "display_name": "Python 2",
   "language": "python",
   "name": "python2"
  },
  "language_info": {
   "codemirror_mode": {
    "name": "ipython",
    "version": 2
   },
   "file_extension": ".py",
   "mimetype": "text/x-python",
   "name": "python",
   "nbconvert_exporter": "python",
   "pygments_lexer": "ipython2",
   "version": "2.7.11"
  }
 },
 "nbformat": 4,
 "nbformat_minor": 0
}
