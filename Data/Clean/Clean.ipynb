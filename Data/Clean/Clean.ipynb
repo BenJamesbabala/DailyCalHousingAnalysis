{
 "cells": [
  {
   "cell_type": "code",
   "execution_count": 1,
   "metadata": {
    "collapsed": true
   },
   "outputs": [],
   "source": [
    "import json\n",
    "with open('rentCollectionData.json') as d:\n",
    "    raw = d.read()\n",
    "raw = '[' + raw + ']'\n",
    "rentCollect = json.loads(raw)\n",
    "\n",
    "with open('addresses.json') as d:\n",
    "    raw2 = d.read()\n",
    "raw2 = '[' + raw2 + ']'\n",
    "address = json.loads(raw2)\n",
    "\n",
    "with open('cleanlistings.json') as d:\n",
    "    raw3 = d.read()\n",
    "raw3 = '[' + raw3 + ']'\n",
    "craig = json.loads(raw3)"
   ]
  },
  {
   "cell_type": "code",
   "execution_count": 2,
   "metadata": {
    "collapsed": false
   },
   "outputs": [],
   "source": [
    "rentCollect = rentCollect[0]['housing']\n",
    "address = address[0]['addrs']\n",
    "craig = craig[0]['listings']"
   ]
  },
  {
   "cell_type": "code",
   "execution_count": 3,
   "metadata": {
    "collapsed": false
   },
   "outputs": [
    {
     "data": {
      "text/plain": [
       "['2171', 'Allston Way', 37.8698901, -122.2661499]"
      ]
     },
     "execution_count": 3,
     "metadata": {},
     "output_type": "execute_result"
    }
   ],
   "source": [
    "address[0]"
   ]
  },
  {
   "cell_type": "code",
   "execution_count": 4,
   "metadata": {
    "collapsed": false
   },
   "outputs": [],
   "source": [
    "# clean rentCollect\n",
    "rent = []\n",
    "for i in range(len(rentCollect)):\n",
    "    temp = {}\n",
    "    temp['number'] = rentCollect[i]['number']\n",
    "    temp['street'] = rentCollect[i]['name'] \n",
    "    temp['avg0'] = rentCollect[i]['avg0']\n",
    "    temp['avg1'] = rentCollect[i]['avg1']\n",
    "    temp['avg2'] = rentCollect[i]['avg2']\n",
    "    temp['avg3'] = rentCollect[i]['avg3']\n",
    "    temp['avg4plus'] = rentCollect[i]['avg4plus']\n",
    "    rent.append(temp)"
   ]
  },
  {
   "cell_type": "code",
   "execution_count": 5,
   "metadata": {
    "collapsed": true
   },
   "outputs": [],
   "source": [
    "# clean address\n",
    "loc = []\n",
    "for i in range(len(address)):\n",
    "    temp = {}\n",
    "    temp['number'] = address[i][0]\n",
    "    temp['street'] = address[i][1] \n",
    "    temp['latitude'] = address[i][2]\n",
    "    temp['longitude'] = address[i][3]\n",
    "    loc.append(temp)"
   ]
  },
  {
   "cell_type": "code",
   "execution_count": 6,
   "metadata": {
    "collapsed": false
   },
   "outputs": [],
   "source": [
    "import pandas as pd\n",
    "rent_df = pd.DataFrame(rent)\n",
    "loc_df = pd.DataFrame(loc)\n",
    "craig_df = pd.DataFrame(craig)"
   ]
  },
  {
   "cell_type": "code",
   "execution_count": 7,
   "metadata": {
    "collapsed": false,
    "scrolled": true
   },
   "outputs": [],
   "source": [
    "df = pd.merge(rent_df, loc_df)\n",
    "craig_df = craig_df.drop(['_id', 'link', 'numImages', 'postingDate'], 1)"
   ]
  },
  {
   "cell_type": "code",
   "execution_count": 8,
   "metadata": {
    "collapsed": false
   },
   "outputs": [],
   "source": [
    "df1 = df.drop_duplicates(subset = 'latitude')\n",
    "df2 = craig_df.drop_duplicates('latitude')"
   ]
  },
  {
   "cell_type": "code",
   "execution_count": 9,
   "metadata": {
    "collapsed": false
   },
   "outputs": [],
   "source": [
    "result = pd.concat([df1, df2])\n",
    "result = result.drop_duplicates('latitude')"
   ]
  },
  {
   "cell_type": "code",
   "execution_count": 10,
   "metadata": {
    "collapsed": false
   },
   "outputs": [],
   "source": [
    "result = result.reset_index(drop = True)\n",
    "result = result.fillna(value = 0)"
   ]
  },
  {
   "cell_type": "code",
   "execution_count": 12,
   "metadata": {
    "collapsed": false
   },
   "outputs": [
    {
     "name": "stderr",
     "output_type": "stream",
     "text": [
      "/Users/yikaluo/anaconda/lib/python3.5/site-packages/ipykernel/__main__.py:4: SettingWithCopyWarning: \n",
      "A value is trying to be set on a copy of a slice from a DataFrame\n",
      "\n",
      "See the caveats in the documentation: http://pandas.pydata.org/pandas-docs/stable/indexing.html#indexing-view-versus-copy\n"
     ]
    }
   ],
   "source": [
    "# address\n",
    "for i in range(2291):\n",
    "    if result['address'][i] == 0:\n",
    "        result['address'][i] = str(result['number'][i]) + ' ' + str(result['street'][i])\n",
    "        "
   ]
  },
  {
   "cell_type": "code",
   "execution_count": 13,
   "metadata": {
    "collapsed": false
   },
   "outputs": [],
   "source": [
    "result = result.drop(['number', 'street'], 1)\n",
    "result['price per room'] = pd.Series(0, index=result.index)"
   ]
  },
  {
   "cell_type": "code",
   "execution_count": 14,
   "metadata": {
    "collapsed": false
   },
   "outputs": [
    {
     "name": "stderr",
     "output_type": "stream",
     "text": [
      "/Users/yikaluo/anaconda/lib/python3.5/site-packages/ipykernel/__main__.py:23: SettingWithCopyWarning: \n",
      "A value is trying to be set on a copy of a slice from a DataFrame\n",
      "\n",
      "See the caveats in the documentation: http://pandas.pydata.org/pandas-docs/stable/indexing.html#indexing-view-versus-copy\n",
      "/Users/yikaluo/anaconda/lib/python3.5/site-packages/ipykernel/__main__.py:7: SettingWithCopyWarning: \n",
      "A value is trying to be set on a copy of a slice from a DataFrame\n",
      "\n",
      "See the caveats in the documentation: http://pandas.pydata.org/pandas-docs/stable/indexing.html#indexing-view-versus-copy\n",
      "/Users/yikaluo/anaconda/lib/python3.5/site-packages/ipykernel/__main__.py:6: SettingWithCopyWarning: \n",
      "A value is trying to be set on a copy of a slice from a DataFrame\n",
      "\n",
      "See the caveats in the documentation: http://pandas.pydata.org/pandas-docs/stable/indexing.html#indexing-view-versus-copy\n"
     ]
    }
   ],
   "source": [
    "# price\n",
    "\n",
    "for i in range(2291):\n",
    "    if result['title'][i] != 0:\n",
    "        if result['bedrooms'][i] == 0:\n",
    "            result['bedrooms'][i] = 1\n",
    "        result['price per room'][i] = result['price'][i] / result['bedrooms'][i]\n",
    "    else:\n",
    "        total = 0\n",
    "        num = 0\n",
    "        if result['avg0'][i] != 0:\n",
    "            total += result['avg0'][i]\n",
    "            num += 1\n",
    "        if result['avg1'][i] != 0:\n",
    "            total += result['avg1'][i]\n",
    "            num += 1\n",
    "        if result['avg2'][i] != 0:\n",
    "            total += result['avg2'][i]\n",
    "            num += 1\n",
    "        if result['avg3'][i] != 0:\n",
    "            total += result['avg3'][i]\n",
    "            num += 1\n",
    "        result['price per room'][i] = total / num"
   ]
  },
  {
   "cell_type": "code",
   "execution_count": 17,
   "metadata": {
    "collapsed": false
   },
   "outputs": [],
   "source": [
    "result = result.drop(['avg0', 'avg1', 'avg2', 'avg3', 'avg4plus', 'price'], 1)"
   ]
  },
  {
   "cell_type": "code",
   "execution_count": 18,
   "metadata": {
    "collapsed": true
   },
   "outputs": [],
   "source": [
    "result.to_csv(\"clean_rent2.csv\")"
   ]
  },
  {
   "cell_type": "code",
   "execution_count": null,
   "metadata": {
    "collapsed": true
   },
   "outputs": [],
   "source": []
  }
 ],
 "metadata": {
  "kernelspec": {
   "display_name": "Python 2",
   "language": "python",
   "name": "python2"
  },
  "language_info": {
   "codemirror_mode": {
    "name": "ipython",
    "version": 2
   },
   "file_extension": ".py",
   "mimetype": "text/x-python",
   "name": "python",
   "nbconvert_exporter": "python",
   "pygments_lexer": "ipython2",
   "version": "2.7.10"
  }
 },
 "nbformat": 4,
 "nbformat_minor": 0
}
