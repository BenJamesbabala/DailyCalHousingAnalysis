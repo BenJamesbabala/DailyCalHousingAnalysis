{
 "cells": [
  {
   "cell_type": "code",
   "execution_count": null,
   "metadata": {
    "collapsed": true
   },
   "outputs": [],
   "source": [
    "df = pd.read_csv(\"final_edge_distance.csv\")\n",
    "df = df[(df['latitude'] > 37.84) \n",
    "        & (df['latitude'] < 37.9) \n",
    "        & (df['longitude'] < -122.24) \n",
    "        & (df['longitude'] > -122.3)\n",
    "        & (df['price per room'] > 400)\n",
    "        & (df['price per room'] < 3500)]\n",
    "df['sqft per room'] = df['sqft'] / df['bedrooms']\n",
    "\n",
    "df = df[['address', 'price per room', 'latitude', 'longitude', 'edge_distance', \n",
    "            'sqft per room', 'avg_rating', '#cafes', '#pubs', 'bedrooms', 'bathrooms']]\n",
    "df['sqft per room'] = df['sqft per room'].round()\n",
    "df['edge_distance'] = df['edge_distance'].round(2)\n",
    "df.to_csv(\"final_no_outlier\")"
   ]
  }
 ],
 "metadata": {
  "kernelspec": {
   "display_name": "Python 3",
   "language": "python",
   "name": "python3"
  },
  "language_info": {
   "codemirror_mode": {
    "name": "ipython",
    "version": 3
   },
   "file_extension": ".py",
   "mimetype": "text/x-python",
   "name": "python",
   "nbconvert_exporter": "python",
   "pygments_lexer": "ipython3",
   "version": "3.5.1"
  }
 },
 "nbformat": 4,
 "nbformat_minor": 0
}
