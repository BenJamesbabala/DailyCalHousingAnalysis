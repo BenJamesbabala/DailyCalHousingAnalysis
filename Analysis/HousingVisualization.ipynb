{
 "cells": [
  {
   "cell_type": "code",
   "execution_count": 69,
   "metadata": {
    "collapsed": false
   },
   "outputs": [
    {
     "name": "stdout",
     "output_type": "stream",
     "text": [
      "Populating the interactive namespace from numpy and matplotlib\n"
     ]
    },
    {
     "name": "stderr",
     "output_type": "stream",
     "text": [
      "WARNING: pylab import has clobbered these variables: ['plt']\n",
      "`%matplotlib` prevents importing * from pylab and numpy\n"
     ]
    }
   ],
   "source": [
    "import numpy as np\n",
    "import matplotlib as plt\n",
    "import csv\n",
    "import json\n",
    "import pandas as pd\n",
    "import pymongo\n",
    "%pylab inline "
   ]
  },
  {
   "cell_type": "markdown",
   "metadata": {},
   "source": [
    "Which visualizations/tools do we want for this?\n",
    "\n",
    "1. A price estimater, where you enter in desired qualities of an apartment, and we return an estimated price for this apartment.\n",
    "\n",
    "2. A tool to determine whether listings are over or underpriced, based upon the factors you enter (actually, just enter a craigslist listing, and we return a determination of over/underpricing, and the degree.\n",
    "\n",
    "3. An analysis of what factors influence prices: of when you control for other things, how much does distance to campus affect pricing? Square footage? Time since original posting? Number of images in the listing? Which of these factors is the most influentials (how to measure that - research? \n",
    "\n",
    "\n"
   ]
  },
  {
   "cell_type": "code",
   "execution_count": 27,
   "metadata": {
    "collapsed": true
   },
   "outputs": [],
   "source": [
    "def generateCurrentCSV():\n",
    "    collection = pymongo.MongoClient().HousingListings.listings\n",
    "    listings = [listing for listing in collection.find()]\n",
    "    for el in listings:\n",
    "        del el['_id']\n",
    "        del el['link']\n",
    "        del el['description']\n",
    "    \n",
    "    with open(\"listings.csv\", 'w') as csvfile:\n",
    "        writer = csv.DictWriter(csvfile, fieldnames=listings[0].keys())\n",
    "        writer.writeheader()\n",
    "        for el in listings:\n",
    "            writer.writerow(el)"
   ]
  },
  {
   "cell_type": "code",
   "execution_count": 52,
   "metadata": {
    "collapsed": false
   },
   "outputs": [],
   "source": [
    "generateCurrentCSV()"
   ]
  },
  {
   "cell_type": "code",
   "execution_count": 62,
   "metadata": {
    "collapsed": false
   },
   "outputs": [
    {
     "data": {
      "text/plain": [
       "1555"
      ]
     },
     "execution_count": 62,
     "metadata": {},
     "output_type": "execute_result"
    }
   ],
   "source": [
    "cv = pd.read_csv(\"listings.csv\")\n",
    "cv['price'].as_matrix()\n"
   ]
  },
  {
   "cell_type": "code",
   "execution_count": 94,
   "metadata": {
    "collapsed": false
   },
   "outputs": [
    {
     "name": "stdout",
     "output_type": "stream",
     "text": [
      "<class 'numpy.ndarray'>\n"
     ]
    },
    {
     "data": {
      "text/plain": [
       "(array([  2.06400000e+03,   0.00000000e+00,   0.00000000e+00,\n",
       "          0.00000000e+00,   0.00000000e+00,   0.00000000e+00,\n",
       "          0.00000000e+00,   0.00000000e+00,   1.00000000e+00,\n",
       "          1.00000000e+00]),\n",
       " array([  5.00000000e+01,   3.60044500e+06,   7.20084000e+06,\n",
       "          1.08012350e+07,   1.44016300e+07,   1.80020250e+07,\n",
       "          2.16024200e+07,   2.52028150e+07,   2.88032100e+07,\n",
       "          3.24036050e+07,   3.60040000e+07]),\n",
       " <a list of 10 Patch objects>)"
      ]
     },
     "execution_count": 94,
     "metadata": {},
     "output_type": "execute_result"
    },
    {
     "data": {
      "image/png": "[encoded data removed]",
      "text/plain": [
       "<matplotlib.figure.Figure at 0x10fbc7780>"
      ]
     },
     "metadata": {},
     "output_type": "display_data"
    }
   ],
   "source": [
    "def histogramOfPrices():\n",
    "    cv = pd.read_csv(\"listings.csv\")\n",
    "    #f = [int(price) for price in cv['price'].tolist()]\n",
    "    curr = cv['price'].as_matrix()\n",
    "    l = np.array([el for el in curr])\n",
    "    print(type(l))\n",
    "    return plt.hist(l)#cv['price'].as_matrix())\n",
    "    \n",
    "histogramOfPrices()\n",
    "\n"
   ]
  },
  {
   "cell_type": "code",
   "execution_count": 93,
   "metadata": {
    "collapsed": false
   },
   "outputs": [
    {
     "name": "stdout",
     "output_type": "stream",
     "text": [
      "<class 'numpy.ndarray'>\n"
     ]
    },
    {
     "data": {
      "text/plain": [
       "(array([   5.,    5.,    9.,    8.,   16.,   21.,   29.,   37.,   42.,\n",
       "          53.,   76.,  104.,  124.,  191.,  180.,  253.,  276.,  336.,\n",
       "         369.,  388.,  427.,  461.,  493.,  513.,  554.,  517.,  507.,\n",
       "         457.,  468.,  439.,  429.,  356.,  328.,  270.,  274.,  205.,\n",
       "         149.,  159.,  111.,   94.,   75.,   54.,   42.,   34.,   21.,\n",
       "          16.,   10.,    6.,    7.,    2.]),\n",
       " array([  50.28597794,   52.26617655,   54.24637516,   56.22657377,\n",
       "          58.20677238,   60.186971  ,   62.16716961,   64.14736822,\n",
       "          66.12756683,   68.10776544,   70.08796405,   72.06816266,\n",
       "          74.04836127,   76.02855988,   78.00875849,   79.9889571 ,\n",
       "          81.96915572,   83.94935433,   85.92955294,   87.90975155,\n",
       "          89.88995016,   91.87014877,   93.85034738,   95.83054599,\n",
       "          97.8107446 ,   99.79094321,  101.77114183,  103.75134044,\n",
       "         105.73153905,  107.71173766,  109.69193627,  111.67213488,\n",
       "         113.65233349,  115.6325321 ,  117.61273071,  119.59292932,\n",
       "         121.57312794,  123.55332655,  125.53352516,  127.51372377,\n",
       "         129.49392238,  131.47412099,  133.4543196 ,  135.43451821,\n",
       "         137.41471682,  139.39491543,  141.37511404,  143.35531266,\n",
       "         145.33551127,  147.31570988,  149.29590849]),\n",
       " <a list of 50 Patch objects>)"
      ]
     },
     "execution_count": 93,
     "metadata": {},
     "output_type": "execute_result"
    },
    {
     "data": {
      "image/png": "[encoded data removed]",
      "text/plain": [
       "<matplotlib.figure.Figure at 0x10fbcd208>"
      ]
     },
     "metadata": {},
     "output_type": "display_data"
    }
   ],
   "source": [
    "mu, sigma = 100, 15\n",
    "x = mu + sigma * np.random.randn(10000)\n",
    "print(type(x))\n",
    "plt.hist(x, 50)"
   ]
  },
  {
   "cell_type": "code",
   "execution_count": null,
   "metadata": {
    "collapsed": true
   },
   "outputs": [],
   "source": []
  },
  {
   "cell_type": "code",
   "execution_count": null,
   "metadata": {
    "collapsed": true
   },
   "outputs": [],
   "source": []
  }
 ],
 "metadata": {
  "kernelspec": {
   "display_name": "Python 3",
   "language": "python",
   "name": "python3"
  },
  "language_info": {
   "codemirror_mode": {
    "name": "ipython",
    "version": 3
   },
   "file_extension": ".py",
   "mimetype": "text/x-python",
   "name": "python",
   "nbconvert_exporter": "python",
   "pygments_lexer": "ipython3",
   "version": "3.4.4"
  }
 },
 "nbformat": 4,
 "nbformat_minor": 0
}
