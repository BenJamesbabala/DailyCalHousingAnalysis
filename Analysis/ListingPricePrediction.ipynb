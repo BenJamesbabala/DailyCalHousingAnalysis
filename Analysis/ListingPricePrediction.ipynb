{
 "cells": [
  {
   "cell_type": "code",
   "execution_count": 4,
   "metadata": {
    "collapsed": false
   },
   "outputs": [
    {
     "ename": "ImportError",
     "evalue": "No module named pandas",
     "output_type": "error",
     "traceback": [
      "\u001b[0;31m---------------------------------------------------------------------------\u001b[0m",
      "\u001b[0;31mImportError\u001b[0m                               Traceback (most recent call last)",
      "\u001b[0;32m<ipython-input-4-7b90af36ff0f>\u001b[0m in \u001b[0;36m<module>\u001b[0;34m()\u001b[0m\n\u001b[0;32m----> 1\u001b[0;31m \u001b[0;32mimport\u001b[0m \u001b[0mpandas\u001b[0m \u001b[0;32mas\u001b[0m \u001b[0mpd\u001b[0m\u001b[0;34m\u001b[0m\u001b[0m\n\u001b[0m\u001b[1;32m      2\u001b[0m \u001b[0;32mimport\u001b[0m \u001b[0mmatplotlib\u001b[0m\u001b[0;34m\u001b[0m\u001b[0m\n\u001b[1;32m      3\u001b[0m \u001b[0;32mimport\u001b[0m \u001b[0mmatplotlib\u001b[0m\u001b[0;34m.\u001b[0m\u001b[0mpyplot\u001b[0m \u001b[0;32mas\u001b[0m \u001b[0mplt\u001b[0m\u001b[0;34m\u001b[0m\u001b[0m\n\u001b[1;32m      4\u001b[0m \u001b[0;31m#from numpy import *\u001b[0m\u001b[0;34m\u001b[0m\u001b[0;34m\u001b[0m\u001b[0m\n\u001b[1;32m      5\u001b[0m \u001b[0;32mimport\u001b[0m \u001b[0mnumpy\u001b[0m \u001b[0;32mas\u001b[0m \u001b[0mnp\u001b[0m\u001b[0;34m\u001b[0m\u001b[0m\n",
      "\u001b[0;31mImportError\u001b[0m: No module named pandas"
     ]
    }
   ],
   "source": [
    "import pandas as pd\n",
    "import matplotlib\n",
    "import matplotlib.pyplot as plt\n",
    "#from numpy import *\n",
    "import numpy as np\n",
    "import pymongo\n",
    "%pylab inline"
   ]
  },
  {
   "cell_type": "code",
   "execution_count": 5,
   "metadata": {
    "collapsed": false
   },
   "outputs": [
    {
     "name": "stdout",
     "output_type": "stream",
     "text": [
      "\n",
      "/Users/yikaluo/anaconda/envs/py27/lib/python27.zip\n",
      "/Users/yikaluo/anaconda/envs/py27/lib/python2.7\n",
      "/Users/yikaluo/anaconda/envs/py27/lib/python2.7/plat-darwin\n",
      "/Users/yikaluo/anaconda/envs/py27/lib/python2.7/plat-mac\n",
      "/Users/yikaluo/anaconda/envs/py27/lib/python2.7/plat-mac/lib-scriptpackages\n",
      "/Users/yikaluo/anaconda/envs/py27/lib/python2.7/lib-tk\n",
      "/Users/yikaluo/anaconda/envs/py27/lib/python2.7/lib-old\n",
      "/Users/yikaluo/anaconda/envs/py27/lib/python2.7/lib-dynload\n",
      "/Users/yikaluo/anaconda/envs/py27/lib/python2.7/site-packages/setuptools-20.2.2-py2.7.egg\n",
      "/Users/yikaluo/anaconda/envs/py27/lib/python2.7/site-packages\n",
      "/Users/yikaluo/anaconda/envs/py27/lib/python2.7/site-packages/IPython/extensions\n",
      "/Users/yikaluo/.ipython\n"
     ]
    }
   ],
   "source": [
    "import sys  \n",
    "for x in sys.path: print x"
   ]
  },
  {
   "cell_type": "code",
   "execution_count": null,
   "metadata": {
    "collapsed": true
   },
   "outputs": [],
   "source": [
    "def mongoConnection():\n",
    "    return pymongo.MongoClient().HousingListings.listings"
   ]
  },
  {
   "cell_type": "code",
   "execution_count": null,
   "metadata": {
    "collapsed": false
   },
   "outputs": [],
   "source": [
    "res = mongoConnection().find({\"sqft\": {\"$exists\": True}, \n",
    "                              \"bathrooms\": {\"$exists\": True},\n",
    "                              \"latitude\": {\"$exists\": True},\n",
    "                              \"bedrooms\": {\"$exists\": True},\n",
    "                              \"longitude\": {\"$exists\": True},\n",
    "                              \"numImages\": {\"$exists\": True},\n",
    "                              \"description\": {\"$exists\": True},\n",
    "                              \"postingDate\": {\"$exists\": True}\n",
    "                             })"
   ]
  },
  {
   "cell_type": "code",
   "execution_count": null,
   "metadata": {
    "collapsed": false
   },
   "outputs": [],
   "source": [
    "#Find price of nearby apartments - average of apartments within 5 blocks.\n",
    "#Find price of \n",
    "len(list(res))"
   ]
  },
  {
   "cell_type": "code",
   "execution_count": null,
   "metadata": {
    "collapsed": false
   },
   "outputs": [],
   "source": [
    "res[450]"
   ]
  },
  {
   "cell_type": "code",
   "execution_count": null,
   "metadata": {
    "collapsed": false
   },
   "outputs": [],
   "source": [
    "import geopy\n",
    "from geopy.distance import vincenty\n",
    "import datetime\n",
    "\n",
    "now = datetime.datetime.now()\n",
    "def nowfn():\n",
    "    global now\n",
    "    return now\n",
    "    \n",
    "\n",
    "def get_distance(lat, lon):\n",
    "    center = (37.872105, -122.259470)\n",
    "    return vincenty(center, (lat, lon)).miles \n",
    "\n",
    "def featurize(listing):\n",
    "    \n",
    "    return [\n",
    "                listing[\"bedrooms\"], listing['bathrooms'],\n",
    "                listing[\"sqft\"], get_distance(listing['latitude'], listing['longitude']),\n",
    "                listing['numImages'], len(listing['description'].split(\" \")),\n",
    "                (nowfn() - datetime.datetime.fromtimestamp(listing['postingDate'])).days\n",
    "           ]"
   ]
  },
  {
   "cell_type": "code",
   "execution_count": null,
   "metadata": {
    "collapsed": false
   },
   "outputs": [],
   "source": [
    "nowfn()\n"
   ]
  },
  {
   "cell_type": "code",
   "execution_count": null,
   "metadata": {
    "collapsed": false
   },
   "outputs": [],
   "source": [
    "featurize(res[1000])"
   ]
  },
  {
   "cell_type": "code",
   "execution_count": null,
   "metadata": {
    "collapsed": false
   },
   "outputs": [],
   "source": [
    "def featurized(cursor):\n",
    "    x = []\n",
    "    y = []\n",
    "    for listing in cursor:\n",
    "        x.append(featurize(listing))\n",
    "        y.append(listing['price'])\n",
    "    return np.array(x), np.array(y)"
   ]
  },
  {
   "cell_type": "code",
   "execution_count": null,
   "metadata": {
    "collapsed": false
   },
   "outputs": [],
   "source": [
    "x, y = featurized(res)"
   ]
  },
  {
   "cell_type": "code",
   "execution_count": null,
   "metadata": {
    "collapsed": false
   },
   "outputs": [],
   "source": [
    "from sklearn.svm import SVR\n"
   ]
  },
  {
   "cell_type": "code",
   "execution_count": null,
   "metadata": {
    "collapsed": false
   },
   "outputs": [],
   "source": [
    "model.predict(featurize(res[450]))"
   ]
  },
  {
   "cell_type": "code",
   "execution_count": null,
   "metadata": {
    "collapsed": false
   },
   "outputs": [],
   "source": [
    "def pullListings():\n",
    "    return list(mongoConnection().find({\"sqft\": {\"$exists\": True}, \n",
    "                              \"bathrooms\": {\"$exists\": True},\n",
    "                              \"latitude\": {\"$exists\": True},\n",
    "                              \"bedrooms\": {\"$exists\": True},\n",
    "                              \"longitude\": {\"$exists\": True},\n",
    "                              \"numImages\": {\"$exists\": True},\n",
    "                              \"description\": {\"$exists\": True},\n",
    "                              \"postingDate\": {\"$exists\": True}\n",
    "                             }))\n",
    "\n",
    "def partition(samples, trainsize, valsize):\n",
    "    permute = np.random.permutation(samples)\n",
    "    return permute[:valsize], permute[len(permute)-trainsize:]\n",
    "\n",
    "def train(samples, model):\n",
    "    x, y = featurized(samples)\n",
    "    model.fit(x,y)\n",
    "    return model\n",
    "\n",
    "def pipeline(listings, model, valsize=500, trainsize=1474-500):\n",
    "    validation, training = partition(listings, valsize, trainsize)\n",
    "    model = train(training, model)\n",
    "    return featurized(validation), featurized(training), model\n",
    "    \n",
    "    "
   ]
  },
  {
   "cell_type": "code",
   "execution_count": null,
   "metadata": {
    "collapsed": false
   },
   "outputs": [],
   "source": [
    "validation, training, model = pipeline(pullListings(), SVR())\n",
    "\n",
    "val_feats, val_labels = validation\n",
    "train_feats, train_labels = training"
   ]
  },
  {
   "cell_type": "code",
   "execution_count": null,
   "metadata": {
    "collapsed": false
   },
   "outputs": [],
   "source": [
    "print(model.predict(val_feats[12]))\n",
    "print val_labels[12]"
   ]
  },
  {
   "cell_type": "code",
   "execution_count": null,
   "metadata": {
    "collapsed": false
   },
   "outputs": [],
   "source": [
    "def rss(preds, trues):\n",
    "    return np.sum((preds-trues)**2)\n",
    "\n",
    "def gen_predictions(model, val_set):\n",
    "    return model.predict(val_set)\n",
    "\n",
    "def rssFromModel(model , val_set, true_labels):\n",
    "    preds = gen_predictions(model, val_set)\n",
    "    return rss(preds, true_labels)\n",
    "    \n",
    "def plotPipe(model, train_sizes=[2, 100, 200, 300, 400, 500, 600, 700, 800, 974]):\n",
    "    listings = pullListings()\n",
    "#     for train\n",
    "#     validation, training, model = pipeline(pullListings(), SVR())\n",
    "#     val_feats, val_labels = validation\n",
    "#     train_feats, train_labels = training\n",
    "    error = []\n",
    "    validation, training = partition(listings, len(listings)-500, 500)\n",
    "    val_feats, val_labels = featurized(validation)\n",
    "    for trainsize in train_sizes:\n",
    "        training_n = partition(training, trainsize, 0)[1]\n",
    "        model = train(training_n, model)\n",
    "#        training = featurized(training)\n",
    "        \n",
    "#         train_feats, train_labels = training\n",
    "        c = rssFromModel(model, val_feats, val_labels)\n",
    "        print str(trainsize) + \": \" + str(c)\n",
    "        error.append(c)\n",
    "    plt.plot(train_sizes, error)\n",
    "    plt.xlabel(\"Number of training samples\")\n",
    "    plt.ylabel(\"Residual sum of squared error\")\n",
    "    plt.show()"
   ]
  },
  {
   "cell_type": "code",
   "execution_count": null,
   "metadata": {
    "collapsed": false
   },
   "outputs": [],
   "source": [
    "plotPipe(SVR())"
   ]
  },
  {
   "cell_type": "code",
   "execution_count": null,
   "metadata": {
    "collapsed": false
   },
   "outputs": [],
   "source": [
    "# mod = SVR(C=0.1, kernel='linear')\n",
    "# plotPipe(mod)"
   ]
  },
  {
   "cell_type": "code",
   "execution_count": null,
   "metadata": {
    "collapsed": false
   },
   "outputs": [],
   "source": [
    "from sklearn.kernel_ridge import KernelRidge\n",
    "\n",
    "mod = KernelRidge(alpha=.1, kernel=\"linear\")\n",
    "plotPipe(mod)"
   ]
  },
  {
   "cell_type": "code",
   "execution_count": null,
   "metadata": {
    "collapsed": false
   },
   "outputs": [],
   "source": [
    "mod = KernelRidge(alpha=0.05, kernel=\"rbf\")\n",
    "plotPipe(mod)"
   ]
  },
  {
   "cell_type": "code",
   "execution_count": null,
   "metadata": {
    "collapsed": false
   },
   "outputs": [],
   "source": [
    "mod = KernelRidge(alpha=0.1, kernel=\"poly\")\n",
    "plotPipe(mod)"
   ]
  },
  {
   "cell_type": "code",
   "execution_count": null,
   "metadata": {
    "collapsed": false
   },
   "outputs": [],
   "source": [
    "final = KernelRidge(alpha=.1, kernel=\"linear\")\n",
    "l = pullListings()\n",
    "feats, labels = featurized(l)\n",
    "final.fit(feats, labels)"
   ]
  },
  {
   "cell_type": "code",
   "execution_count": null,
   "metadata": {
    "collapsed": false
   },
   "outputs": [],
   "source": [
    "import requests\n",
    "from lxml import html\n",
    "import time\n",
    "\n",
    "def linkToVector(link):\n",
    "    \n",
    "        r = requests.get(link)\n",
    "        response = tree = html.fromstring(r.text)\n",
    "        \n",
    "        item = {}\n",
    "        curr = response.xpath(\"//*[@id='pagecontainer']/section/section/div[2]/p[2]/time/text()\")[0].split()[0]\n",
    "        item[\"postingDate\"] = int(time.mktime(datetime.datetime.strptime(curr, \"%Y-%m-%d\").timetuple()))\n",
    "        #pre-processing for getting the price in the right format\n",
    "        #item[\"area\"] = ''.join(temp.xpath(\"span\")[2].xpath(\"span[@class='pnr']\").xpath(\"small/text()\").extract())\n",
    "        item[\"price\"] = int(response.xpath(\"//*[@id='pagecontainer']/section/h2/span[2]/span[1]/text()\")[0].replace(\"$\",\"\"))#price.replace(\"$\",\"\")\n",
    "\n",
    "        maplocation = response.xpath(\"//div[contains(@id,'map')]\")\n",
    "        latitude = ''.join(maplocation[0].xpath('@data-latitude'))\n",
    "        longitude = ''.join(maplocation[0].xpath('@data-longitude'))\n",
    "        tmp = response.xpath(\"//*[@id='pagecontainer']/section/section/div[1]/div[1]/div[2]/text()\")\n",
    "        if len(tmp) > 0:\n",
    "            item['address'] = tmp[0]\n",
    "        if latitude:\n",
    "            item['latitude'] = float(latitude)\n",
    "        if longitude:\n",
    "            item['longitude'] = float(longitude)\n",
    "        #attr = response.xpath(\"//p[@class='attrgroup']\")\n",
    "    try:\n",
    "        item[\"bedrooms\"] = int(response.xpath(\"//*[@id='pagecontainer']/section/section/div[1]/p[1]/span[1]/b[1]/text()\")[0])#int(attr.xpath(\"span/b/text()\")[0])\n",
    "        #bath = attr.xpath(\"span/b/text()\")[1]\n",
    "        item[\"sqft\"] = int(response.xpath(\"//*[@id='pagecontainer']/section/section/div[1]/p[1]/span[2]/b/text()\")[0])\n",
    "        #int(''.join(attr.xpath(\"span\")[1].xpath(\"b/text()\")))\n",
    "        #if(bath.isdigit()):\n",
    "        item[\"bathrooms\"] = int(response.xpath(\"//*[@id='pagecontainer']/section/section/div[1]/p[1]/span[1]/b[2]/text()\")[0])#int(attr.xpath(\"span/b/text()\")[1])\n",
    "         except:\n",
    "            pass\n",
    "        item['description'] = \"\".join(response.xpath(\"//section[@id='postingbody']/text()\"))#.xpath(\"text()\")) \n",
    "        item[\"numImages\"] = len(response.xpath(\"//div[@id='thumbs']/a\"))#.xpath(\"a\"))\n",
    "        return featurize(item)\n"
   ]
  },
  {
   "cell_type": "code",
   "execution_count": null,
   "metadata": {
    "collapsed": false
   },
   "outputs": [],
   "source": [
    "linkToVector(\"https://sfbay.craigslist.org/eby/apa/5507931799.html\")"
   ]
  },
  {
   "cell_type": "code",
   "execution_count": null,
   "metadata": {
    "collapsed": false
   },
   "outputs": [],
   "source": [
    "def predictionFromLink(link, model):\n",
    "    vector = linkToVector(link)\n",
    "    return model.predict(vector)\n",
    "\n",
    "predictionFromLink(\"https://sfbay.craigslist.org/eby/apa/5507931799.html\", final)"
   ]
  },
  {
   "cell_type": "code",
   "execution_count": null,
   "metadata": {
    "collapsed": false
   },
   "outputs": [],
   "source": [
    "predictionFromLink(\"https://sfbay.craigslist.org/eby/apa/5517648696.html\", final)"
   ]
  },
  {
   "cell_type": "code",
   "execution_count": null,
   "metadata": {
    "collapsed": true
   },
   "outputs": [],
   "source": []
  }
 ],
 "metadata": {
  "kernelspec": {
   "display_name": "Python 2",
   "language": "python",
   "name": "python2"
  },
  "language_info": {
   "codemirror_mode": {
    "name": "ipython",
    "version": 2
   },
   "file_extension": ".py",
   "mimetype": "text/x-python",
   "name": "python",
   "nbconvert_exporter": "python",
   "pygments_lexer": "ipython2",
   "version": "2.7.11"
  }
 },
 "nbformat": 4,
 "nbformat_minor": 0
}
