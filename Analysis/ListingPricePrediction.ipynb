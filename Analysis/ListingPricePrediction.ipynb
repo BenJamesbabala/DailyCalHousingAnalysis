{
 "cells": [
  {
   "cell_type": "code",
   "execution_count": 4,
   "metadata": {
    "collapsed": false
   },
   "outputs": [
    {
     "ename": "ImportError",
     "evalue": "No module named pandas",
     "output_type": "error",
     "traceback": [
      "\u001b[0;31m---------------------------------------------------------------------------\u001b[0m",
      "\u001b[0;31mImportError\u001b[0m                               Traceback (most recent call last)",
      "\u001b[0;32m<ipython-input-4-7b90af36ff0f>\u001b[0m in \u001b[0;36m<module>\u001b[0;34m()\u001b[0m\n\u001b[0;32m----> 1\u001b[0;31m \u001b[0;32mimport\u001b[0m \u001b[0mpandas\u001b[0m \u001b[0;32mas\u001b[0m \u001b[0mpd\u001b[0m\u001b[0;34m\u001b[0m\u001b[0m\n\u001b[0m\u001b[1;32m      2\u001b[0m \u001b[0;32mimport\u001b[0m \u001b[0mmatplotlib\u001b[0m\u001b[0;34m\u001b[0m\u001b[0m\n\u001b[1;32m      3\u001b[0m \u001b[0;32mimport\u001b[0m \u001b[0mmatplotlib\u001b[0m\u001b[0;34m.\u001b[0m\u001b[0mpyplot\u001b[0m \u001b[0;32mas\u001b[0m \u001b[0mplt\u001b[0m\u001b[0;34m\u001b[0m\u001b[0m\n\u001b[1;32m      4\u001b[0m \u001b[0;31m#from numpy import *\u001b[0m\u001b[0;34m\u001b[0m\u001b[0;34m\u001b[0m\u001b[0m\n\u001b[1;32m      5\u001b[0m \u001b[0;32mimport\u001b[0m \u001b[0mnumpy\u001b[0m \u001b[0;32mas\u001b[0m \u001b[0mnp\u001b[0m\u001b[0;34m\u001b[0m\u001b[0m\n",
      "\u001b[0;31mImportError\u001b[0m: No module named pandas"
     ]
    }
   ],
   "source": [
    "import pandas as pd\n",
    "import matplotlib\n",
    "import matplotlib.pyplot as plt\n",
    "#from numpy import *\n",
    "import numpy as np\n",
    "import pymongo\n",
    "%pylab inline"
   ]
  },
  {
   "cell_type": "code",
<<<<<<< HEAD
   "execution_count": 35,
   "metadata": {
    "collapsed": true
   },
   "outputs": [],
   "source": [
    "import warnings\n",
    "warnings.filterwarnings(\"ignore\", category=DeprecationWarning)"
=======
   "execution_count": 5,
   "metadata": {
    "collapsed": false
   },
   "outputs": [
    {
     "name": "stdout",
     "output_type": "stream",
     "text": [
      "\n",
      "/Users/yikaluo/anaconda/envs/py27/lib/python27.zip\n",
      "/Users/yikaluo/anaconda/envs/py27/lib/python2.7\n",
      "/Users/yikaluo/anaconda/envs/py27/lib/python2.7/plat-darwin\n",
      "/Users/yikaluo/anaconda/envs/py27/lib/python2.7/plat-mac\n",
      "/Users/yikaluo/anaconda/envs/py27/lib/python2.7/plat-mac/lib-scriptpackages\n",
      "/Users/yikaluo/anaconda/envs/py27/lib/python2.7/lib-tk\n",
      "/Users/yikaluo/anaconda/envs/py27/lib/python2.7/lib-old\n",
      "/Users/yikaluo/anaconda/envs/py27/lib/python2.7/lib-dynload\n",
      "/Users/yikaluo/anaconda/envs/py27/lib/python2.7/site-packages/setuptools-20.2.2-py2.7.egg\n",
      "/Users/yikaluo/anaconda/envs/py27/lib/python2.7/site-packages\n",
      "/Users/yikaluo/anaconda/envs/py27/lib/python2.7/site-packages/IPython/extensions\n",
      "/Users/yikaluo/.ipython\n"
     ]
    }
   ],
   "source": [
    "import sys  \n",
    "for x in sys.path: print x"
>>>>>>> 78d46a441396d79d43107c17adaaee260fceab2c
   ]
  },
  {
   "cell_type": "code",
<<<<<<< HEAD
   "execution_count": 2,
=======
   "execution_count": null,
>>>>>>> 78d46a441396d79d43107c17adaaee260fceab2c
   "metadata": {
    "collapsed": true
   },
   "outputs": [],
   "source": [
    "def mongoConnection():\n",
    "    return pymongo.MongoClient().HousingListings.listings"
   ]
  },
  {
   "cell_type": "code",
   "execution_count": null,
   "metadata": {
    "collapsed": false
   },
   "outputs": [],
   "source": [
    "res = mongoConnection().find({\"sqft\": {\"$exists\": True}, \n",
    "                              \"bathrooms\": {\"$exists\": True},\n",
    "                              \"latitude\": {\"$exists\": True},\n",
    "                              \"bedrooms\": {\"$exists\": True},\n",
    "                              \"longitude\": {\"$exists\": True},\n",
    "                              \"numImages\": {\"$exists\": True},\n",
    "                              \"description\": {\"$exists\": True},\n",
    "                              \"postingDate\": {\"$exists\": True}\n",
    "                             })"
   ]
  },
  {
   "cell_type": "code",
   "execution_count": null,
   "metadata": {
    "collapsed": false
   },
   "outputs": [],
   "source": [
    "#Find price of nearby apartments - average of apartments within 5 blocks.\n",
    "#Find price of \n",
    "len(list(res))"
   ]
  },
  {
   "cell_type": "code",
   "execution_count": null,
   "metadata": {
    "collapsed": false
   },
   "outputs": [],
   "source": [
    "res[450]"
   ]
  },
  {
   "cell_type": "code",
<<<<<<< HEAD
   "execution_count": 21,
=======
<<<<<<< HEAD
   "execution_count": null,
=======
   "execution_count": 4,
>>>>>>> 87d4c075035b548693012936bfc7527fc34ee80a
>>>>>>> 78d46a441396d79d43107c17adaaee260fceab2c
   "metadata": {
    "collapsed": false
   },
   "outputs": [],
   "source": [
    "import geopy\n",
    "from geopy.distance import vincenty\n",
    "import datetime\n",
    "\n",
    "now = datetime.datetime.now()\n",
    "def nowfn():\n",
    "    global now\n",
    "    return now\n",
    "    \n",
    "\n",
    "def get_distance(lat, lon):\n",
    "    center = (37.872105, -122.259470)\n",
    "    return vincenty(center, (lat, lon)).miles \n",
    "\n",
    "def featurize(listing):\n",
    "    \n",
    "    return [\n",
    "                listing[\"bedrooms\"], listing['bathrooms'],\n",
    "                listing[\"sqft\"], get_distance(listing['latitude'], listing['longitude']),\n",
    "                listing['numImages'], len(listing['description'].split(\" \")),\n",
    "                (nowfn() - datetime.datetime.fromtimestamp(listing['postingDate'])).days,\n",
    "                len(set(listing['description'].lower().split(\" \")))\n",
    "           ]"
   ]
  },
  {
   "cell_type": "code",
<<<<<<< HEAD
   "execution_count": null,
   "metadata": {
    "collapsed": false
   },
   "outputs": [],
=======
   "execution_count": 7,
   "metadata": {
    "collapsed": false
   },
   "outputs": [
    {
     "data": {
      "text/plain": [
       "datetime.datetime(2016, 4, 1, 11, 18, 6, 754639)"
      ]
     },
     "execution_count": 7,
     "metadata": {},
     "output_type": "execute_result"
    }
   ],
>>>>>>> 87d4c075035b548693012936bfc7527fc34ee80a
   "source": [
    "nowfn()\n"
   ]
  },
  {
   "cell_type": "code",
   "execution_count": null,
   "metadata": {
    "collapsed": false
   },
   "outputs": [],
   "source": [
    "featurize(res[1000])"
   ]
  },
  {
   "cell_type": "code",
<<<<<<< HEAD
   "execution_count": 22,
=======
<<<<<<< HEAD
   "execution_count": null,
=======
   "execution_count": 5,
>>>>>>> 87d4c075035b548693012936bfc7527fc34ee80a
>>>>>>> 78d46a441396d79d43107c17adaaee260fceab2c
   "metadata": {
    "collapsed": false
   },
   "outputs": [],
   "source": [
    "def featurized(cursor):\n",
    "    x = []\n",
    "    y = []\n",
    "    for listing in cursor:\n",
    "        x.append(featurize(listing))\n",
    "        y.append(listing['price'])\n",
    "    return np.array(x), np.array(y)"
   ]
  },
  {
   "cell_type": "code",
<<<<<<< HEAD
   "execution_count": 40,
=======
   "execution_count": null,
   "metadata": {
    "collapsed": false
   },
   "outputs": [],
   "source": [
    "x, y = featurized(res)"
   ]
  },
  {
   "cell_type": "code",
<<<<<<< HEAD
   "execution_count": null,
=======
   "execution_count": 8,
>>>>>>> 87d4c075035b548693012936bfc7527fc34ee80a
>>>>>>> 78d46a441396d79d43107c17adaaee260fceab2c
   "metadata": {
    "collapsed": false
   },
   "outputs": [],
   "source": [
<<<<<<< HEAD
    "from sklearn.svm import SVR\n",
    "from sklearn.linear_model import Ridge\n",
    "from sklearn.kernel_ridge import KernelRidge"
=======
    "from sklearn.svm import SVR\n"
   ]
  },
  {
   "cell_type": "code",
   "execution_count": null,
   "metadata": {
    "collapsed": false
   },
   "outputs": [],
   "source": [
    "model.predict(featurize(res[450]))"
>>>>>>> 78d46a441396d79d43107c17adaaee260fceab2c
   ]
  },
  {
   "cell_type": "code",
<<<<<<< HEAD
   "execution_count": 23,
=======
<<<<<<< HEAD
   "execution_count": null,
=======
   "execution_count": 9,
>>>>>>> 87d4c075035b548693012936bfc7527fc34ee80a
>>>>>>> 78d46a441396d79d43107c17adaaee260fceab2c
   "metadata": {
    "collapsed": false
   },
   "outputs": [],
   "source": [
    "def pullListings():\n",
    "    return list(mongoConnection().find({\"sqft\": {\"$exists\": True}, \n",
    "                              \"bathrooms\": {\"$exists\": True},\n",
    "                              \"latitude\": {\"$exists\": True},\n",
    "                              \"bedrooms\": {\"$exists\": True},\n",
    "                              \"longitude\": {\"$exists\": True},\n",
    "                              #\"numImages\": {\"$exists\": True},\n",
    "                              #\"description\": {\"$exists\": True},\n",
    "                              \"postingDate\": {\"$exists\": True}\n",
    "                             }))\n",
    "\n",
    "def partition(samples, trainsize, valsize):\n",
    "    permute = np.random.permutation(samples)\n",
    "    return permute[:valsize], permute[len(permute)-trainsize:]\n",
    "\n",
    "def train(samples, model):\n",
    "    x, y = featurized(samples)\n",
    "    model.fit(x,y)\n",
    "    return model\n",
    "\n",
    "def pipeline(listings, model, valsize=500, trainsize=1474-500):\n",
    "    validation, training = partition(listings, valsize, trainsize)\n",
    "    model = train(training, model)\n",
    "    return featurized(validation), featurized(training), model\n",
    "    \n",
    "    "
   ]
  },
  {
   "cell_type": "code",
   "execution_count": null,
   "metadata": {
    "collapsed": false
   },
   "outputs": [],
   "source": [
    "validation, training, model = pipeline(pullListings(), SVR())\n",
    "\n",
    "val_feats, val_labels = validation\n",
    "train_feats, train_labels = training"
   ]
  },
  {
   "cell_type": "code",
   "execution_count": null,
   "metadata": {
    "collapsed": false
   },
   "outputs": [],
   "source": [
    "print(model.predict(val_feats[12]))\n",
    "print val_labels[12]"
   ]
  },
  {
   "cell_type": "code",
<<<<<<< HEAD
   "execution_count": 24,
=======
<<<<<<< HEAD
   "execution_count": null,
=======
   "execution_count": 10,
>>>>>>> 87d4c075035b548693012936bfc7527fc34ee80a
>>>>>>> 78d46a441396d79d43107c17adaaee260fceab2c
   "metadata": {
    "collapsed": false
   },
   "outputs": [],
   "source": [
    "def rss(preds, trues):\n",
    "    return np.sum((preds-trues)**2)\n",
    "\n",
    "def gen_predictions(model, val_set):\n",
    "    return model.predict(val_set)\n",
    "\n",
    "def rssFromModel(model , val_set, true_labels):\n",
    "    preds = gen_predictions(model, val_set)\n",
    "    return rss(preds, true_labels)\n",
    "    \n",
    "def plotPipe(model, train_sizes=[2, 100, 200, 300, 400, 500, 600, 700, 800, 974]):\n",
    "    listings = pullListings()\n",
    "#     for train\n",
    "#     validation, training, model = pipeline(pullListings(), SVR())\n",
    "#     val_feats, val_labels = validation\n",
    "#     train_feats, train_labels = training\n",
    "    error = []\n",
    "    validation, training = partition(listings, len(listings)-500, 500)\n",
    "    val_feats, val_labels = featurized(validation)\n",
    "    for trainsize in train_sizes:\n",
    "        training_n = partition(training, trainsize, 0)[1]\n",
    "        model = train(training_n, model)\n",
    "#        training = featurized(training)\n",
    "        \n",
    "#         train_feats, train_labels = training\n",
    "        c = rssFromModel(model, val_feats, val_labels)\n",
    "        print str(trainsize) + \": \" + str(c)\n",
    "        error.append(c)\n",
    "    plt.plot(train_sizes, error)\n",
    "    plt.xlabel(\"Number of training samples\")\n",
    "    plt.ylabel(\"Residual sum of squared error\")\n",
    "    plt.show()"
   ]
  },
  {
   "cell_type": "code",
   "execution_count": null,
   "metadata": {
    "collapsed": false
   },
   "outputs": [],
   "source": [
    "plotPipe(SVR())"
   ]
  },
  {
   "cell_type": "code",
   "execution_count": null,
   "metadata": {
    "collapsed": false
   },
   "outputs": [],
   "source": [
<<<<<<< HEAD
=======
    "# mod = SVR(C=0.1, kernel='linear')\n",
    "# plotPipe(mod)\n",
    "from sklearn.kernel_ridge import KernelRidge\n"
   ]
  },
  {
   "cell_type": "code",
   "execution_count": null,
   "metadata": {
    "collapsed": false
   },
   "outputs": [],
   "source": [
>>>>>>> 78d46a441396d79d43107c17adaaee260fceab2c
    "\n",
    "mod = KernelRidge(alpha=.1, kernel=\"linear\")\n",
    "plotPipe(mod)"
   ]
  },
  {
   "cell_type": "code",
   "execution_count": null,
   "metadata": {
    "collapsed": false
   },
   "outputs": [],
   "source": [
    "mod = KernelRidge(alpha=0.05, kernel=\"rbf\")\n",
    "plotPipe(mod)"
   ]
  },
  {
   "cell_type": "code",
<<<<<<< HEAD
   "execution_count": 31,
   "metadata": {
    "collapsed": false
   },
   "outputs": [
    {
     "name": "stdout",
     "output_type": "stream",
     "text": [
      "2: 95355595718.2\n",
      "100: 1.09131226817e+15\n",
      "200: 1.01998054764e+13\n",
      "300: 9.13156466848e+13\n",
      "400: 1.09319987802e+15\n",
      "500: 6.23189103069e+12\n",
      "600: 273354590516.0\n",
      "700: 1.5497488909e+12\n",
      "800: 1.20954985431e+12\n",
      "974: 265019090015.0\n"
     ]
    },
    {
     "data": {
      "image/png": "iVBORw0KGgoAAAANSUhEUgAAAYwAAAEVCAYAAADzUNLBAAAABHNCSVQICAgIfAhkiAAAAAlwSFlz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\n",
      "text/plain": [
       "<matplotlib.figure.Figure at 0x116d88b10>"
      ]
     },
     "metadata": {},
     "output_type": "display_data"
    }
   ],
=======
   "execution_count": null,
   "metadata": {
    "collapsed": false
   },
   "outputs": [],
>>>>>>> 78d46a441396d79d43107c17adaaee260fceab2c
   "source": [
    "mod = KernelRidge(alpha=0.1, kernel=\"poly\")\n",
    "plotPipe(mod)"
   ]
  },
  {
   "cell_type": "code",
<<<<<<< HEAD
   "execution_count": 25,
=======
<<<<<<< HEAD
   "execution_count": null,
=======
   "execution_count": 24,
>>>>>>> 87d4c075035b548693012936bfc7527fc34ee80a
>>>>>>> 78d46a441396d79d43107c17adaaee260fceab2c
   "metadata": {
    "collapsed": false
   },
   "outputs": [],
   "source": [
    "def fullTrain():\n",
    "    final = KernelRidge(alpha=.1, kernel=\"linear\")\n",
    "    l = pullListings()\n",
    "    feats, labels = featurized(l)\n",
    "    final.fit(feats, labels)\n",
    "    return final"
   ]
  },
  {
   "cell_type": "code",
<<<<<<< HEAD
   "execution_count": 11,
=======
<<<<<<< HEAD
   "execution_count": null,
=======
   "execution_count": 20,
>>>>>>> 87d4c075035b548693012936bfc7527fc34ee80a
>>>>>>> 78d46a441396d79d43107c17adaaee260fceab2c
   "metadata": {
    "collapsed": false
   },
   "outputs": [],
   "source": [
    "import requests\n",
    "from lxml import html\n",
    "import time\n",
    "\n",
    "def linkToVector(link):\n",
    "    \n",
    "        r = requests.get(link)\n",
    "        response = tree = html.fromstring(r.text)\n",
    "        \n",
    "        item = {}\n",
    "        curr = response.xpath(\"//*[@id='pagecontainer']/section/section/div[2]/p[2]/time/text()\")[0].split()[0]\n",
    "        item[\"postingDate\"] = int(time.mktime(datetime.datetime.strptime(curr, \"%Y-%m-%d\").timetuple()))\n",
    "        #pre-processing for getting the price in the right format\n",
    "        #item[\"area\"] = ''.join(temp.xpath(\"span\")[2].xpath(\"span[@class='pnr']\").xpath(\"small/text()\").extract())\n",
    "        item[\"price\"] = int(response.xpath(\"//*[@id='pagecontainer']/section/h2/span[2]/span[1]/text()\")[0].replace(\"$\",\"\"))#price.replace(\"$\",\"\")\n",
    "\n",
    "        maplocation = response.xpath(\"//div[contains(@id,'map')]\")\n",
    "        latitude = ''.join(maplocation[0].xpath('@data-latitude'))\n",
    "        longitude = ''.join(maplocation[0].xpath('@data-longitude'))\n",
    "        tmp = response.xpath(\"//*[@id='pagecontainer']/section/section/div[1]/div[1]/div[2]/text()\")\n",
    "        if len(tmp) > 0:\n",
    "            item['address'] = tmp[0]\n",
    "        if latitude:\n",
    "            item['latitude'] = float(latitude)\n",
    "        if longitude:\n",
    "            item['longitude'] = float(longitude)\n",
    "        #attr = response.xpath(\"//p[@class='attrgroup']\")\n",
    "#         try:\n",
    "        item[\"bedrooms\"] = int(response.xpath(\"//*[@id='pagecontainer']/section/section/div[1]/p[1]/span[1]/b[1]/text()\")[0])#int(attr.xpath(\"span/b/text()\")[0])\n",
    "        #bath = attr.xpath(\"span/b/text()\")[1]\n",
    "        item[\"sqft\"] = int(response.xpath(\"//*[@id='pagecontainer']/section/section/div[1]/p[1]/span[2]/b/text()\")[0])\n",
    "        #int(''.join(attr.xpath(\"span\")[1].xpath(\"b/text()\")))\n",
    "        #if(bath.isdigit()):\n",
    "        item[\"bathrooms\"] = int(response.xpath(\"//*[@id='pagecontainer']/section/section/div[1]/p[1]/span[1]/b[2]/text()\")[0])#int(attr.xpath(\"span/b/text()\")[1])\n",
    "#         except:\n",
    "#             pass\n",
    "        item['description'] = \"\".join(response.xpath(\"//section[@id='postingbody']/text()\"))#.xpath(\"text()\")) \n",
    "        item[\"numImages\"] = len(response.xpath(\"//div[@id='thumbs']/a\"))#.xpath(\"a\"))\n",
    "        return featurize(item)\n"
   ]
  },
  {
   "cell_type": "code",
   "execution_count": null,
   "metadata": {
    "collapsed": false
   },
   "outputs": [],
   "source": [
    "linkToVector(\"https://sfbay.craigslist.org/eby/apa/5507931799.html\")"
   ]
  },
  {
   "cell_type": "code",
<<<<<<< HEAD
   "execution_count": 49,
=======
<<<<<<< HEAD
   "execution_count": null,
   "metadata": {
    "collapsed": false
   },
   "outputs": [],
=======
   "execution_count": 25,
>>>>>>> 78d46a441396d79d43107c17adaaee260fceab2c
   "metadata": {
    "collapsed": false
   },
   "outputs": [],
   "source": [
    "final = fullTrain()"
   ]
  },
  {
   "cell_type": "code",
   "execution_count": 32,
   "metadata": {
    "collapsed": false
   },
<<<<<<< HEAD
   "outputs": [],
=======
   "outputs": [
    {
     "name": "stderr",
     "output_type": "stream",
     "text": [
      "/Users/aakashjapi/HousingAnalysisDailyCal/venv/lib/python2.7/site-packages/sklearn/utils/validation.py:386: DeprecationWarning: Passing 1d arrays as data is deprecated in 0.17 and willraise ValueError in 0.19. Reshape your data either using X.reshape(-1, 1) if your data has a single feature or X.reshape(1, -1) if it contains a single sample.\n",
      "  DeprecationWarning)\n"
     ]
    },
    {
     "data": {
      "text/plain": [
       "array([ 7681.87933469])"
      ]
     },
     "execution_count": 18,
     "metadata": {},
     "output_type": "execute_result"
    }
   ],
>>>>>>> 87d4c075035b548693012936bfc7527fc34ee80a
>>>>>>> 78d46a441396d79d43107c17adaaee260fceab2c
   "source": [
    "def predictionFromLink(link, model):\n",
    "    vector = linkToVector(link)\n",
    "    return model.predict(vector)"
   ]
  },
  {
   "cell_type": "code",
<<<<<<< HEAD
   "execution_count": 50,
=======
<<<<<<< HEAD
   "execution_count": null,
   "metadata": {
    "collapsed": false
   },
   "outputs": [],
=======
   "execution_count": 81,
>>>>>>> 78d46a441396d79d43107c17adaaee260fceab2c
   "metadata": {
    "collapsed": false
   },
   "outputs": [
    {
     "name": "stdout",
     "output_type": "stream",
     "text": [
      "Actual price: 1450, Prediction [ 1530.53336191]\n",
      "Actual price: 2200, Prediction [ 2444.17102599]\n",
      "Actual price: 1795, Prediction [ 1794.01980972]\n",
      "Actual price: 3250, Prediction [ 3195.67073393]\n"
     ]
    }
   ],
   "source": [
    "print \"Actual price: {0}, Prediction {1}\".format(1450, predictionFromLink(\"https://sfbay.craigslist.org/eby/apa/5517541414.html\", final))\n",
    "print \"Actual price: {0}, Prediction {1}\".format(2200, predictionFromLink(\"http://sfbay.craigslist.org/eby/apa/5517692459.html\", final))\n",
    "print \"Actual price: {0}, Prediction {1}\".format(1795, predictionFromLink(\"https://sfbay.craigslist.org/eby/apa/5515211468.html\", final))\n",
    "print \"Actual price: {0}, Prediction {1}\".format(3250, predictionFromLink(\"https://sfbay.craigslist.org/eby/apa/5483780609.html\", final))\n"
   ]
  },
  {
   "cell_type": "code",
   "execution_count": 38,
   "metadata": {
    "collapsed": false
   },
   "outputs": [
    {
     "data": {
      "text/plain": [
       "(1473,)"
      ]
     },
     "execution_count": 38,
     "metadata": {},
     "output_type": "execute_result"
    }
   ],
   "source": [
    "final.dual_coef_.shape"
   ]
  },
  {
   "cell_type": "code",
   "execution_count": 46,
   "metadata": {
    "collapsed": true
   },
   "outputs": [],
   "source": [
    "def fullTrainNoKernel():\n",
    "    final = Ridge(alpha=1)\n",
    "    l = pullListings()\n",
    "    feats, labels = featurized(l)\n",
    "    final.fit(feats, labels)\n",
    "    return final"
   ]
  },
  {
   "cell_type": "code",
   "execution_count": 47,
   "metadata": {
    "collapsed": false
   },
   "outputs": [],
   "source": [
    "final2 = fullTrainNoKernel()"
   ]
  },
  {
   "cell_type": "code",
   "execution_count": 48,
   "metadata": {
    "collapsed": false
   },
   "outputs": [
    {
     "name": "stdout",
     "output_type": "stream",
     "text": [
      "Actual price: 1450, Prediction [ 3044.66301248]\n",
      "Actual price: 2200, Prediction [ 3381.854214]\n",
      "Actual price: 1795, Prediction [ 3443.04385646]\n",
      "Actual price: 3250, Prediction [ 3989.73521909]\n"
     ]
    }
   ],
   "source": [
    "print \"Actual price: {0}, Prediction {1}\".format(1450, predictionFromLink(\"https://sfbay.craigslist.org/eby/apa/5517541414.html\", final2))\n",
    "print \"Actual price: {0}, Prediction {1}\".format(2200, predictionFromLink(\"http://sfbay.craigslist.org/eby/apa/5517692459.html\", final2))\n",
    "print \"Actual price: {0}, Prediction {1}\".format(1795, predictionFromLink(\"https://sfbay.craigslist.org/eby/apa/5515211468.html\", final2))\n",
    "print \"Actual price: {0}, Prediction {1}\".format(3250, predictionFromLink(\"https://sfbay.craigslist.org/eby/apa/5483780609.html\", final2))\n"
   ]
  },
  {
   "cell_type": "code",
   "execution_count": 51,
   "metadata": {
    "collapsed": false
   },
   "outputs": [
    {
     "data": {
      "text/plain": [
       "array([  3.24983708e+02,   1.29923920e-01,   1.09904602e+00,\n",
       "        -1.26229220e-01,   1.10060374e+01,   1.15532416e+01,\n",
       "        -1.15637835e+01,  -2.23133227e+01])"
      ]
     },
     "execution_count": 51,
     "metadata": {},
     "output_type": "execute_result"
    }
   ],
>>>>>>> 87d4c075035b548693012936bfc7527fc34ee80a
   "source": [
    "final2.coef_"
   ]
  },
  {
   "cell_type": "code",
   "execution_count": null,
   "metadata": {
    "collapsed": true
   },
   "outputs": [],
   "source": []
  }
 ],
 "metadata": {
  "kernelspec": {
   "display_name": "Python 2",
   "language": "python",
   "name": "python2"
  },
  "language_info": {
   "codemirror_mode": {
    "name": "ipython",
    "version": 2
   },
   "file_extension": ".py",
   "mimetype": "text/x-python",
   "name": "python",
   "nbconvert_exporter": "python",
   "pygments_lexer": "ipython2",
   "version": "2.7.11"
  }
 },
 "nbformat": 4,
 "nbformat_minor": 0
}
