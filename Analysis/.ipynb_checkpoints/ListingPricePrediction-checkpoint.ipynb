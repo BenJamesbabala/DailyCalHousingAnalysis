{
 "cells": [
  {
   "cell_type": "code",
   "execution_count": 1,
   "metadata": {
    "collapsed": false
   },
   "outputs": [
    {
     "name": "stdout",
     "output_type": "stream",
     "text": [
      "Populating the interactive namespace from numpy and matplotlib\n"
     ]
    }
   ],
   "source": [
    "import pandas as pd\n",
    "import matplotlib\n",
    "import matplotlib.pyplot as plt\n",
    "#from numpy import *\n",
    "import numpy as np\n",
    "import pymongo\n",
    "%pylab inline"
   ]
  },
  {
   "cell_type": "code",
   "execution_count": 2,
   "metadata": {
    "collapsed": true
   },
   "outputs": [],
   "source": [
    "def mongoConnection():\n",
    "    return pymongo.MongoClient().HousingListings.listings"
   ]
  },
  {
   "cell_type": "code",
   "execution_count": 63,
   "metadata": {
    "collapsed": false
   },
   "outputs": [],
   "source": [
    "res = mongoConnection().find({\"sqft\": {\"$exists\": True}, \n",
    "                              \"bathrooms\": {\"$exists\": True},\n",
    "                              \"latitude\": {\"$exists\": True},\n",
    "                              \"bedrooms\": {\"$exists\": True},\n",
    "                              \"longitude\": {\"$exists\": True},\n",
    "                              \"numImages\": {\"$exists\": True},\n",
    "                              \"description\": {\"$exists\": True},\n",
    "                              \"postingDate\": {\"$exists\": True}\n",
    "                             })"
   ]
  },
  {
   "cell_type": "code",
   "execution_count": 64,
   "metadata": {
    "collapsed": false
   },
   "outputs": [
    {
     "data": {
      "text/plain": [
       "1474"
      ]
     },
     "execution_count": 64,
     "metadata": {},
     "output_type": "execute_result"
    }
   ],
   "source": [
    "#Find price of nearby apartments - average of apartments within 5 blocks.\n",
    "#Find price of \n",
    "len(list(res))"
   ]
  },
  {
   "cell_type": "code",
   "execution_count": 56,
   "metadata": {
    "collapsed": false
   },
   "outputs": [
    {
     "data": {
      "text/plain": [
       "{u'_id': ObjectId('56d138082769c30301f380b3'),\n",
       " u'address': u'los angeles street at arlington',\n",
       " u'bathrooms': 1,\n",
       " u'bedrooms': 3,\n",
       " u'description': u'\\n**OPEN HOUSE - Call for Showing**\\nNatural Light-filled Two-story Townhouse 3 bd./1ba. Berkeley/Emeryville Border \\nFirst floor has living room, kitchen, laundry and access to backyard. Second floor has 3 bedroom and bathroom.\\nVIDEO TOUR!\\nViews of Emerville Skyline ,Windows all around -- lots of natural light \\n\\nGreat Location \\n10 Blocks to Ashby BART Biking Distance To U.C. Berkeley \\nWalk to Arizmendi, Pixar, and Peets Minutes to Highways 580/880/24, Saturday Farmers market on Grace Avenue 75 feet from your front door \\n\\nAvailable to move-in January, 2016 \\n\\nSecurity deposit - 1.5x rent \\n\\nTenant pays utilities. \\n\\nPresented by New Parnasa Partners. Please call Raphael @\\n\\nfor information and viewing.\\n\\n',\n",
       " u'latitude': 37.841826,\n",
       " u'link': u'http://sfbay.craigslist.org/eby/apa/5452217433.html',\n",
       " u'longitude': -122.27898,\n",
       " u'numImages': 14,\n",
       " u'postingDate': 1455696000,\n",
       " u'price': 2450,\n",
       " u'sqft': 1100,\n",
       " u'title': u'3 bd. 2-Story Townhouse, Emeryville Border, W/D in unit **VIDEO TOUR**'}"
      ]
     },
     "execution_count": 56,
     "metadata": {},
     "output_type": "execute_result"
    }
   ],
   "source": [
    "res[450]"
   ]
  },
  {
   "cell_type": "code",
   "execution_count": 3,
   "metadata": {
    "collapsed": false
   },
   "outputs": [],
   "source": [
    "import geopy\n",
    "from geopy.distance import vincenty\n",
    "import datetime\n",
    "\n",
    "now = datetime.datetime.now()\n",
    "def nowfn():\n",
    "    global now\n",
    "    return now\n",
    "    \n",
    "\n",
    "def get_distance(lat, lon):\n",
    "    center = (37.872105, -122.259470)\n",
    "    return vincenty(center, (lat, lon)).miles \n",
    "\n",
    "def featurize(listing):\n",
    "    \n",
    "    return [\n",
    "                listing[\"bedrooms\"], listing['bathrooms'],\n",
    "                listing[\"sqft\"], get_distance(listing['latitude'], listing['longitude']),\n",
    "                listing['numImages'], len(listing['description'].split(\" \")),\n",
    "                (nowfn() - datetime.datetime.fromtimestamp(listing['postingDate'])).days\n",
    "           ]"
   ]
  },
  {
   "cell_type": "code",
   "execution_count": 35,
   "metadata": {
    "collapsed": false
   },
   "outputs": [
    {
     "data": {
      "text/plain": [
       "datetime.datetime(2016, 3, 31, 23, 53, 22, 660178)"
      ]
     },
     "execution_count": 35,
     "metadata": {},
     "output_type": "execute_result"
    }
   ],
   "source": [
    "nowfn()\n"
   ]
  },
  {
   "cell_type": "code",
   "execution_count": 37,
   "metadata": {
    "collapsed": false
   },
   "outputs": [
    {
     "data": {
      "text/plain": [
       "[2, 2, 900, 0.5319679895224628, 5, 146, 12]"
      ]
     },
     "execution_count": 37,
     "metadata": {},
     "output_type": "execute_result"
    }
   ],
   "source": [
    "featurize(res[1000])"
   ]
  },
  {
   "cell_type": "code",
   "execution_count": 4,
   "metadata": {
    "collapsed": false
   },
   "outputs": [],
   "source": [
    "def featurized(cursor):\n",
    "    x = []\n",
    "    y = []\n",
    "    for listing in cursor:\n",
    "        x.append(featurize(listing))\n",
    "        y.append(listing['price'])\n",
    "    return np.array(x), np.array(y)"
   ]
  },
  {
   "cell_type": "code",
   "execution_count": 38,
   "metadata": {
    "collapsed": false
   },
   "outputs": [
    {
     "ename": "NameError",
     "evalue": "name 'res' is not defined",
     "output_type": "error",
     "traceback": [
      "\u001b[0;31m---------------------------------------------------------------------------\u001b[0m",
      "\u001b[0;31mNameError\u001b[0m                                 Traceback (most recent call last)",
      "\u001b[0;32m<ipython-input-38-29c9226d4dad>\u001b[0m in \u001b[0;36m<module>\u001b[0;34m()\u001b[0m\n\u001b[0;32m----> 1\u001b[0;31m \u001b[0mx\u001b[0m\u001b[0;34m,\u001b[0m \u001b[0my\u001b[0m \u001b[0;34m=\u001b[0m \u001b[0mfeaturized\u001b[0m\u001b[0;34m(\u001b[0m\u001b[0mres\u001b[0m\u001b[0;34m)\u001b[0m\u001b[0;34m\u001b[0m\u001b[0m\n\u001b[0m",
      "\u001b[0;31mNameError\u001b[0m: name 'res' is not defined"
     ]
    }
   ],
   "source": [
    "x, y = featurized(res)"
   ]
  },
  {
   "cell_type": "code",
   "execution_count": 5,
   "metadata": {
    "collapsed": false
   },
   "outputs": [],
   "source": [
    "from sklearn.svm import SVR\n"
   ]
  },
  {
   "cell_type": "code",
   "execution_count": 55,
   "metadata": {
    "collapsed": false
   },
   "outputs": [
    {
     "name": "stderr",
     "output_type": "stream",
     "text": [
      "/Users/aakashjapi/HousingAnalysisDailyCal/venv/lib/python2.7/site-packages/sklearn/utils/validation.py:386: DeprecationWarning: Passing 1d arrays as data is deprecated in 0.17 and willraise ValueError in 0.19. Reshape your data either using X.reshape(-1, 1) if your data has a single feature or X.reshape(1, -1) if it contains a single sample.\n",
      "  DeprecationWarning)\n"
     ]
    },
    {
     "data": {
      "text/plain": [
       "array([ 2751.52059461])"
      ]
     },
     "execution_count": 55,
     "metadata": {},
     "output_type": "execute_result"
    }
   ],
   "source": [
    "model.predict(featurize(res[450]))"
   ]
  },
  {
   "cell_type": "code",
   "execution_count": 6,
   "metadata": {
    "collapsed": false
   },
   "outputs": [],
   "source": [
    "def pullListings():\n",
    "    return list(mongoConnection().find({\"sqft\": {\"$exists\": True}, \n",
    "                              \"bathrooms\": {\"$exists\": True},\n",
    "                              \"latitude\": {\"$exists\": True},\n",
    "                              \"bedrooms\": {\"$exists\": True},\n",
    "                              \"longitude\": {\"$exists\": True},\n",
    "                              \"numImages\": {\"$exists\": True},\n",
    "                              \"description\": {\"$exists\": True},\n",
    "                              \"postingDate\": {\"$exists\": True}\n",
    "                             }))\n",
    "\n",
    "def partition(samples, trainsize, valsize):\n",
    "    permute = np.random.permutation(samples)\n",
    "    return permute[:valsize], permute[len(permute)-trainsize:]\n",
    "\n",
    "def train(samples, model):\n",
    "    x, y = featurized(samples)\n",
    "    model.fit(x,y)\n",
    "    return model\n",
    "\n",
    "def pipeline(listings, model, valsize=500, trainsize=1474-500):\n",
    "    validation, training = partition(listings, valsize, trainsize)\n",
    "    model = train(training, model)\n",
    "    return featurized(validation), featurized(training), model\n",
    "    \n",
    "    "
   ]
  },
  {
   "cell_type": "code",
   "execution_count": 49,
   "metadata": {
    "collapsed": false
   },
   "outputs": [],
   "source": [
    "validation, training, model = pipeline(pullListings(), SVR())\n",
    "\n",
    "val_feats, val_labels = validation\n",
    "train_feats, train_labels = training"
   ]
  },
  {
   "cell_type": "code",
   "execution_count": 53,
   "metadata": {
    "collapsed": false
   },
   "outputs": [
    {
     "name": "stdout",
     "output_type": "stream",
     "text": [
      "[ 2824.56666604]\n",
      "2495\n"
     ]
    },
    {
     "name": "stderr",
     "output_type": "stream",
     "text": [
      "/Users/aakashjapi/HousingAnalysisDailyCal/venv/lib/python2.7/site-packages/sklearn/utils/validation.py:386: DeprecationWarning: Passing 1d arrays as data is deprecated in 0.17 and willraise ValueError in 0.19. Reshape your data either using X.reshape(-1, 1) if your data has a single feature or X.reshape(1, -1) if it contains a single sample.\n",
      "  DeprecationWarning)\n"
     ]
    }
   ],
   "source": [
    "print(model.predict(val_feats[12]))\n",
    "print val_labels[12]"
   ]
  },
  {
   "cell_type": "code",
   "execution_count": 7,
   "metadata": {
    "collapsed": false
   },
   "outputs": [],
   "source": [
    "def rss(preds, trues):\n",
    "    return np.sum((preds-trues)**2)\n",
    "\n",
    "def gen_predictions(model, val_set):\n",
    "    return model.predict(val_set)\n",
    "\n",
    "def rssFromModel(model , val_set, true_labels):\n",
    "    preds = gen_predictions(model, val_set)\n",
    "    return rss(preds, true_labels)\n",
    "    \n",
    "def plotPipe(model, train_sizes=[2, 100, 200, 300, 400, 500, 600, 700, 800, 974]):\n",
    "    listings = pullListings()\n",
    "#     for train\n",
    "#     validation, training, model = pipeline(pullListings(), SVR())\n",
    "#     val_feats, val_labels = validation\n",
    "#     train_feats, train_labels = training\n",
    "    error = []\n",
    "    validation, training = partition(listings, len(listings)-500, 500)\n",
    "    val_feats, val_labels = featurized(validation)\n",
    "    for trainsize in train_sizes:\n",
    "        training_n = partition(training, trainsize, 0)[1]\n",
    "        model = train(training_n, model)\n",
    "#        training = featurized(training)\n",
    "        \n",
    "#         train_feats, train_labels = training\n",
    "        c = rssFromModel(model, val_feats, val_labels)\n",
    "        print str(trainsize) + \": \" + str(c)\n",
    "        error.append(c)\n",
    "    plt.plot(train_sizes, error)\n",
    "    plt.xlabel(\"Number of training samples\")\n",
    "    plt.ylabel(\"Residual sum of squared error\")\n",
    "    plt.show()"
   ]
  },
  {
   "cell_type": "code",
   "execution_count": 8,
   "metadata": {
    "collapsed": false
   },
   "outputs": [
    {
     "name": "stdout",
     "output_type": "stream",
     "text": [
      "2: 647855424.0\n",
      "100: 586659007.067\n",
      "200: 586635349.017\n",
      "300: 581054023.536\n",
      "400: 586433980.356\n",
      "500: 577299559.429\n",
      "600: 586285398.918\n",
      "700: 580935690.823\n",
      "800: 580595232.046\n",
      "974: 582234503.899\n"
     ]
    },
    {
     "data": {
      "image/png": "[encoded data removed]",
      "text/plain": [
       "<matplotlib.figure.Figure at 0x104baf890>"
      ]
     },
     "metadata": {},
     "output_type": "display_data"
    }
   ],
   "source": [
    "plotPipe(SVR())"
   ]
  },
  {
   "cell_type": "code",
   "execution_count": null,
   "metadata": {
    "collapsed": false
   },
   "outputs": [],
   "source": [
    "# mod = SVR(C=0.1, kernel='linear')\n",
    "# plotPipe(mod)"
   ]
  },
  {
   "cell_type": "code",
   "execution_count": 9,
   "metadata": {
    "collapsed": false
   },
   "outputs": [
    {
     "name": "stdout",
     "output_type": "stream",
     "text": [
      "2: 1623285675.6\n",
      "100: 443726324.569\n",
      "200: 385961162.662\n",
      "300: 395558592.718\n",
      "400: 395068175.205\n",
      "500: 557135266.098\n",
      "600: 494923790.091\n",
      "700: 486289449.874\n",
      "800: 454686386.226\n",
      "974: 446144048.094\n"
     ]
    },
    {
     "data": {
      "image/png": "[encoded data removed]",
      "text/plain": [
       "<matplotlib.figure.Figure at 0x10782ba90>"
      ]
     },
     "metadata": {},
     "output_type": "display_data"
    }
   ],
   "source": [
    "from sklearn.kernel_ridge import KernelRidge\n",
    "\n",
    "mod = KernelRidge(alpha=.1, kernel=\"linear\")\n",
    "plotPipe(mod)"
   ]
  },
  {
   "cell_type": "code",
   "execution_count": 18,
   "metadata": {
    "collapsed": false
   },
   "outputs": [
    {
     "name": "stdout",
     "output_type": "stream",
     "text": [
      "2: 5121015175.59\n",
      "100: 4948222912.6\n",
      "200: 4904145416.24\n",
      "300: 4774260486.39\n",
      "400: 4670214970.08\n",
      "500: 4614222201.97\n",
      "600: 4519876455.02\n",
      "700: 4525393043.46\n",
      "800: 4418694244.21\n",
      "974: 4303659497.73\n"
     ]
    },
    {
     "data": {
      "image/png": "[encoded data removed]",
      "text/plain": [
       "<matplotlib.figure.Figure at 0x1091d8990>"
      ]
     },
     "metadata": {},
     "output_type": "display_data"
    }
   ],
   "source": [
    "mod = KernelRidge(alpha=0.05, kernel=\"rbf\")\n",
    "plotPipe(mod)"
   ]
  },
  {
   "cell_type": "code",
   "execution_count": 19,
   "metadata": {
    "collapsed": false
   },
   "outputs": [
    {
     "name": "stdout",
     "output_type": "stream",
     "text": [
      "2: 16592157732.4\n",
      "100: 1.93133784939e+14\n",
      "200: 3.24453439562e+13\n",
      "300: 340867842210.0\n",
      "400: 7629783717.78\n",
      "500: 3582970625.63\n",
      "600: 281336766.573\n",
      "700: 4455545526.57\n",
      "800: 986216890.229\n",
      "974: 818503426.55\n"
     ]
    },
    {
     "data": {
      "image/png": "[encoded data removed]",
      "text/plain": [
       "<matplotlib.figure.Figure at 0x101501b90>"
      ]
     },
     "metadata": {},
     "output_type": "display_data"
    }
   ],
   "source": [
    "mod = KernelRidge(alpha=0.1, kernel=\"poly\")\n",
    "plotPipe(mod)"
   ]
  },
  {
   "cell_type": "code",
   "execution_count": 63,
   "metadata": {
    "collapsed": false
   },
   "outputs": [
    {
     "data": {
      "text/plain": [
       "KernelRidge(alpha=0.1, coef0=1, degree=3, gamma=None, kernel='linear',\n",
       "      kernel_params=None)"
      ]
     },
     "execution_count": 63,
     "metadata": {},
     "output_type": "execute_result"
    }
   ],
   "source": [
    "final = KernelRidge(alpha=.1, kernel=\"linear\")\n",
    "l = pullListings()\n",
    "feats, labels = featurized(l)\n",
    "final.fit(feats, labels)"
   ]
  },
  {
   "cell_type": "code",
   "execution_count": 60,
   "metadata": {
    "collapsed": false
   },
   "outputs": [],
   "source": [
    "import requests\n",
    "from lxml import html\n",
    "import time\n",
    "\n",
    "def linkToVector(link):\n",
    "    \n",
    "        r = requests.get(link)\n",
    "        response = tree = html.fromstring(r.text)\n",
    "        \n",
    "        item = {}\n",
    "        curr = response.xpath(\"//*[@id='pagecontainer']/section/section/div[2]/p[2]/time/text()\")[0].split()[0]\n",
    "        item[\"postingDate\"] = int(time.mktime(datetime.datetime.strptime(curr, \"%Y-%m-%d\").timetuple()))\n",
    "        #pre-processing for getting the price in the right format\n",
    "        #item[\"area\"] = ''.join(temp.xpath(\"span\")[2].xpath(\"span[@class='pnr']\").xpath(\"small/text()\").extract())\n",
    "        item[\"price\"] = int(response.xpath(\"//*[@id='pagecontainer']/section/h2/span[2]/span[1]/text()\")[0].replace(\"$\",\"\"))#price.replace(\"$\",\"\")\n",
    "\n",
    "        maplocation = response.xpath(\"//div[contains(@id,'map')]\")\n",
    "        latitude = ''.join(maplocation[0].xpath('@data-latitude'))\n",
    "        longitude = ''.join(maplocation[0].xpath('@data-longitude'))\n",
    "        tmp = response.xpath(\"//*[@id='pagecontainer']/section/section/div[1]/div[1]/div[2]/text()\")\n",
    "        if len(tmp) > 0:\n",
    "            item['address'] = tmp[0]\n",
    "        if latitude:\n",
    "            item['latitude'] = float(latitude)\n",
    "        if longitude:\n",
    "            item['longitude'] = float(longitude)\n",
    "        #attr = response.xpath(\"//p[@class='attrgroup']\")\n",
    "    try:\n",
    "        item[\"bedrooms\"] = int(response.xpath(\"//*[@id='pagecontainer']/section/section/div[1]/p[1]/span[1]/b[1]/text()\")[0])#int(attr.xpath(\"span/b/text()\")[0])\n",
    "        #bath = attr.xpath(\"span/b/text()\")[1]\n",
    "        item[\"sqft\"] = int(response.xpath(\"//*[@id='pagecontainer']/section/section/div[1]/p[1]/span[2]/b/text()\")[0])\n",
    "        #int(''.join(attr.xpath(\"span\")[1].xpath(\"b/text()\")))\n",
    "        #if(bath.isdigit()):\n",
    "        item[\"bathrooms\"] = int(response.xpath(\"//*[@id='pagecontainer']/section/section/div[1]/p[1]/span[1]/b[2]/text()\")[0])#int(attr.xpath(\"span/b/text()\")[1])\n",
    "         except:\n",
    "            pass\n",
    "        item['description'] = \"\".join(response.xpath(\"//section[@id='postingbody']/text()\"))#.xpath(\"text()\")) \n",
    "        item[\"numImages\"] = len(response.xpath(\"//div[@id='thumbs']/a\"))#.xpath(\"a\"))\n",
    "        return featurize(item)\n"
   ]
  },
  {
   "cell_type": "code",
   "execution_count": 61,
   "metadata": {
    "collapsed": false
   },
   "outputs": [
    {
     "data": {
      "text/plain": [
       "[4, 3, 2960, 1.5424443921241437, 18, 330, 7]"
      ]
     },
     "execution_count": 61,
     "metadata": {},
     "output_type": "execute_result"
    }
   ],
   "source": [
    "linkToVector(\"https://sfbay.craigslist.org/eby/apa/5507931799.html\")"
   ]
  },
  {
   "cell_type": "code",
   "execution_count": 66,
   "metadata": {
    "collapsed": false
   },
   "outputs": [
    {
     "name": "stderr",
     "output_type": "stream",
     "text": [
      "/Users/aakashjapi/HousingAnalysisDailyCal/venv/lib/python2.7/site-packages/sklearn/utils/validation.py:386: DeprecationWarning: Passing 1d arrays as data is deprecated in 0.17 and willraise ValueError in 0.19. Reshape your data either using X.reshape(-1, 1) if your data has a single feature or X.reshape(1, -1) if it contains a single sample.\n",
      "  DeprecationWarning)\n"
     ]
    },
    {
     "data": {
      "text/plain": [
       "array([ 7681.65284061])"
      ]
     },
     "execution_count": 66,
     "metadata": {},
     "output_type": "execute_result"
    }
   ],
   "source": [
    "def predictionFromLink(link, model):\n",
    "    vector = linkToVector(link)\n",
    "    return model.predict(vector)\n",
    "\n",
    "predictionFromLink(\"https://sfbay.craigslist.org/eby/apa/5507931799.html\", final)"
   ]
  },
  {
   "cell_type": "code",
   "execution_count": 68,
   "metadata": {
    "collapsed": false
   },
   "outputs": [
    {
     "name": "stderr",
     "output_type": "stream",
     "text": [
      "/Users/aakashjapi/HousingAnalysisDailyCal/venv/lib/python2.7/site-packages/sklearn/utils/validation.py:386: DeprecationWarning: Passing 1d arrays as data is deprecated in 0.17 and willraise ValueError in 0.19. Reshape your data either using X.reshape(-1, 1) if your data has a single feature or X.reshape(1, -1) if it contains a single sample.\n",
      "  DeprecationWarning)\n"
     ]
    },
    {
     "data": {
      "text/plain": [
       "array([ 2629.42505646])"
      ]
     },
     "execution_count": 68,
     "metadata": {},
     "output_type": "execute_result"
    }
   ],
   "source": [
    "predictionFromLink(\"https://sfbay.craigslist.org/eby/apa/5517648696.html\", final)"
   ]
  },
  {
   "cell_type": "code",
   "execution_count": null,
   "metadata": {
    "collapsed": true
   },
   "outputs": [],
   "source": []
  }
 ],
 "metadata": {
  "kernelspec": {
   "display_name": "Python 2",
   "language": "python",
   "name": "python2"
  },
  "language_info": {
   "codemirror_mode": {
    "name": "ipython",
    "version": 2
   },
   "file_extension": ".py",
   "mimetype": "text/x-python",
   "name": "python",
   "nbconvert_exporter": "python",
   "pygments_lexer": "ipython2",
   "version": "2.7.10"
  }
 },
 "nbformat": 4,
 "nbformat_minor": 0
}
