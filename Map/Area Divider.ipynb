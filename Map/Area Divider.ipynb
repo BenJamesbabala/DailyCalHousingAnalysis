{
 "cells": [
  {
   "cell_type": "code",
   "execution_count": 1,
   "metadata": {
    "collapsed": false
   },
   "outputs": [
    {
     "data": {
      "text/html": [
       "\n",
       "    <div class=\"bk-banner\">\n",
       "        <a href=\"http://bokeh.pydata.org\" target=\"_blank\" class=\"bk-logo bk-logo-small bk-logo-notebook\"></a>\n",
       "        <span id=\"35686647-cafc-43f9-9c18-64b81cbdaa68\">Loading BokehJS ...</span>\n",
       "    </div>"
      ]
     },
     "metadata": {},
     "output_type": "display_data"
    },
    {
     "data": {
      "application/javascript": [
       "\n",
       "(function(global) {\n",
       "  function now() {\n",
       "    return new Date();\n",
       "  }\n",
       "\n",
       "  if (typeof (window._bokeh_onload_callbacks) === \"undefined\") {\n",
       "    window._bokeh_onload_callbacks = [];\n",
       "  }\n",
       "\n",
       "  function run_callbacks() {\n",
       "    window._bokeh_onload_callbacks.forEach(function(callback) { callback() });\n",
       "    delete window._bokeh_onload_callbacks\n",
       "    console.info(\"Bokeh: all callbacks have finished\");\n",
       "  }\n",
       "\n",
       "  function load_libs(js_urls, callback) {\n",
       "    window._bokeh_onload_callbacks.push(callback);\n",
       "    if (window._bokeh_is_loading > 0) {\n",
       "      console.log(\"Bokeh: BokehJS is being loaded, scheduling callback at\", now());\n",
       "      return null;\n",
       "    }\n",
       "    if (js_urls == null || js_urls.length === 0) {\n",
       "      run_callbacks();\n",
       "      return null;\n",
       "    }\n",
       "    console.log(\"Bokeh: BokehJS not loaded, scheduling load and callback at\", now());\n",
       "    window._bokeh_is_loading = js_urls.length;\n",
       "    for (var i = 0; i < js_urls.length; i++) {\n",
       "      var url = js_urls[i];\n",
       "      var s = document.createElement('script');\n",
       "      s.src = url;\n",
       "      s.async = false;\n",
       "      s.onreadystatechange = s.onload = function() {\n",
       "        window._bokeh_is_loading--;\n",
       "        if (window._bokeh_is_loading === 0) {\n",
       "          console.log(\"Bokeh: all BokehJS libraries loaded\");\n",
       "          run_callbacks()\n",
       "        }\n",
       "      };\n",
       "      s.onerror = function() {\n",
       "        console.warn(\"failed to load library \" + url);\n",
       "      };\n",
       "      console.log(\"Bokeh: injecting script tag for BokehJS library: \", url);\n",
       "      document.getElementsByTagName(\"head\")[0].appendChild(s);\n",
       "    }\n",
       "  };\n",
       "\n",
       "  var js_urls = ['https://cdn.pydata.org/bokeh/release/bokeh-0.11.1.min.js', 'https://cdn.pydata.org/bokeh/release/bokeh-widgets-0.11.1.min.js', 'https://cdn.pydata.org/bokeh/release/bokeh-compiler-0.11.1.min.js'];\n",
       "\n",
       "  var inline_js = [\n",
       "    function(Bokeh) {\n",
       "      Bokeh.set_log_level(\"info\");\n",
       "    },\n",
       "    \n",
       "    function(Bokeh) {\n",
       "      Bokeh.$(\"#35686647-cafc-43f9-9c18-64b81cbdaa68\").text(\"BokehJS successfully loaded\");\n",
       "    },\n",
       "    function(Bokeh) {\n",
       "      console.log(\"Bokeh: injecting CSS: https://cdn.pydata.org/bokeh/release/bokeh-0.11.1.min.css\");\n",
       "      Bokeh.embed.inject_css(\"https://cdn.pydata.org/bokeh/release/bokeh-0.11.1.min.css\");\n",
       "      console.log(\"Bokeh: injecting CSS: https://cdn.pydata.org/bokeh/release/bokeh-widgets-0.11.1.min.css\");\n",
       "      Bokeh.embed.inject_css(\"https://cdn.pydata.org/bokeh/release/bokeh-widgets-0.11.1.min.css\");\n",
       "    }\n",
       "  ];\n",
       "\n",
       "  function run_inline_js() {\n",
       "    for (var i = 0; i < inline_js.length; i++) {\n",
       "      inline_js[i](window.Bokeh);\n",
       "    }\n",
       "  }\n",
       "\n",
       "  if (window._bokeh_is_loading === 0) {\n",
       "    console.log(\"Bokeh: BokehJS loaded, going straight to plotting\");\n",
       "    run_inline_js();\n",
       "  } else {\n",
       "    load_libs(js_urls, function() {\n",
       "      console.log(\"Bokeh: BokehJS plotting callback run at\", now());\n",
       "      run_inline_js();\n",
       "    });\n",
       "  }\n",
       "}(this));"
      ]
     },
     "metadata": {},
     "output_type": "display_data"
    }
   ],
   "source": [
    "from bokeh.plotting import figure, output_file, show, ColumnDataSource\n",
    "from bokeh.models import HoverTool\n",
    "import pandas as pd\n",
    "from bokeh.io import output_notebook\n",
    "import numpy as np\n",
    "from bokeh.models import (\n",
    "  GMapPlot, GMapOptions, ColumnDataSource, Circle, DataRange1d, PanTool, WheelZoomTool, BoxSelectTool\n",
    ")\n",
    "from bokeh.io import output_notebook\n",
    "output_notebook()"
   ]
  },
  {
   "cell_type": "code",
   "execution_count": 112,
   "metadata": {
    "collapsed": true
   },
   "outputs": [],
   "source": [
    "df = pd.read_csv(\"final_no_outlier\")\n",
    "\n",
    "latitude = df['latitude'].tolist()\n",
    "longitude = df['longitude'].tolist()\n",
    "price = df['price per room'].tolist()\n",
    "r = [0.0003] * len(price)\n",
    "address = df['address'].tolist()\n",
    "distance = df['edge_distance'].tolist()\n",
    "sqft = df['sqft per room'].tolist()\n",
    "food = df['avg_rating'].tolist()\n",
    "cafes = df['#cafes'].tolist()\n",
    "pubs = df['#pubs'].tolist()"
   ]
  },
  {
   "cell_type": "code",
   "execution_count": 3,
   "metadata": {
    "collapsed": false,
    "scrolled": false
   },
   "outputs": [
    {
     "data": {
      "text/html": [
       "\n",
       "\n",
       "    <div class=\"plotdiv\" id=\"d24fb9b7-55af-4d4b-9a0a-5f285ae135d8\"></div>\n",
       "<script type=\"text/javascript\">\n",
       "  \n",
       "  (function(global) {\n",
       "    function now() {\n",
       "      return new Date();\n",
       "    }\n",
       "  \n",
       "    if (typeof (window._bokeh_onload_callbacks) === \"undefined\") {\n",
       "      window._bokeh_onload_callbacks = [];\n",
       "    }\n",
       "  \n",
       "    function run_callbacks() {\n",
       "      window._bokeh_onload_callbacks.forEach(function(callback) { callback() });\n",
       "      delete window._bokeh_onload_callbacks\n",
       "      console.info(\"Bokeh: all callbacks have finished\");\n",
       "    }\n",
       "  \n",
       "    function load_libs(js_urls, callback) {\n",
       "      window._bokeh_onload_callbacks.push(callback);\n",
       "      if (window._bokeh_is_loading > 0) {\n",
       "        console.log(\"Bokeh: BokehJS is being loaded, scheduling callback at\", now());\n",
       "        return null;\n",
       "      }\n",
       "      if (js_urls == null || js_urls.length === 0) {\n",
       "        run_callbacks();\n",
       "        return null;\n",
       "      }\n",
       "      console.log(\"Bokeh: BokehJS not loaded, scheduling load and callback at\", now());\n",
       "      window._bokeh_is_loading = js_urls.length;\n",
       "      for (var i = 0; i < js_urls.length; i++) {\n",
       "        var url = js_urls[i];\n",
       "        var s = document.createElement('script');\n",
       "        s.src = url;\n",
       "        s.async = false;\n",
       "        s.onreadystatechange = s.onload = function() {\n",
       "          window._bokeh_is_loading--;\n",
       "          if (window._bokeh_is_loading === 0) {\n",
       "            console.log(\"Bokeh: all BokehJS libraries loaded\");\n",
       "            run_callbacks()\n",
       "          }\n",
       "        };\n",
       "        s.onerror = function() {\n",
       "          console.warn(\"failed to load library \" + url);\n",
       "        };\n",
       "        console.log(\"Bokeh: injecting script tag for BokehJS library: \", url);\n",
       "        document.getElementsByTagName(\"head\")[0].appendChild(s);\n",
       "      }\n",
       "    };var element = document.getElementById(\"d24fb9b7-55af-4d4b-9a0a-5f285ae135d8\");\n",
       "    if (element == null) {\n",
       "      console.log(\"Bokeh: ERROR: autoload.js configured with elementid 'd24fb9b7-55af-4d4b-9a0a-5f285ae135d8' but no matching script tag was found. \")\n",
       "      return false;\n",
       "    }\n",
       "  \n",
       "    var js_urls = [];\n",
       "  \n",
       "    var inline_js = [\n",
       "      function(Bokeh) {\n",
       "        Bokeh.$(function() {\n",
       "            var docs_json = {\"4e3de851-fc79-4ed3-996c-9103bf46fef8\":{\"roots\":{\"references\":[{\"attributes\":{\"formatter\":{\"id\":\"4a010157-9a0f-457a-951d-9263ba99ca02\",\"type\":\"BasicTickFormatter\"},\"plot\":{\"id\":\"69392b21-e311-444c-bef4-150548f1aba3\",\"subtype\":\"Figure\",\"type\":\"Plot\"},\"ticker\":{\"id\":\"c0bc595b-6d87-4eb3-8397-2042585ff043\",\"type\":\"BasicTicker\"}},\"id\":\"1d426ef9-6c47-47a5-936b-4fa91d54ca57\",\"type\":\"LinearAxis\"},{\"attributes\":{\"dimension\":1,\"plot\":{\"id\":\"69392b21-e311-444c-bef4-150548f1aba3\",\"subtype\":\"Figure\",\"type\":\"Plot\"},\"ticker\":{\"id\":\"931c69f6-033e-4c12-bf59-725827eb4d94\",\"type\":\"BasicTicker\"}},\"id\":\"955b510d-95a9-4827-b26a-9e4fc6c4ddda\",\"type\":\"Grid\"},{\"attributes\":{\"plot\":{\"id\":\"69392b21-e311-444c-bef4-150548f1aba3\",\"subtype\":\"Figure\",\"type\":\"Plot\"}},\"id\":\"e05537b4-f4ab-4da9-b042-a339ef07daca\",\"type\":\"HelpTool\"},{\"attributes\":{\"plot\":{\"id\":\"69392b21-e311-444c-bef4-150548f1aba3\",\"subtype\":\"Figure\",\"type\":\"Plot\"}},\"id\":\"f8666cf9-3419-4721-9499-47b3d3a8caab\",\"type\":\"PreviewSaveTool\"},{\"attributes\":{\"bottom_units\":\"screen\",\"fill_alpha\":{\"value\":0.5},\"fill_color\":{\"value\":\"lightgrey\"},\"left_units\":\"screen\",\"level\":\"overlay\",\"line_alpha\":{\"value\":1.0},\"line_color\":{\"value\":\"black\"},\"line_dash\":[4,4],\"line_width\":{\"value\":2},\"plot\":null,\"render_mode\":\"css\",\"right_units\":\"screen\",\"top_units\":\"screen\"},\"id\":\"3fb3623e-6235-4d85-96c1-c76b5469f460\",\"type\":\"BoxAnnotation\"},{\"attributes\":{},\"id\":\"51657393-b653-4cad-91f1-04d131ea26cd\",\"type\":\"ToolEvents\"},{\"attributes\":{\"callback\":null},\"id\":\"dfd2427a-b364-4aea-a0b2-4504a4ef9838\",\"type\":\"DataRange1d\"},{\"attributes\":{\"below\":[{\"id\":\"1d426ef9-6c47-47a5-936b-4fa91d54ca57\",\"type\":\"LinearAxis\"}],\"left\":[{\"id\":\"d595ae2d-2c16-43ae-bd75-71c0014cf09a\",\"type\":\"LinearAxis\"}],\"renderers\":[{\"id\":\"1d426ef9-6c47-47a5-936b-4fa91d54ca57\",\"type\":\"LinearAxis\"},{\"id\":\"3e12a660-b6dc-402c-a5bc-f6e8d1dbe29a\",\"type\":\"Grid\"},{\"id\":\"d595ae2d-2c16-43ae-bd75-71c0014cf09a\",\"type\":\"LinearAxis\"},{\"id\":\"955b510d-95a9-4827-b26a-9e4fc6c4ddda\",\"type\":\"Grid\"},{\"id\":\"3fb3623e-6235-4d85-96c1-c76b5469f460\",\"type\":\"BoxAnnotation\"},{\"id\":\"18262961-58a5-43a7-8c4a-540031cdb8d9\",\"type\":\"GlyphRenderer\"}],\"title\":\"Test\",\"tool_events\":{\"id\":\"51657393-b653-4cad-91f1-04d131ea26cd\",\"type\":\"ToolEvents\"},\"tools\":[{\"id\":\"789c787e-8dcf-47fe-bda4-19619d340a71\",\"type\":\"PanTool\"},{\"id\":\"e580b858-bbfa-47af-b14c-34288196f72b\",\"type\":\"WheelZoomTool\"},{\"id\":\"ab54136c-cc61-40df-bc13-14e9e7e8f4b0\",\"type\":\"BoxZoomTool\"},{\"id\":\"f8666cf9-3419-4721-9499-47b3d3a8caab\",\"type\":\"PreviewSaveTool\"},{\"id\":\"d3fbab03-b0fe-4489-956f-82916e9a7a6f\",\"type\":\"ResizeTool\"},{\"id\":\"ac4f4ad1-d4ed-48ba-b934-2450fe011311\",\"type\":\"ResetTool\"},{\"id\":\"e05537b4-f4ab-4da9-b042-a339ef07daca\",\"type\":\"HelpTool\"}],\"x_range\":{\"id\":\"dfd2427a-b364-4aea-a0b2-4504a4ef9838\",\"type\":\"DataRange1d\"},\"y_range\":{\"id\":\"102c95a0-b867-49e4-8542-2f1bdd572525\",\"type\":\"DataRange1d\"}},\"id\":\"69392b21-e311-444c-bef4-150548f1aba3\",\"subtype\":\"Figure\",\"type\":\"Plot\"},{\"attributes\":{\"callback\":null},\"id\":\"102c95a0-b867-49e4-8542-2f1bdd572525\",\"type\":\"DataRange1d\"},{\"attributes\":{\"plot\":{\"id\":\"69392b21-e311-444c-bef4-150548f1aba3\",\"subtype\":\"Figure\",\"type\":\"Plot\"}},\"id\":\"ac4f4ad1-d4ed-48ba-b934-2450fe011311\",\"type\":\"ResetTool\"},{\"attributes\":{},\"id\":\"878a9492-502c-4b19-9229-2c73966fc343\",\"type\":\"BasicTickFormatter\"},{\"attributes\":{\"plot\":{\"id\":\"69392b21-e311-444c-bef4-150548f1aba3\",\"subtype\":\"Figure\",\"type\":\"Plot\"}},\"id\":\"e580b858-bbfa-47af-b14c-34288196f72b\",\"type\":\"WheelZoomTool\"},{\"attributes\":{},\"id\":\"4a010157-9a0f-457a-951d-9263ba99ca02\",\"type\":\"BasicTickFormatter\"},{\"attributes\":{\"fill_alpha\":{\"value\":0.4},\"fill_color\":{\"field\":\"color\"},\"line_width\":{\"value\":0.5},\"xs\":{\"field\":\"xs\"},\"ys\":{\"field\":\"ys\"}},\"id\":\"f8f329d1-b1b6-4ce8-8151-8f20f143422f\",\"type\":\"Patches\"},{\"attributes\":{\"plot\":{\"id\":\"69392b21-e311-444c-bef4-150548f1aba3\",\"subtype\":\"Figure\",\"type\":\"Plot\"},\"ticker\":{\"id\":\"c0bc595b-6d87-4eb3-8397-2042585ff043\",\"type\":\"BasicTicker\"}},\"id\":\"3e12a660-b6dc-402c-a5bc-f6e8d1dbe29a\",\"type\":\"Grid\"},{\"attributes\":{},\"id\":\"931c69f6-033e-4c12-bf59-725827eb4d94\",\"type\":\"BasicTicker\"},{\"attributes\":{\"plot\":{\"id\":\"69392b21-e311-444c-bef4-150548f1aba3\",\"subtype\":\"Figure\",\"type\":\"Plot\"}},\"id\":\"789c787e-8dcf-47fe-bda4-19619d340a71\",\"type\":\"PanTool\"},{\"attributes\":{\"fill_alpha\":{\"value\":0.1},\"fill_color\":{\"value\":\"#1f77b4\"},\"line_alpha\":{\"value\":0.1},\"line_color\":{\"value\":\"#1f77b4\"},\"line_width\":{\"value\":0.5},\"xs\":{\"field\":\"xs\"},\"ys\":{\"field\":\"ys\"}},\"id\":\"d7f22995-b682-4ea6-8dc1-f6f943b33f9f\",\"type\":\"Patches\"},{\"attributes\":{\"callback\":null,\"column_names\":[\"color\",\"xs\",\"ys\"],\"data\":{\"color\":[\"#FFA500\",\"#AFEEEE\",\"#BDB76B\",\"#FA8072\",\"#8B008B\",\"grey\",\"brown\"],\"xs\":[[-122.30581,-122.30323,-122.28302,-122.26349,-122.26456],[-122.30323,-122.28302,-122.28182,-122.28092,-122.27903,-122.29482],[-122.29482,-122.29165,-122.24255,-122.24541,-122.26588,-122.27903],[-122.28302,-122.26349,-122.25688,-122.26628,-122.28182],[-122.28182,-122.26628,-122.26641,-122.28092],[-122.26641,-122.24847,-122.24541,-122.26588],[-122.26641,-122.28092,-122.27903,-122.26588]],\"ys\":[[37.88745,37.87796,37.88057,37.88303,37.89135],[37.87796,37.88057,37.87221,37.86614,37.85313,37.85059],[37.85059,37.83886,37.84679,37.85843,37.85519,37.85313],[37.88057,37.88303,37.87553,37.87418,37.87221],[37.87221,37.87418,37.86756,37.86614],[37.86756,37.86977,37.85843,37.85519],[37.86756,37.86614,37.85313,37.85519]]}},\"id\":\"08a93c94-6611-4a09-b5ec-78a1b2387e76\",\"type\":\"ColumnDataSource\"},{\"attributes\":{\"formatter\":{\"id\":\"878a9492-502c-4b19-9229-2c73966fc343\",\"type\":\"BasicTickFormatter\"},\"plot\":{\"id\":\"69392b21-e311-444c-bef4-150548f1aba3\",\"subtype\":\"Figure\",\"type\":\"Plot\"},\"ticker\":{\"id\":\"931c69f6-033e-4c12-bf59-725827eb4d94\",\"type\":\"BasicTicker\"}},\"id\":\"d595ae2d-2c16-43ae-bd75-71c0014cf09a\",\"type\":\"LinearAxis\"},{\"attributes\":{\"plot\":{\"id\":\"69392b21-e311-444c-bef4-150548f1aba3\",\"subtype\":\"Figure\",\"type\":\"Plot\"}},\"id\":\"d3fbab03-b0fe-4489-956f-82916e9a7a6f\",\"type\":\"ResizeTool\"},{\"attributes\":{\"data_source\":{\"id\":\"08a93c94-6611-4a09-b5ec-78a1b2387e76\",\"type\":\"ColumnDataSource\"},\"glyph\":{\"id\":\"f8f329d1-b1b6-4ce8-8151-8f20f143422f\",\"type\":\"Patches\"},\"hover_glyph\":null,\"nonselection_glyph\":{\"id\":\"d7f22995-b682-4ea6-8dc1-f6f943b33f9f\",\"type\":\"Patches\"},\"selection_glyph\":null},\"id\":\"18262961-58a5-43a7-8c4a-540031cdb8d9\",\"type\":\"GlyphRenderer\"},{\"attributes\":{\"overlay\":{\"id\":\"3fb3623e-6235-4d85-96c1-c76b5469f460\",\"type\":\"BoxAnnotation\"},\"plot\":{\"id\":\"69392b21-e311-444c-bef4-150548f1aba3\",\"subtype\":\"Figure\",\"type\":\"Plot\"}},\"id\":\"ab54136c-cc61-40df-bc13-14e9e7e8f4b0\",\"type\":\"BoxZoomTool\"},{\"attributes\":{},\"id\":\"c0bc595b-6d87-4eb3-8397-2042585ff043\",\"type\":\"BasicTicker\"}],\"root_ids\":[\"69392b21-e311-444c-bef4-150548f1aba3\"]},\"title\":\"Bokeh Application\",\"version\":\"0.11.1\"}};\n",
       "            var render_items = [{\"docid\":\"4e3de851-fc79-4ed3-996c-9103bf46fef8\",\"elementid\":\"d24fb9b7-55af-4d4b-9a0a-5f285ae135d8\",\"modelid\":\"69392b21-e311-444c-bef4-150548f1aba3\",\"notebook_comms_target\":\"d7c109e7-43f5-43d2-8da2-f86cc3dbbc41\"}];\n",
       "            \n",
       "            Bokeh.embed.embed_items(docs_json, render_items);\n",
       "        });\n",
       "      },\n",
       "      function(Bokeh) {\n",
       "      }\n",
       "    ];\n",
       "  \n",
       "    function run_inline_js() {\n",
       "      for (var i = 0; i < inline_js.length; i++) {\n",
       "        inline_js[i](window.Bokeh);\n",
       "      }\n",
       "    }\n",
       "  \n",
       "    if (window._bokeh_is_loading === 0) {\n",
       "      console.log(\"Bokeh: BokehJS loaded, going straight to plotting\");\n",
       "      run_inline_js();\n",
       "    } else {\n",
       "      load_libs(js_urls, function() {\n",
       "        console.log(\"Bokeh: BokehJS plotting callback run at\", now());\n",
       "        run_inline_js();\n",
       "      });\n",
       "    }\n",
       "  }(this));\n",
       "</script>"
      ]
     },
     "metadata": {},
     "output_type": "display_data"
    },
    {
     "data": {
      "text/html": [
       "<p><code>&lt;Bokeh Notebook handle for <strong>In[3]</strong>&gt;</code></p>"
      ],
      "text/plain": [
       "<bokeh.io._CommsHandle at 0x1131b6c50>"
      ]
     },
     "execution_count": 3,
     "metadata": {},
     "output_type": "execute_result"
    }
   ],
   "source": [
    "farNorth = [[37.88745, 37.87796, 37.88057, 37.88303, 37.89135], \n",
    "            [-122.30581, -122.30323, -122.28302, -122.26349, -122.26456]]\n",
    "farWest = [[37.87796, 37.88057, 37.87221, 37.86614, 37.85313, 37.85059], \n",
    "           [-122.30323, -122.28302, -122.28182, -122.28092, -122.27903, -122.29482]]\n",
    "farSouth = [[37.85059, 37.83886, 37.84679, 37.85843, 37.85519, 37.85313], \n",
    "            [-122.29482, -122.29165, -122.24255, -122.24541, -122.26588, -122.27903]]\n",
    "north = [[37.88057,37.88303, 37.87553, 37.87418, 37.87221],\n",
    "        [-122.28302, -122.26349, -122.25688, -122.26628, -122.28182]]\n",
    "west = [[37.87221, 37.87418, 37.86756, 37.86614],\n",
    "       [-122.28182, -122.26628, -122.26641, -122.28092]]\n",
    "south = [[37.86756, 37.86977, 37.85843, 37.85519],\n",
    "        [-122.26641, -122.24847, -122.24541, -122.26588]]\n",
    "southwest = [[37.86756, 37.86614, 37.85313, 37.85519],\n",
    "            [-122.26641, -122.28092, -122.27903, -122.26588]]\n",
    "\n",
    "color = [\"#FFA500\", \"#AFEEEE\", \"#BDB76B\", \"#FA8072\", \"#8B008B\", \"grey\", \"brown\"]\n",
    "\n",
    "y = [farNorth[0], farWest[0], farSouth[0], north[0], west[0], south[0], southwest[0]]\n",
    "x = [farNorth[1], farWest[1], farSouth[1], north[1], west[1], south[1], southwest[1]]\n",
    "\n",
    "p = figure(title = \"Test\")\n",
    "source = ColumnDataSource(data=dict(\n",
    "    xs = x,\n",
    "    ys = y,\n",
    "    color = color,\n",
    "))\n",
    "p.patches('xs', 'ys', source = source, line_color = \"black\", \n",
    "          fill_color = 'color', line_width = 0.5, fill_alpha = 0.4)\n",
    "show(p)"
   ]
  },
  {
   "cell_type": "code",
   "execution_count": 12,
   "metadata": {
    "collapsed": true
   },
   "outputs": [
    {
     "data": {
      "text/html": [
       "\n",
       "\n",
       "    <div class=\"plotdiv\" id=\"477199ad-348c-463b-8f04-546ad9862119\"></div>\n",
       "<script type=\"text/javascript\">\n",
       "  \n",
       "  (function(global) {\n",
       "    function now() {\n",
       "      return new Date();\n",
       "    }\n",
       "  \n",
       "    if (typeof (window._bokeh_onload_callbacks) === \"undefined\") {\n",
       "      window._bokeh_onload_callbacks = [];\n",
       "    }\n",
       "  \n",
       "    function run_callbacks() {\n",
       "      window._bokeh_onload_callbacks.forEach(function(callback) { callback() });\n",
       "      delete window._bokeh_onload_callbacks\n",
       "      console.info(\"Bokeh: all callbacks have finished\");\n",
       "    }\n",
       "  \n",
       "    function load_libs(js_urls, callback) {\n",
       "      window._bokeh_onload_callbacks.push(callback);\n",
       "      if (window._bokeh_is_loading > 0) {\n",
       "        console.log(\"Bokeh: BokehJS is being loaded, scheduling callback at\", now());\n",
       "        return null;\n",
       "      }\n",
       "      if (js_urls == null || js_urls.length === 0) {\n",
       "        run_callbacks();\n",
       "        return null;\n",
       "      }\n",
       "      console.log(\"Bokeh: BokehJS not loaded, scheduling load and callback at\", now());\n",
       "      window._bokeh_is_loading = js_urls.length;\n",
       "      for (var i = 0; i < js_urls.length; i++) {\n",
       "        var url = js_urls[i];\n",
       "        var s = document.createElement('script');\n",
       "        s.src = url;\n",
       "        s.async = false;\n",
       "        s.onreadystatechange = s.onload = function() {\n",
       "          window._bokeh_is_loading--;\n",
       "          if (window._bokeh_is_loading === 0) {\n",
       "            console.log(\"Bokeh: all BokehJS libraries loaded\");\n",
       "            run_callbacks()\n",
       "          }\n",
       "        };\n",
       "        s.onerror = function() {\n",
       "          console.warn(\"failed to load library \" + url);\n",
       "        };\n",
       "        console.log(\"Bokeh: injecting script tag for BokehJS library: \", url);\n",
       "        document.getElementsByTagName(\"head\")[0].appendChild(s);\n",
       "      }\n",
       "    };var element = document.getElementById(\"477199ad-348c-463b-8f04-546ad9862119\");\n",
       "    if (element == null) {\n",
       "      console.log(\"Bokeh: ERROR: autoload.js configured with elementid '477199ad-348c-463b-8f04-546ad9862119' but no matching script tag was found. \")\n",
       "      return false;\n",
       "    }\n",
       "  \n",
       "    var js_urls = [];\n",
       "  \n",
       "    var inline_js = [\n",
       "      function(Bokeh) {\n",
       "        Bokeh.$(function() {\n",
       "            var docs_json = {\"43c2e329-9fd2-4026-8f8e-338c6b86ab95\":{\"roots\":{\"references\":[{\"attributes\":{\"map_options\":{\"lat\":37.87,\"lng\":-122.27,\"map_type\":\"roadmap\",\"zoom\":14},\"title\":\"Austin\",\"tool_events\":{\"id\":\"5faede5b-3019-404d-baf0-24381b584951\",\"type\":\"ToolEvents\"},\"x_range\":{\"id\":\"5d305a6a-80be-41b1-b7ba-df38b4f7dfe5\",\"type\":\"DataRange1d\"},\"y_range\":{\"id\":\"03abb94d-8e0a-40c1-8567-9bcb4e9db1c9\",\"type\":\"DataRange1d\"}},\"id\":\"6aa853fe-826b-4b4d-bac0-bf10b9086cec\",\"type\":\"GMapPlot\"},{\"attributes\":{\"callback\":null},\"id\":\"03abb94d-8e0a-40c1-8567-9bcb4e9db1c9\",\"type\":\"DataRange1d\"},{\"attributes\":{},\"id\":\"5faede5b-3019-404d-baf0-24381b584951\",\"type\":\"ToolEvents\"},{\"attributes\":{\"callback\":null},\"id\":\"5d305a6a-80be-41b1-b7ba-df38b4f7dfe5\",\"type\":\"DataRange1d\"}],\"root_ids\":[\"6aa853fe-826b-4b4d-bac0-bf10b9086cec\"]},\"title\":\"Bokeh Application\",\"version\":\"0.11.1\"}};\n",
       "            var render_items = [{\"docid\":\"43c2e329-9fd2-4026-8f8e-338c6b86ab95\",\"elementid\":\"477199ad-348c-463b-8f04-546ad9862119\",\"modelid\":\"6aa853fe-826b-4b4d-bac0-bf10b9086cec\",\"notebook_comms_target\":\"74357e4d-f980-4aea-a290-9eeafe812a03\"}];\n",
       "            \n",
       "            Bokeh.embed.embed_items(docs_json, render_items);\n",
       "        });\n",
       "      },\n",
       "      function(Bokeh) {\n",
       "      }\n",
       "    ];\n",
       "  \n",
       "    function run_inline_js() {\n",
       "      for (var i = 0; i < inline_js.length; i++) {\n",
       "        inline_js[i](window.Bokeh);\n",
       "      }\n",
       "    }\n",
       "  \n",
       "    if (window._bokeh_is_loading === 0) {\n",
       "      console.log(\"Bokeh: BokehJS loaded, going straight to plotting\");\n",
       "      run_inline_js();\n",
       "    } else {\n",
       "      load_libs(js_urls, function() {\n",
       "        console.log(\"Bokeh: BokehJS plotting callback run at\", now());\n",
       "        run_inline_js();\n",
       "      });\n",
       "    }\n",
       "  }(this));\n",
       "</script>"
      ]
     },
     "metadata": {},
     "output_type": "display_data"
    },
    {
     "data": {
      "text/html": [
       "<p><code>&lt;Bokeh Notebook handle for <strong>In[12]</strong>&gt;</code></p>"
      ],
      "text/plain": [
       "<bokeh.io._CommsHandle at 0x1131e07b8>"
      ]
     },
     "execution_count": 12,
     "metadata": {},
     "output_type": "execute_result"
    }
   ],
   "source": [
    "map_options = GMapOptions(lat=37.87, lng=-122.27, map_type=\"roadmap\", zoom=14)\n",
    "\n",
    "plot = GMapPlot(\n",
    "    x_range=DataRange1d(), y_range=DataRange1d(), map_options=map_options, title=\"Austin\"\n",
    ")\n",
    "#plot.add_glyph(p)\n",
    "show(plot)"
   ]
  },
  {
   "cell_type": "markdown",
   "metadata": {},
   "source": [
    "## Divide data\n",
    "### Longitude(x), Latitude(y)"
   ]
  },
  {
   "cell_type": "code",
   "execution_count": 48,
   "metadata": {
    "collapsed": false
   },
   "outputs": [
    {
     "name": "stdout",
     "output_type": "stream",
     "text": [
      "Populating the interactive namespace from numpy and matplotlib\n"
     ]
    },
    {
     "name": "stderr",
     "output_type": "stream",
     "text": [
      "WARNING: pylab import has clobbered these variables: ['plt']\n",
      "`%matplotlib` prevents importing * from pylab and numpy\n"
     ]
    }
   ],
   "source": [
    "import matplotlib.pylab as plt\n",
    "%pylab inline"
   ]
  },
  {
   "cell_type": "code",
   "execution_count": 137,
   "metadata": {
    "collapsed": false
   },
   "outputs": [],
   "source": [
    "# Input two points to find a line equation\n",
    "# Return [k,b] where y = kx + b\n",
    "def line(p1, p2):\n",
    "    k = (p2[0] - p1[0]) / (p2[1] - p1[1])\n",
    "    b = p1[0] - k * p1[1]\n",
    "    return [k, b]\n",
    "\n",
    "l1 = line((37.87796, -122.30323), (37.88303, -122.26349))\n",
    "l2 = line((37.85059, -122.29482), (37.85843, -122.24541))\n",
    "l3 = line((37.87214, -122.28229), (37.87573, -122.25646))\n",
    "l4 = line((37.86651, -122.28117), (37.87031, -122.2507))\n",
    "l5 = line((37.87418, -122.26628), (37.85519, -122.26588))\n",
    "l6 = line((37.88057, -122.28302), (37.85313, -122.27903))\n",
    "\n",
    "def getX(line, y):\n",
    "    return (y - line[1]) / line[0]\n",
    "\n",
    "def getY(line, x):\n",
    "    return line[0] * x + line[1]\n"
   ]
  },
  {
   "cell_type": "code",
   "execution_count": 148,
   "metadata": {
    "collapsed": false
   },
   "outputs": [],
   "source": [
    "df = pd.read_csv(\"final_no_outlier\")\n",
    "\n",
    "FarNorth = df[df['latitude'] > getY(l1, df['longitude'])]\n",
    "compare = FarNorth['latitude'].tolist()\n",
    "df = df[~df['latitude'].isin(compare)]\n",
    "\n",
    "FarSouth = df[df['latitude'] < getY(l2, df['longitude'])]\n",
    "compare = FarSouth['latitude'].tolist()\n",
    "df = df[~df['latitude'].isin(compare)]\n",
    "\n",
    "FarWest = df[df['longitude'] < getX(l6, df['latitude'])]\n",
    "compare = FarWest['latitude'].tolist()\n",
    "df = df[~df['latitude'].isin(compare)]\n",
    "\n",
    "North = df[df['latitude'] > getY(l3, df['longitude'])]\n",
    "compare = North['latitude'].tolist()\n",
    "df = df[~df['latitude'].isin(compare)]\n",
    "\n",
    "West = df[df['latitude'] > getY(l4, df['longitude'])]\n",
    "compare = West['latitude'].tolist()\n",
    "df = df[~df['latitude'].isin(compare)]\n",
    "\n",
    "SouthWest = df[df['longitude'] < getX(l5, df['latitude'])]\n",
    "compare = SouthWest['latitude'].tolist()\n",
    "df = df[~df['latitude'].isin(compare)]\n",
    "\n",
    "South = df[df['longitude'] > getX(l5, df['latitude'])]\n",
    "compare = South['latitude'].tolist()\n",
    "df = df[~df['latitude'].isin(compare)]\n",
    "\n",
    "# plt.scatter(FarNorth.longitude, FarNorth.latitude)\n",
    "# plt.scatter(FarSouth.longitude, FarSouth.latitude)\n",
    "# plt.scatter(FarWest.longitude, FarWest.latitude)\n",
    "# plt.scatter(North.longitude, North.latitude)\n",
    "# plt.scatter(West.longitude, West.latitude)\n",
    "# plt.scatter(SouthWest.longitude, SouthWest.latitude)\n",
    "# plt.scatter(South.longitude, South.latitude)"
   ]
  },
  {
   "cell_type": "markdown",
   "metadata": {
    "collapsed": false
   },
   "source": [
    "## Detail about each Area"
   ]
  },
  {
   "cell_type": "markdown",
   "metadata": {},
   "source": [
    "### FarNorth"
   ]
  },
  {
   "cell_type": "code",
   "execution_count": 192,
   "metadata": {
    "collapsed": false
   },
   "outputs": [
    {
     "name": "stdout",
     "output_type": "stream",
     "text": [
      "~ Room Quality ~\n",
      "Average Room Price:  1750.0 USD\n",
      "Average Room Size:  537.5 sqft\n",
      "Average Distance to Campus:  1.67 miles\n",
      "Average Number of Rooms shared in the Apartment:  2.08\n",
      "\n",
      "\n",
      "~ Neighborhood Quality ~\n",
      "Average Restaurant Ratings:  4.05 out of 5 stars\n",
      "Average 3.28 Cafes around\n",
      "Average 1.48 Pubs around\n"
     ]
    }
   ],
   "source": [
    "FarNorth = FarNorth.replace(0,nan)\n",
    "\n",
    "print(\"~ Room Quality ~\")\n",
    "print(\"Average Room Price: \", FarNorth['price per room'].median(), 'USD')\n",
    "temp = FarNorth[FarNorth['sqft per room'].notnull()]\n",
    "print(\"Average Room Size: \", temp['sqft per room'].median(), 'sqft')\n",
    "print(\"Average Distance to Campus: \", FarNorth['edge_distance'].median(), 'miles')\n",
    "temp = FarNorth[FarNorth['bedrooms'].notnull()]\n",
    "print(\"Average Number of Rooms shared in the Apartment: \", round(temp['bedrooms'].mean(),2))\n",
    "\n",
    "print(\"\\n\")\n",
    "print(\"~ Neighborhood Quality ~\")\n",
    "print(\"Average Restaurant Ratings: \", FarNorth['avg_rating'].median(), 'out of 5 stars')\n",
    "print(\"Average\", round(FarNorth['#cafes'].mean(),2), 'Cafes around')\n",
    "print(\"Average\", round(FarNorth['#pubs'].mean(),2), 'Pubs around')"
   ]
  },
  {
   "cell_type": "markdown",
   "metadata": {},
   "source": [
    "### FarWest"
   ]
  },
  {
   "cell_type": "code",
   "execution_count": 193,
   "metadata": {
    "collapsed": false
   },
   "outputs": [
    {
     "name": "stdout",
     "output_type": "stream",
     "text": [
      "~ Room Quality ~\n",
      "Average Room Price:  1675.0 USD\n",
      "Average Room Size:  494.0 sqft\n",
      "Average Distance to Campus:  2.23 miles\n",
      "Average Number of Rooms shared in the Apartment:  1.55\n",
      "\n",
      "\n",
      "~ Neighborhood Quality ~\n",
      "Average Restaurant Ratings:  4.025 out of 5 stars\n",
      "Average 3.97 Cafes around\n",
      "Average 1.52 Pubs around\n"
     ]
    }
   ],
   "source": [
    "FarWest = FarWest.replace(0,nan)\n",
    "\n",
    "print(\"~ Room Quality ~\")\n",
    "print(\"Average Room Price: \", FarWest['price per room'].median(), 'USD')\n",
    "temp = FarWest[FarWest['sqft per room'].notnull()]\n",
    "print(\"Average Room Size: \", temp['sqft per room'].median(), 'sqft')\n",
    "print(\"Average Distance to Campus: \", FarWest['edge_distance'].median(), 'miles')\n",
    "temp = FarWest[FarWest['bedrooms'].notnull()]\n",
    "print(\"Average Number of Rooms shared in the Apartment: \", round(temp['bedrooms'].mean(),2))\n",
    "\n",
    "print(\"\\n\")\n",
    "print(\"~ Neighborhood Quality ~\")\n",
    "print(\"Average Restaurant Ratings: \", FarWest['avg_rating'].median(), 'out of 5 stars')\n",
    "print(\"Average\", round(FarWest['#cafes'].mean(),2), 'Cafes around')\n",
    "print(\"Average\", round(FarWest['#pubs'].mean(),2), 'Pubs around')"
   ]
  },
  {
   "cell_type": "markdown",
   "metadata": {},
   "source": [
    "### FarSouth"
   ]
  },
  {
   "cell_type": "code",
   "execution_count": 198,
   "metadata": {
    "collapsed": false
   },
   "outputs": [
    {
     "name": "stdout",
     "output_type": "stream",
     "text": [
      "~ Room Quality ~\n",
      "Average Room Price:  1735.0 USD\n",
      "Average Room Size:  500.0 sqft\n",
      "Average Distance to Campus:  2.35 miles\n",
      "Average Number of Rooms shared in the Apartment:  1.84\n",
      "\n",
      "\n",
      "~ Neighborhood Quality ~\n",
      "Average Restaurant Ratings:  4.0 out of 5 stars\n",
      "Average 3.72 Cafes around\n",
      "Average 1.36 Pubs around\n"
     ]
    }
   ],
   "source": [
    "FarSouth = FarSouth.replace(0,nan)\n",
    "\n",
    "print(\"~ Room Quality ~\")\n",
    "print(\"Average Room Price: \", FarSouth['price per room'].median(), 'USD')\n",
    "temp = FarSouth[FarSouth['sqft per room'].notnull()]\n",
    "print(\"Average Room Size: \", temp['sqft per room'].median(), 'sqft')\n",
    "print(\"Average Distance to Campus: \", FarSouth['edge_distance'].median(), 'miles')\n",
    "temp = FarSouth[FarSouth['bedrooms'].notnull()]\n",
    "print(\"Average Number of Rooms shared in the Apartment: \", round(temp['bedrooms'].mean(),2))\n",
    "\n",
    "print(\"\\n\")\n",
    "print(\"~ Neighborhood Quality ~\")\n",
    "print(\"Average Restaurant Ratings: \", FarSouth['avg_rating'].median(), 'out of 5 stars')\n",
    "print(\"Average\", round(FarSouth['#cafes'].mean(),2), 'Cafes around')\n",
    "print(\"Average\", round(FarSouth['#pubs'].mean(),2), 'Pubs around')"
   ]
  },
  {
   "cell_type": "markdown",
   "metadata": {},
   "source": [
    "### NorthSide"
   ]
  },
  {
   "cell_type": "code",
   "execution_count": 197,
   "metadata": {
    "collapsed": false
   },
   "outputs": [
    {
     "name": "stdout",
     "output_type": "stream",
     "text": [
      "~ Room Quality ~\n",
      "Average Room Price:  1975.0 USD\n",
      "Average Room Size:  470.0 sqft\n",
      "Average Distance to Campus:  0.61 miles\n",
      "Average Number of Rooms shared in the Apartment:  1.74\n",
      "\n",
      "\n",
      "~ Neighborhood Quality ~\n",
      "Average Restaurant Ratings:  4.05 out of 5 stars\n",
      "Average 4.42 Cafes around\n",
      "Average 1.52 Pubs around\n"
     ]
    }
   ],
   "source": [
    "North = North.replace(0,nan)\n",
    "\n",
    "print(\"~ Room Quality ~\")\n",
    "print(\"Average Room Price: \", North['price per room'].median(), 'USD')\n",
    "temp = North[North['sqft per room'].notnull()]\n",
    "print(\"Average Room Size: \", temp['sqft per room'].median(), 'sqft')\n",
    "print(\"Average Distance to Campus: \", North['edge_distance'].median(), 'miles')\n",
    "temp = North[North['bedrooms'].notnull()]\n",
    "print(\"Average Number of Rooms shared in the Apartment: \", round(temp['bedrooms'].mean(),2))\n",
    "\n",
    "print(\"\\n\")\n",
    "print(\"~ Neighborhood Quality ~\")\n",
    "print(\"Average Restaurant Ratings: \", North['avg_rating'].median(), 'out of 5 stars')\n",
    "print(\"Average\", round(North['#cafes'].mean(),2), 'Cafes around')\n",
    "print(\"Average\", round(North['#pubs'].mean(),2), 'Pubs around')"
   ]
  },
  {
   "cell_type": "markdown",
   "metadata": {},
   "source": [
    "### SouthSide"
   ]
  },
  {
   "cell_type": "code",
   "execution_count": 199,
   "metadata": {
    "collapsed": false
   },
   "outputs": [
    {
     "name": "stdout",
     "output_type": "stream",
     "text": [
      "~ Room Quality ~\n",
      "Average Room Price:  1890.5 USD\n",
      "Average Room Size:  438.0 sqft\n",
      "Average Distance to Campus:  0.69 miles\n",
      "Average Number of Rooms shared in the Apartment:  1.97\n",
      "\n",
      "\n",
      "~ Neighborhood Quality ~\n",
      "Average Restaurant Ratings:  4.025 out of 5 stars\n",
      "Average 1.51 Cafes around\n",
      "Average 1.5 Pubs around\n"
     ]
    }
   ],
   "source": [
    "South = South.replace(0,nan)\n",
    "\n",
    "print(\"~ Room Quality ~\")\n",
    "print(\"Average Room Price: \", South['price per room'].median(), 'USD')\n",
    "temp = South[South['sqft per room'].notnull()]\n",
    "print(\"Average Room Size: \", temp['sqft per room'].median(), 'sqft')\n",
    "print(\"Average Distance to Campus: \", South['edge_distance'].median(), 'miles')\n",
    "temp = South[South['bedrooms'].notnull()]\n",
    "print(\"Average Number of Rooms shared in the Apartment: \", round(temp['bedrooms'].mean(),2))\n",
    "\n",
    "print(\"\\n\")\n",
    "print(\"~ Neighborhood Quality ~\")\n",
    "print(\"Average Restaurant Ratings: \", South['avg_rating'].median(), 'out of 5 stars')\n",
    "print(\"Average\", round(South['#cafes'].mean(),2), 'Cafes around')\n",
    "print(\"Average\", round(South['#pubs'].mean(),2), 'Pubs around')"
   ]
  },
  {
   "cell_type": "markdown",
   "metadata": {},
   "source": [
    "### WestSide"
   ]
  },
  {
   "cell_type": "code",
   "execution_count": 200,
   "metadata": {
    "collapsed": false
   },
   "outputs": [
    {
     "name": "stdout",
     "output_type": "stream",
     "text": [
      "~ Room Quality ~\n",
      "Average Room Price:  1695.0 USD\n",
      "Average Room Size:  375.0 sqft\n",
      "Average Distance to Campus:  0.75 miles\n",
      "Average Number of Rooms shared in the Apartment:  1.42\n",
      "\n",
      "\n",
      "~ Neighborhood Quality ~\n",
      "Average Restaurant Ratings:  3.975 out of 5 stars\n",
      "Average 2.98 Cafes around\n",
      "Average 1.73 Pubs around\n"
     ]
    }
   ],
   "source": [
    "West = West.replace(0,nan)\n",
    "\n",
    "print(\"~ Room Quality ~\")\n",
    "print(\"Average Room Price: \", West['price per room'].median(), 'USD')\n",
    "temp = West[West['sqft per room'].notnull()]\n",
    "print(\"Average Room Size: \", temp['sqft per room'].median(), 'sqft')\n",
    "print(\"Average Distance to Campus: \", West['edge_distance'].median(), 'miles')\n",
    "temp = West[West['bedrooms'].notnull()]\n",
    "print(\"Average Number of Rooms shared in the Apartment: \", round(temp['bedrooms'].mean(),2))\n",
    "\n",
    "print(\"\\n\")\n",
    "print(\"~ Neighborhood Quality ~\")\n",
    "print(\"Average Restaurant Ratings: \", West['avg_rating'].median(), 'out of 5 stars')\n",
    "print(\"Average\", round(West['#cafes'].mean(),2), 'Cafes around')\n",
    "print(\"Average\", round(West['#pubs'].mean(),2), 'Pubs around')"
   ]
  },
  {
   "cell_type": "markdown",
   "metadata": {},
   "source": [
    "### SouthWest"
   ]
  },
  {
   "cell_type": "code",
   "execution_count": 201,
   "metadata": {
    "collapsed": false
   },
   "outputs": [
    {
     "name": "stdout",
     "output_type": "stream",
     "text": [
      "~ Room Quality ~\n",
      "Average Room Price:  1766.0 USD\n",
      "Average Room Size:  475.0 sqft\n",
      "Average Distance to Campus:  1.27 miles\n",
      "Average Number of Rooms shared in the Apartment:  1.7\n",
      "\n",
      "\n",
      "~ Neighborhood Quality ~\n",
      "Average Restaurant Ratings:  4.075 out of 5 stars\n",
      "Average 2.58 Cafes around\n",
      "Average 1.66 Pubs around\n"
     ]
    }
   ],
   "source": [
    "SouthWest = SouthWest.replace(0,nan)\n",
    "\n",
    "print(\"~ Room Quality ~\")\n",
    "print(\"Average Room Price: \", SouthWest['price per room'].median(), 'USD')\n",
    "temp = SouthWest[SouthWest['sqft per room'].notnull()]\n",
    "print(\"Average Room Size: \", temp['sqft per room'].median(), 'sqft')\n",
    "print(\"Average Distance to Campus: \", SouthWest['edge_distance'].median(), 'miles')\n",
    "temp = SouthWest[SouthWest['bedrooms'].notnull()]\n",
    "print(\"Average Number of Rooms shared in the Apartment: \", round(temp['bedrooms'].mean(),2))\n",
    "\n",
    "print(\"\\n\")\n",
    "print(\"~ Neighborhood Quality ~\")\n",
    "print(\"Average Restaurant Ratings: \", SouthWest['avg_rating'].median(), 'out of 5 stars')\n",
    "print(\"Average\", round(SouthWest['#cafes'].mean(),2), 'Cafes around')\n",
    "print(\"Average\", round(SouthWest['#pubs'].mean(),2), 'Pubs around')"
   ]
  },
  {
   "cell_type": "code",
   "execution_count": null,
   "metadata": {
    "collapsed": true
   },
   "outputs": [],
   "source": []
  }
 ],
 "metadata": {
  "kernelspec": {
   "display_name": "Python 3",
   "language": "python",
   "name": "python3"
  },
  "language_info": {
   "codemirror_mode": {
    "name": "ipython",
    "version": 3
   },
   "file_extension": ".py",
   "mimetype": "text/x-python",
   "name": "python",
   "nbconvert_exporter": "python",
   "pygments_lexer": "ipython3",
   "version": "3.5.1"
  }
 },
 "nbformat": 4,
 "nbformat_minor": 0
}
