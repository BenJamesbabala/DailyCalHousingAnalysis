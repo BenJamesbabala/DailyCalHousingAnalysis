{
 "cells": [
  {
   "cell_type": "code",
   "execution_count": 1,
   "metadata": {
    "collapsed": false
   },
   "outputs": [
    {
     "data": {
      "text/html": [
       "\n",
       "    <div class=\"bk-banner\">\n",
       "        <a href=\"http://bokeh.pydata.org\" target=\"_blank\" class=\"bk-logo bk-logo-small bk-logo-notebook\"></a>\n",
       "        <span id=\"7b27d152-d18d-4442-854a-a1cc6b1feb69\">Loading BokehJS ...</span>\n",
       "    </div>"
      ]
     },
     "metadata": {},
     "output_type": "display_data"
    },
    {
     "data": {
      "application/javascript": [
       "\n",
       "(function(global) {\n",
       "  function now() {\n",
       "    return new Date();\n",
       "  }\n",
       "\n",
       "  if (typeof (window._bokeh_onload_callbacks) === \"undefined\") {\n",
       "    window._bokeh_onload_callbacks = [];\n",
       "  }\n",
       "\n",
       "  function run_callbacks() {\n",
       "    window._bokeh_onload_callbacks.forEach(function(callback) { callback() });\n",
       "    delete window._bokeh_onload_callbacks\n",
       "    console.info(\"Bokeh: all callbacks have finished\");\n",
       "  }\n",
       "\n",
       "  function load_libs(js_urls, callback) {\n",
       "    window._bokeh_onload_callbacks.push(callback);\n",
       "    if (window._bokeh_is_loading > 0) {\n",
       "      console.log(\"Bokeh: BokehJS is being loaded, scheduling callback at\", now());\n",
       "      return null;\n",
       "    }\n",
       "    if (js_urls == null || js_urls.length === 0) {\n",
       "      run_callbacks();\n",
       "      return null;\n",
       "    }\n",
       "    console.log(\"Bokeh: BokehJS not loaded, scheduling load and callback at\", now());\n",
       "    window._bokeh_is_loading = js_urls.length;\n",
       "    for (var i = 0; i < js_urls.length; i++) {\n",
       "      var url = js_urls[i];\n",
       "      var s = document.createElement('script');\n",
       "      s.src = url;\n",
       "      s.async = false;\n",
       "      s.onreadystatechange = s.onload = function() {\n",
       "        window._bokeh_is_loading--;\n",
       "        if (window._bokeh_is_loading === 0) {\n",
       "          console.log(\"Bokeh: all BokehJS libraries loaded\");\n",
       "          run_callbacks()\n",
       "        }\n",
       "      };\n",
       "      s.onerror = function() {\n",
       "        console.warn(\"failed to load library \" + url);\n",
       "      };\n",
       "      console.log(\"Bokeh: injecting script tag for BokehJS library: \", url);\n",
       "      document.getElementsByTagName(\"head\")[0].appendChild(s);\n",
       "    }\n",
       "  };\n",
       "\n",
       "  var js_urls = ['https://cdn.pydata.org/bokeh/release/bokeh-0.11.1.min.js', 'https://cdn.pydata.org/bokeh/release/bokeh-widgets-0.11.1.min.js', 'https://cdn.pydata.org/bokeh/release/bokeh-compiler-0.11.1.min.js'];\n",
       "\n",
       "  var inline_js = [\n",
       "    function(Bokeh) {\n",
       "      Bokeh.set_log_level(\"info\");\n",
       "    },\n",
       "    \n",
       "    function(Bokeh) {\n",
       "      Bokeh.$(\"#7b27d152-d18d-4442-854a-a1cc6b1feb69\").text(\"BokehJS successfully loaded\");\n",
       "    },\n",
       "    function(Bokeh) {\n",
       "      console.log(\"Bokeh: injecting CSS: https://cdn.pydata.org/bokeh/release/bokeh-0.11.1.min.css\");\n",
       "      Bokeh.embed.inject_css(\"https://cdn.pydata.org/bokeh/release/bokeh-0.11.1.min.css\");\n",
       "      console.log(\"Bokeh: injecting CSS: https://cdn.pydata.org/bokeh/release/bokeh-widgets-0.11.1.min.css\");\n",
       "      Bokeh.embed.inject_css(\"https://cdn.pydata.org/bokeh/release/bokeh-widgets-0.11.1.min.css\");\n",
       "    }\n",
       "  ];\n",
       "\n",
       "  function run_inline_js() {\n",
       "    for (var i = 0; i < inline_js.length; i++) {\n",
       "      inline_js[i](window.Bokeh);\n",
       "    }\n",
       "  }\n",
       "\n",
       "  if (window._bokeh_is_loading === 0) {\n",
       "    console.log(\"Bokeh: BokehJS loaded, going straight to plotting\");\n",
       "    run_inline_js();\n",
       "  } else {\n",
       "    load_libs(js_urls, function() {\n",
       "      console.log(\"Bokeh: BokehJS plotting callback run at\", now());\n",
       "      run_inline_js();\n",
       "    });\n",
       "  }\n",
       "}(this));"
      ]
     },
     "metadata": {},
     "output_type": "display_data"
    }
   ],
   "source": [
    "from bokeh.plotting import figure, output_file, show, ColumnDataSource\n",
    "from bokeh.models import HoverTool\n",
    "import pandas as pd\n",
    "from bokeh.io import output_notebook\n",
    "import numpy as np\n",
    "from bokeh.models import (\n",
    "  GMapPlot, GMapOptions, ColumnDataSource, Circle, DataRange1d, PanTool, WheelZoomTool, BoxSelectTool\n",
    ")\n",
    "from bokeh.io import output_notebook\n",
    "output_notebook()"
   ]
  },
  {
   "cell_type": "code",
   "execution_count": 2,
   "metadata": {
    "collapsed": true
   },
   "outputs": [],
   "source": [
    "df = pd.read_csv(\"final_no_outlier\")\n"
   ]
  },
  {
   "cell_type": "code",
   "execution_count": 3,
   "metadata": {
    "collapsed": false
   },
   "outputs": [],
   "source": [
    "# Data for each layer\n",
    "\n",
    "D1 = df[df[\"edge_distance\"] <= (700/5280)]\n",
    "D2 = df[(df[\"edge_distance\"] <= (700*2/5280)) & (df[\"edge_distance\"] >= (700/5280))]\n",
    "D3 = df[(df[\"edge_distance\"] <= (700*3/5280)) & (df[\"edge_distance\"] >= (700*2/5280))]\n",
    "D4 = df[(df[\"edge_distance\"] <= (700*4/5280)) & (df[\"edge_distance\"] >= (700*3/5280))]\n",
    "D5 = df[(df[\"edge_distance\"] <= (700*5/5280)) & (df[\"edge_distance\"] >= (700*4/5280))]\n",
    "D6 = df[(df[\"edge_distance\"] <= (700*6/5280)) & (df[\"edge_distance\"] >= (700*5/5280))]\n",
    "D7 = df[(df[\"edge_distance\"] <= (700*7/5280)) & (df[\"edge_distance\"] >= (700*6/5280))]\n",
    "D8 = df[(df[\"edge_distance\"] <= (700*8/5280)) & (df[\"edge_distance\"] >= (700*7/5280))]\n",
    "D9 = df[(df[\"edge_distance\"] <= (700*9/5280)) & (df[\"edge_distance\"] >= (700*8/5280))]\n",
    "D10 = df[(df[\"edge_distance\"] >= (700*9/5280)) & (df[\"edge_distance\"] <= 2.06)]\n",
    "\n",
    "p = (D10[\"price per room\"].median()+D9[\"price per room\"].median()+D8[\"price per room\"].median()+D7[\"price per room\"].median()+D6[\"price per room\"].median()+D5[\"price per room\"].median()+D4[\"price per room\"].median()+D3[\"price per room\"].median()+D2[\"price per room\"].median()+D1[\"price per room\"].median())/10\n",
    "p1 = df[\"price per room\"].median()\n",
    "p2 = df[\"price per room\"].mean()\n",
    "p3 = (D10[\"price per room\"].mean()+D9[\"price per room\"].mean()+D8[\"price per room\"].mean()+D7[\"price per room\"].mean()+D6[\"price per room\"].mean()+D5[\"price per room\"].mean()+D4[\"price per room\"].mean()+D3[\"price per room\"].mean()+D2[\"price per room\"].mean()+D1[\"price per room\"].mean())/10"
   ]
  },
  {
   "cell_type": "code",
   "execution_count": 4,
   "metadata": {
    "collapsed": false
   },
   "outputs": [
    {
     "name": "stdout",
     "output_type": "stream",
     "text": [
      "* Room Price: $ 1785.0\n",
      "($17 less than the Berkeley average)\n",
      "* Room Size:  62.4 sqft\n",
      "* Number of Bedrooms:  0.41\n",
      "* Restaurant Rating:  4.02 out of 5 stars\n",
      "* 2.59 Cafes\n",
      "* 1.35 Pubs\n"
     ]
    }
   ],
   "source": [
    "#D1\n",
    "print(\"* Room Price: $\", D1[\"price per room\"].median())\n",
    "print(\"($17 less than the Berkeley average)\")\n",
    "print(\"* Room Size: \", round(D1[\"sqft per room\"].mean(), 2), \"sqft\")\n",
    "print(\"* Number of Bedrooms: \", round(D1[\"bedrooms\"].mean(), 2))\n",
    "print(\"* Restaurant Rating: \", round(D1[\"avg_rating\"].mean(), 2), \"out of 5 stars\")\n",
    "print(\"*\", round(D1[\"#cafes\"].mean(), 2), 'Cafes')\n",
    "print(\"*\", round(D1[\"#pubs\"].mean(), 2), 'Pubs')"
   ]
  },
  {
   "cell_type": "code",
   "execution_count": 17,
   "metadata": {
    "collapsed": false
   },
   "outputs": [
    {
     "name": "stdout",
     "output_type": "stream",
     "text": [
      "3 17.0\n",
      "2 23.0\n",
      "6 -113.0\n",
      "4 -16.0\n",
      "10 -190.5\n",
      "9 -148.0\n",
      "5 -74.5\n",
      "7 -125.0\n",
      "8 -126.0\n",
      "1 52.0\n"
     ]
    }
   ],
   "source": [
    "print('3',p1 - D1[\"price per room\"].median())\n",
    "print('2',p1 - D2[\"price per room\"].median())\n",
    "print('6',p1 - D3[\"price per room\"].median())\n",
    "print('4',p1 - D4[\"price per room\"].median())\n",
    "print('10',p1 - D5[\"price per room\"].median())\n",
    "print('9',p1 - D6[\"price per room\"].median())\n",
    "print('5',p1 - D7[\"price per room\"].median())\n",
    "print('7',p1 - D8[\"price per room\"].median())\n",
    "print('8',p1 - D9[\"price per room\"].median())\n",
    "print('1',p1 - D10[\"price per room\"].median())"
   ]
  },
  {
   "cell_type": "code",
   "execution_count": 6,
   "metadata": {
    "collapsed": false
   },
   "outputs": [
    {
     "name": "stdout",
     "output_type": "stream",
     "text": [
      "* Room Price: $ 1779.0\n",
      "($23 less than the Berkeley average)\n",
      "* Room Size:  114.9 sqft\n",
      "* Number of Bedrooms:  0.73\n",
      "* Restaurant Rating:  4.07 out of 5 stars\n",
      "* 3.59 Cafes\n",
      "* 0.51 Pubs\n"
     ]
    }
   ],
   "source": [
    "#D2\n",
    "print(\"* Room Price: $\", D2[\"price per room\"].median())\n",
    "print(\"($23 less than the Berkeley average)\")\n",
    "print(\"* Room Size: \", round(D2[\"sqft per room\"].mean(), 2), \"sqft\")\n",
    "print(\"* Number of Bedrooms: \", round(D2[\"bedrooms\"].mean(), 2))\n",
    "print(\"* Restaurant Rating: \", round(D2[\"avg_rating\"].mean(), 2), \"out of 5 stars\")\n",
    "print(\"*\", round(D2[\"#cafes\"].mean(), 2), 'Cafes')\n",
    "print(\"*\", round(D2[\"#pubs\"].mean(), 2), 'Pubs')"
   ]
  },
  {
   "cell_type": "code",
   "execution_count": 11,
   "metadata": {
    "collapsed": false
   },
   "outputs": [
    {
     "name": "stdout",
     "output_type": "stream",
     "text": [
      "* Room Price: $ 1915.0\n",
      "($113 more than the Berkeley average)\n",
      "* Room Size:  239.42 sqft\n",
      "* Number of Bedrooms:  0.36\n",
      "* Restaurant Rating:  4.05 out of 5 stars\n",
      "* 3.63 Cafes\n",
      "* 0.51 Pubs\n"
     ]
    }
   ],
   "source": [
    "#D3\n",
    "print(\"* Room Price: $\", D3[\"price per room\"].median())\n",
    "print(\"($113 more than the Berkeley average)\")\n",
    "print(\"* Room Size: \", round(D3[\"sqft per room\"].mean(), 2), \"sqft\")\n",
    "print(\"* Number of Bedrooms: \", round(D3[\"bedrooms\"].mean(), 2))\n",
    "print(\"* Restaurant Rating: \", round(D3[\"avg_rating\"].mean(), 2), \"out of 5 stars\")\n",
    "print(\"*\", round(D3[\"#cafes\"].mean(), 2), 'Cafes')\n",
    "print(\"*\", round(D3[\"#pubs\"].mean(), 2), 'Pubs')"
   ]
  },
  {
   "cell_type": "code",
   "execution_count": 8,
   "metadata": {
    "collapsed": false
   },
   "outputs": [
    {
     "name": "stdout",
     "output_type": "stream",
     "text": [
      "* Room Price: $ 1818.0\n",
      "($16 more than the Berkeley average)\n",
      "* Room Size:  278.33 sqft\n",
      "* Number of Bedrooms:  0.47\n",
      "* Restaurant Rating:  4.04 out of 5 stars\n",
      "* 2.31 Cafes\n",
      "* 0.46 Pubs\n"
     ]
    }
   ],
   "source": [
    "#D4\n",
    "print(\"* Room Price: $\", D4[\"price per room\"].median())\n",
    "print(\"($16 more than the Berkeley average)\")\n",
    "print(\"* Room Size: \", round(D4[\"sqft per room\"].mean(), 2), \"sqft\")\n",
    "print(\"* Number of Bedrooms: \", round(D4[\"bedrooms\"].mean(), 2))\n",
    "print(\"* Restaurant Rating: \", round(D4[\"avg_rating\"].mean(), 2), \"out of 5 stars\")\n",
    "print(\"*\", round(D4[\"#cafes\"].mean(), 2), 'Cafes')\n",
    "print(\"*\", round(D4[\"#pubs\"].mean(), 2), 'Pubs')"
   ]
  },
  {
   "cell_type": "code",
   "execution_count": 9,
   "metadata": {
    "collapsed": false
   },
   "outputs": [
    {
     "name": "stdout",
     "output_type": "stream",
     "text": [
      "* Room Price: $ 1992.5\n",
      "($190.5 more than the Berkeley average)\n",
      "* Room Size:  287.95 sqft\n",
      "* Number of Bedrooms:  0.39\n",
      "* Restaurant Rating:  4.04 out of 5 stars\n",
      "* 1.98 Cafes\n",
      "* 0.56 Pubs\n"
     ]
    }
   ],
   "source": [
    "#D5\n",
    "print(\"* Room Price: $\", D5[\"price per room\"].median())\n",
    "print(\"($190.5 more than the Berkeley average)\")\n",
    "print(\"* Room Size: \", round(D5[\"sqft per room\"].mean(), 2), \"sqft\")\n",
    "print(\"* Number of Bedrooms: \", round(D5[\"bedrooms\"].mean(), 2))\n",
    "print(\"* Restaurant Rating: \", round(D5[\"avg_rating\"].mean(), 2), \"out of 5 stars\")\n",
    "print(\"*\", round(D5[\"#cafes\"].mean(), 2), 'Cafes')\n",
    "print(\"*\", round(D5[\"#pubs\"].mean(), 2), 'Pubs')"
   ]
  },
  {
   "cell_type": "code",
   "execution_count": 12,
   "metadata": {
    "collapsed": false
   },
   "outputs": [
    {
     "name": "stdout",
     "output_type": "stream",
     "text": [
      "* Room Price: $ 1950.0\n",
      "($148 more than the Berkeley average)\n",
      "* Room Size:  202.18 sqft\n",
      "* Number of Bedrooms:  0.48\n",
      "* Restaurant Rating:  4.03 out of 5 stars\n",
      "* 1.84 Cafes\n",
      "* 0.69 Pubs\n"
     ]
    }
   ],
   "source": [
    "#D6\n",
    "print(\"* Room Price: $\", D6[\"price per room\"].median())\n",
    "print(\"($148 more than the Berkeley average)\")\n",
    "print(\"* Room Size: \", round(D6[\"sqft per room\"].mean(), 2), \"sqft\")\n",
    "print(\"* Number of Bedrooms: \", round(D6[\"bedrooms\"].mean(), 2))\n",
    "print(\"* Restaurant Rating: \", round(D6[\"avg_rating\"].mean(), 2), \"out of 5 stars\")\n",
    "print(\"*\", round(D6[\"#cafes\"].mean(), 2), 'Cafes')\n",
    "print(\"*\", round(D6[\"#pubs\"].mean(), 2), 'Pubs')"
   ]
  },
  {
   "cell_type": "code",
   "execution_count": 13,
   "metadata": {
    "collapsed": false,
    "scrolled": true
   },
   "outputs": [
    {
     "name": "stdout",
     "output_type": "stream",
     "text": [
      "* Room Price: $ 1876.5\n",
      "($74.5 more than the Berkeley average)\n",
      "* Room Size:  189.48 sqft\n",
      "* Number of Bedrooms:  0.29\n",
      "* Restaurant Rating:  4.03 out of 5 stars\n",
      "* 2.16 Cafes\n",
      "* 0.75 Pubs\n"
     ]
    }
   ],
   "source": [
    "#D7\n",
    "print(\"* Room Price: $\", D7[\"price per room\"].median())\n",
    "print(\"($74.5 more than the Berkeley average)\")\n",
    "print(\"* Room Size: \", round(D7[\"sqft per room\"].mean(), 2), \"sqft\")\n",
    "print(\"* Number of Bedrooms: \", round(D7[\"bedrooms\"].mean(), 2))\n",
    "print(\"* Restaurant Rating: \", round(D7[\"avg_rating\"].mean(), 2), \"out of 5 stars\")\n",
    "print(\"*\", round(D7[\"#cafes\"].mean(), 2), 'Cafes')\n",
    "print(\"*\", round(D7[\"#pubs\"].mean(), 2), 'Pubs')"
   ]
  },
  {
   "cell_type": "code",
   "execution_count": 14,
   "metadata": {
    "collapsed": false,
    "scrolled": true
   },
   "outputs": [
    {
     "name": "stdout",
     "output_type": "stream",
     "text": [
      "* Room Price: $ 1927.0\n",
      "($125 more than the Berkeley average)\n",
      "* Room Size:  209.43 sqft\n",
      "* Number of Bedrooms:  0.37\n",
      "* Restaurant Rating:  4.02 out of 5 stars\n",
      "* 2.53 Cafes\n",
      "* 0.69 Pubs\n"
     ]
    }
   ],
   "source": [
    "#D8\n",
    "print(\"* Room Price: $\", D8[\"price per room\"].median())\n",
    "print(\"($125 more than the Berkeley average)\")\n",
    "print(\"* Room Size: \", round(D8[\"sqft per room\"].mean(), 2), \"sqft\")\n",
    "print(\"* Number of Bedrooms: \", round(D8[\"bedrooms\"].mean(), 2))\n",
    "print(\"* Restaurant Rating: \", round(D8[\"avg_rating\"].mean(), 2), \"out of 5 stars\")\n",
    "print(\"*\", round(D8[\"#cafes\"].mean(), 2), 'Cafes')\n",
    "print(\"*\", round(D8[\"#pubs\"].mean(), 2), 'Pubs')"
   ]
  },
  {
   "cell_type": "code",
   "execution_count": 15,
   "metadata": {
    "collapsed": false
   },
   "outputs": [
    {
     "name": "stdout",
     "output_type": "stream",
     "text": [
      "* Room Price: $ 1928.0\n",
      "($126 more than the Berkeley average)\n",
      "* Room Size:  150.0 sqft\n",
      "* Number of Bedrooms:  0.31\n",
      "* Restaurant Rating:  4.02 out of 5 stars\n",
      "* 2.77 Cafes\n",
      "* 0.63 Pubs\n"
     ]
    }
   ],
   "source": [
    "#D9\n",
    "print(\"* Room Price: $\", D9[\"price per room\"].median())\n",
    "print(\"($126 more than the Berkeley average)\")\n",
    "print(\"* Room Size: \", round(D9[\"sqft per room\"].mean(), 2), \"sqft\")\n",
    "print(\"* Number of Bedrooms: \", round(D9[\"bedrooms\"].mean(), 2))\n",
    "print(\"* Restaurant Rating: \", round(D9[\"avg_rating\"].mean(), 2), \"out of 5 stars\")\n",
    "print(\"*\", round(D9[\"#cafes\"].mean(), 2), 'Cafes')\n",
    "print(\"*\", round(D9[\"#pubs\"].mean(), 2), 'Pubs')"
   ]
  },
  {
   "cell_type": "code",
   "execution_count": 16,
   "metadata": {
    "collapsed": false
   },
   "outputs": [
    {
     "name": "stdout",
     "output_type": "stream",
     "text": [
      "* Room Price: $ 1750.0\n",
      "($52 more than the Berkeley average)\n",
      "* Room Size:  257.66 sqft\n",
      "* Number of Bedrooms:  0.34\n",
      "* Restaurant Rating:  4.03 out of 5 stars\n",
      "* 3.1 Cafes\n",
      "* 0.85 Pubs\n"
     ]
    }
   ],
   "source": [
    "#D10\n",
    "print(\"* Room Price: $\", D10[\"price per room\"].median())\n",
    "print(\"($52 more than the Berkeley average)\")\n",
    "print(\"* Room Size: \", round(D10[\"sqft per room\"].mean(), 2), \"sqft\")\n",
    "print(\"* Number of Bedrooms: \", round(D10[\"bedrooms\"].mean(), 2))\n",
    "print(\"* Restaurant Rating: \", round(D10[\"avg_rating\"].mean(), 2), \"out of 5 stars\")\n",
    "print(\"*\", round(D10[\"#cafes\"].mean(), 2), 'Cafes')\n",
    "print(\"*\", round(D10[\"#pubs\"].mean(), 2), 'Pubs')"
   ]
  },
  {
   "cell_type": "code",
   "execution_count": null,
   "metadata": {
    "collapsed": true
   },
   "outputs": [],
   "source": []
  }
 ],
 "metadata": {
  "kernelspec": {
   "display_name": "Python 3",
   "language": "python",
   "name": "python3"
  },
  "language_info": {
   "codemirror_mode": {
    "name": "ipython",
    "version": 3
   },
   "file_extension": ".py",
   "mimetype": "text/x-python",
   "name": "python",
   "nbconvert_exporter": "python",
   "pygments_lexer": "ipython3",
   "version": "3.5.1"
  }
 },
 "nbformat": 4,
 "nbformat_minor": 0
}
