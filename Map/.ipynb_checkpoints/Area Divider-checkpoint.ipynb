{
 "cells": [
  {
   "cell_type": "code",
   "execution_count": 1,
   "metadata": {
    "collapsed": false
   },
   "outputs": [
    {
     "data": {
      "text/html": [
       "\n",
       "    <div class=\"bk-banner\">\n",
       "        <a href=\"http://bokeh.pydata.org\" target=\"_blank\" class=\"bk-logo bk-logo-small bk-logo-notebook\"></a>\n",
       "        <span id=\"d14f206e-e886-4f4c-8885-9280cc377b4c\">Loading BokehJS ...</span>\n",
       "    </div>"
      ]
     },
     "metadata": {},
     "output_type": "display_data"
    },
    {
     "data": {
      "application/javascript": [
       "\n",
       "(function(global) {\n",
       "  function now() {\n",
       "    return new Date();\n",
       "  }\n",
       "\n",
       "  if (typeof (window._bokeh_onload_callbacks) === \"undefined\") {\n",
       "    window._bokeh_onload_callbacks = [];\n",
       "  }\n",
       "\n",
       "  function run_callbacks() {\n",
       "    window._bokeh_onload_callbacks.forEach(function(callback) { callback() });\n",
       "    delete window._bokeh_onload_callbacks\n",
       "    console.info(\"Bokeh: all callbacks have finished\");\n",
       "  }\n",
       "\n",
       "  function load_libs(js_urls, callback) {\n",
       "    window._bokeh_onload_callbacks.push(callback);\n",
       "    if (window._bokeh_is_loading > 0) {\n",
       "      console.log(\"Bokeh: BokehJS is being loaded, scheduling callback at\", now());\n",
       "      return null;\n",
       "    }\n",
       "    if (js_urls == null || js_urls.length === 0) {\n",
       "      run_callbacks();\n",
       "      return null;\n",
       "    }\n",
       "    console.log(\"Bokeh: BokehJS not loaded, scheduling load and callback at\", now());\n",
       "    window._bokeh_is_loading = js_urls.length;\n",
       "    for (var i = 0; i < js_urls.length; i++) {\n",
       "      var url = js_urls[i];\n",
       "      var s = document.createElement('script');\n",
       "      s.src = url;\n",
       "      s.async = false;\n",
       "      s.onreadystatechange = s.onload = function() {\n",
       "        window._bokeh_is_loading--;\n",
       "        if (window._bokeh_is_loading === 0) {\n",
       "          console.log(\"Bokeh: all BokehJS libraries loaded\");\n",
       "          run_callbacks()\n",
       "        }\n",
       "      };\n",
       "      s.onerror = function() {\n",
       "        console.warn(\"failed to load library \" + url);\n",
       "      };\n",
       "      console.log(\"Bokeh: injecting script tag for BokehJS library: \", url);\n",
       "      document.getElementsByTagName(\"head\")[0].appendChild(s);\n",
       "    }\n",
       "  };\n",
       "\n",
       "  var js_urls = ['https://cdn.pydata.org/bokeh/release/bokeh-0.11.1.min.js', 'https://cdn.pydata.org/bokeh/release/bokeh-widgets-0.11.1.min.js', 'https://cdn.pydata.org/bokeh/release/bokeh-compiler-0.11.1.min.js'];\n",
       "\n",
       "  var inline_js = [\n",
       "    function(Bokeh) {\n",
       "      Bokeh.set_log_level(\"info\");\n",
       "    },\n",
       "    \n",
       "    function(Bokeh) {\n",
       "      Bokeh.$(\"#d14f206e-e886-4f4c-8885-9280cc377b4c\").text(\"BokehJS successfully loaded\");\n",
       "    },\n",
       "    function(Bokeh) {\n",
       "      console.log(\"Bokeh: injecting CSS: https://cdn.pydata.org/bokeh/release/bokeh-0.11.1.min.css\");\n",
       "      Bokeh.embed.inject_css(\"https://cdn.pydata.org/bokeh/release/bokeh-0.11.1.min.css\");\n",
       "      console.log(\"Bokeh: injecting CSS: https://cdn.pydata.org/bokeh/release/bokeh-widgets-0.11.1.min.css\");\n",
       "      Bokeh.embed.inject_css(\"https://cdn.pydata.org/bokeh/release/bokeh-widgets-0.11.1.min.css\");\n",
       "    }\n",
       "  ];\n",
       "\n",
       "  function run_inline_js() {\n",
       "    for (var i = 0; i < inline_js.length; i++) {\n",
       "      inline_js[i](window.Bokeh);\n",
       "    }\n",
       "  }\n",
       "\n",
       "  if (window._bokeh_is_loading === 0) {\n",
       "    console.log(\"Bokeh: BokehJS loaded, going straight to plotting\");\n",
       "    run_inline_js();\n",
       "  } else {\n",
       "    load_libs(js_urls, function() {\n",
       "      console.log(\"Bokeh: BokehJS plotting callback run at\", now());\n",
       "      run_inline_js();\n",
       "    });\n",
       "  }\n",
       "}(this));"
      ]
     },
     "metadata": {},
     "output_type": "display_data"
    }
   ],
   "source": [
    "from bokeh.plotting import figure, output_file, show, ColumnDataSource\n",
    "from bokeh.models import HoverTool\n",
    "import pandas as pd\n",
    "from bokeh.io import output_notebook\n",
    "import numpy as np\n",
    "from bokeh.models import (\n",
    "  GMapPlot, GMapOptions, ColumnDataSource, Circle, DataRange1d, PanTool, WheelZoomTool, BoxSelectTool\n",
    ")\n",
    "from bokeh.io import output_notebook\n",
    "output_notebook()"
   ]
  },
  {
   "cell_type": "code",
   "execution_count": 2,
   "metadata": {
    "collapsed": true
   },
   "outputs": [],
   "source": [
    "df = pd.read_csv(\"final_no_outlier\")\n",
    "\n",
    "latitude = df['latitude'].tolist()\n",
    "longitude = df['longitude'].tolist()\n",
    "price = df['price per room'].tolist()\n",
    "r = [0.0003] * len(price)\n",
    "address = df['address'].tolist()\n",
    "distance = df['edge_distance'].tolist()\n",
    "sqft = df['sqft per room'].tolist()\n",
    "food = df['avg_rating'].tolist()\n",
    "cafes = df['#cafes'].tolist()\n",
    "pubs = df['#pubs'].tolist()"
   ]
  },
  {
   "cell_type": "code",
   "execution_count": 3,
   "metadata": {
    "collapsed": false,
    "scrolled": false
   },
   "outputs": [
    {
     "data": {
      "text/html": [
       "\n",
       "\n",
       "    <div class=\"plotdiv\" id=\"3ba18eff-c88e-477f-8fdf-2162d36053c8\"></div>\n",
       "<script type=\"text/javascript\">\n",
       "  \n",
       "  (function(global) {\n",
       "    function now() {\n",
       "      return new Date();\n",
       "    }\n",
       "  \n",
       "    if (typeof (window._bokeh_onload_callbacks) === \"undefined\") {\n",
       "      window._bokeh_onload_callbacks = [];\n",
       "    }\n",
       "  \n",
       "    function run_callbacks() {\n",
       "      window._bokeh_onload_callbacks.forEach(function(callback) { callback() });\n",
       "      delete window._bokeh_onload_callbacks\n",
       "      console.info(\"Bokeh: all callbacks have finished\");\n",
       "    }\n",
       "  \n",
       "    function load_libs(js_urls, callback) {\n",
       "      window._bokeh_onload_callbacks.push(callback);\n",
       "      if (window._bokeh_is_loading > 0) {\n",
       "        console.log(\"Bokeh: BokehJS is being loaded, scheduling callback at\", now());\n",
       "        return null;\n",
       "      }\n",
       "      if (js_urls == null || js_urls.length === 0) {\n",
       "        run_callbacks();\n",
       "        return null;\n",
       "      }\n",
       "      console.log(\"Bokeh: BokehJS not loaded, scheduling load and callback at\", now());\n",
       "      window._bokeh_is_loading = js_urls.length;\n",
       "      for (var i = 0; i < js_urls.length; i++) {\n",
       "        var url = js_urls[i];\n",
       "        var s = document.createElement('script');\n",
       "        s.src = url;\n",
       "        s.async = false;\n",
       "        s.onreadystatechange = s.onload = function() {\n",
       "          window._bokeh_is_loading--;\n",
       "          if (window._bokeh_is_loading === 0) {\n",
       "            console.log(\"Bokeh: all BokehJS libraries loaded\");\n",
       "            run_callbacks()\n",
       "          }\n",
       "        };\n",
       "        s.onerror = function() {\n",
       "          console.warn(\"failed to load library \" + url);\n",
       "        };\n",
       "        console.log(\"Bokeh: injecting script tag for BokehJS library: \", url);\n",
       "        document.getElementsByTagName(\"head\")[0].appendChild(s);\n",
       "      }\n",
       "    };var element = document.getElementById(\"3ba18eff-c88e-477f-8fdf-2162d36053c8\");\n",
       "    if (element == null) {\n",
       "      console.log(\"Bokeh: ERROR: autoload.js configured with elementid '3ba18eff-c88e-477f-8fdf-2162d36053c8' but no matching script tag was found. \")\n",
       "      return false;\n",
       "    }\n",
       "  \n",
       "    var js_urls = [];\n",
       "  \n",
       "    var inline_js = [\n",
       "      function(Bokeh) {\n",
       "        Bokeh.$(function() {\n",
       "            var docs_json = {\"d88a898f-2687-4e5e-955a-9d2f559c19ac\":{\"roots\":{\"references\":[{\"attributes\":{\"callback\":null,\"column_names\":[\"ys\",\"color\",\"xs\"],\"data\":{\"color\":[\"#FFA500\",\"#AFEEEE\",\"#BDB76B\",\"#FA8072\",\"#8B008B\",\"grey\",\"brown\"],\"xs\":[[-122.30581,-122.30323,-122.28302,-122.26349,-122.26456],[-122.30323,-122.28302,-122.28182,-122.28092,-122.27903,-122.29482],[-122.29482,-122.29165,-122.24255,-122.24541,-122.26588,-122.27903],[-122.28302,-122.26349,-122.25688,-122.26628,-122.28182],[-122.28182,-122.26628,-122.26641,-122.28092],[-122.26641,-122.24847,-122.24541,-122.26588],[-122.26641,-122.28092,-122.27903,-122.26588]],\"ys\":[[37.88745,37.87796,37.88057,37.88303,37.89135],[37.87796,37.88057,37.87221,37.86614,37.85313,37.85059],[37.85059,37.83886,37.84679,37.85843,37.85519,37.85313],[37.88057,37.88303,37.87553,37.87418,37.87221],[37.87221,37.87418,37.86756,37.86614],[37.86756,37.86977,37.85843,37.85519],[37.86756,37.86614,37.85313,37.85519]]}},\"id\":\"ee16b20a-dc45-4363-8921-5409551ee8bb\",\"type\":\"ColumnDataSource\"},{\"attributes\":{\"plot\":{\"id\":\"3a838d6b-3517-4e35-94ec-2e292290bfa8\",\"subtype\":\"Figure\",\"type\":\"Plot\"}},\"id\":\"9a82e9c4-60ca-45c8-9ea2-451469e063b1\",\"type\":\"ResizeTool\"},{\"attributes\":{\"data_source\":{\"id\":\"ee16b20a-dc45-4363-8921-5409551ee8bb\",\"type\":\"ColumnDataSource\"},\"glyph\":{\"id\":\"87094460-6885-4a41-bf81-573702f7efef\",\"type\":\"Patches\"},\"hover_glyph\":null,\"nonselection_glyph\":{\"id\":\"b723a570-b822-4024-87b0-05826f77248b\",\"type\":\"Patches\"},\"selection_glyph\":null},\"id\":\"d7d069b8-e687-4f14-87ef-b4e991730372\",\"type\":\"GlyphRenderer\"},{\"attributes\":{\"plot\":{\"id\":\"3a838d6b-3517-4e35-94ec-2e292290bfa8\",\"subtype\":\"Figure\",\"type\":\"Plot\"}},\"id\":\"8a529e7d-be67-4fcd-90e9-b07b76e0fb66\",\"type\":\"PanTool\"},{\"attributes\":{},\"id\":\"5963ecf7-a4ad-44b9-8a91-8eab5d87985f\",\"type\":\"BasicTickFormatter\"},{\"attributes\":{\"overlay\":{\"id\":\"be7391ad-86ef-43f8-a577-d21677f7707e\",\"type\":\"BoxAnnotation\"},\"plot\":{\"id\":\"3a838d6b-3517-4e35-94ec-2e292290bfa8\",\"subtype\":\"Figure\",\"type\":\"Plot\"}},\"id\":\"3528126b-7777-495e-b15c-eab232a2eb90\",\"type\":\"BoxZoomTool\"},{\"attributes\":{\"formatter\":{\"id\":\"5963ecf7-a4ad-44b9-8a91-8eab5d87985f\",\"type\":\"BasicTickFormatter\"},\"plot\":{\"id\":\"3a838d6b-3517-4e35-94ec-2e292290bfa8\",\"subtype\":\"Figure\",\"type\":\"Plot\"},\"ticker\":{\"id\":\"7d9c5477-c679-42f5-813a-12e7c94bb74d\",\"type\":\"BasicTicker\"}},\"id\":\"fc04125f-1344-40fc-9c36-ae5d427404ca\",\"type\":\"LinearAxis\"},{\"attributes\":{},\"id\":\"7d9c5477-c679-42f5-813a-12e7c94bb74d\",\"type\":\"BasicTicker\"},{\"attributes\":{\"callback\":null},\"id\":\"9f174f41-0fd0-4e3f-82f6-146fa26d1d61\",\"type\":\"DataRange1d\"},{\"attributes\":{\"plot\":{\"id\":\"3a838d6b-3517-4e35-94ec-2e292290bfa8\",\"subtype\":\"Figure\",\"type\":\"Plot\"}},\"id\":\"76750500-10b2-45c8-a0b5-e697cac8f4e6\",\"type\":\"ResetTool\"},{\"attributes\":{\"plot\":{\"id\":\"3a838d6b-3517-4e35-94ec-2e292290bfa8\",\"subtype\":\"Figure\",\"type\":\"Plot\"},\"ticker\":{\"id\":\"215eb979-7ecf-4aeb-919f-c9d7200267ad\",\"type\":\"BasicTicker\"}},\"id\":\"4b72ae69-c230-4914-a387-7a9215cd5f8d\",\"type\":\"Grid\"},{\"attributes\":{\"bottom_units\":\"screen\",\"fill_alpha\":{\"value\":0.5},\"fill_color\":{\"value\":\"lightgrey\"},\"left_units\":\"screen\",\"level\":\"overlay\",\"line_alpha\":{\"value\":1.0},\"line_color\":{\"value\":\"black\"},\"line_dash\":[4,4],\"line_width\":{\"value\":2},\"plot\":null,\"render_mode\":\"css\",\"right_units\":\"screen\",\"top_units\":\"screen\"},\"id\":\"be7391ad-86ef-43f8-a577-d21677f7707e\",\"type\":\"BoxAnnotation\"},{\"attributes\":{\"plot\":{\"id\":\"3a838d6b-3517-4e35-94ec-2e292290bfa8\",\"subtype\":\"Figure\",\"type\":\"Plot\"}},\"id\":\"94be5c1b-fd60-4dc1-b6ed-25370898a2ff\",\"type\":\"HelpTool\"},{\"attributes\":{\"plot\":{\"id\":\"3a838d6b-3517-4e35-94ec-2e292290bfa8\",\"subtype\":\"Figure\",\"type\":\"Plot\"}},\"id\":\"51b6d5f3-5987-4e82-bd2a-b4557af9d3c1\",\"type\":\"WheelZoomTool\"},{\"attributes\":{\"fill_alpha\":{\"value\":0.4},\"fill_color\":{\"field\":\"color\"},\"line_width\":{\"value\":0.5},\"xs\":{\"field\":\"xs\"},\"ys\":{\"field\":\"ys\"}},\"id\":\"87094460-6885-4a41-bf81-573702f7efef\",\"type\":\"Patches\"},{\"attributes\":{\"dimension\":1,\"plot\":{\"id\":\"3a838d6b-3517-4e35-94ec-2e292290bfa8\",\"subtype\":\"Figure\",\"type\":\"Plot\"},\"ticker\":{\"id\":\"7d9c5477-c679-42f5-813a-12e7c94bb74d\",\"type\":\"BasicTicker\"}},\"id\":\"67e16a08-cae6-43db-a2e7-9b6aa5cde89c\",\"type\":\"Grid\"},{\"attributes\":{},\"id\":\"a5b28381-f917-43a8-afd8-5c5d652eb1e1\",\"type\":\"ToolEvents\"},{\"attributes\":{\"formatter\":{\"id\":\"68ce25ec-7e40-47cf-bfe9-d2026a39b8de\",\"type\":\"BasicTickFormatter\"},\"plot\":{\"id\":\"3a838d6b-3517-4e35-94ec-2e292290bfa8\",\"subtype\":\"Figure\",\"type\":\"Plot\"},\"ticker\":{\"id\":\"215eb979-7ecf-4aeb-919f-c9d7200267ad\",\"type\":\"BasicTicker\"}},\"id\":\"230d4d29-07fd-4840-b320-a4f5880b3875\",\"type\":\"LinearAxis\"},{\"attributes\":{\"callback\":null},\"id\":\"9433cd29-9c80-480c-9b42-7eb7a6344896\",\"type\":\"DataRange1d\"},{\"attributes\":{\"below\":[{\"id\":\"230d4d29-07fd-4840-b320-a4f5880b3875\",\"type\":\"LinearAxis\"}],\"left\":[{\"id\":\"fc04125f-1344-40fc-9c36-ae5d427404ca\",\"type\":\"LinearAxis\"}],\"renderers\":[{\"id\":\"230d4d29-07fd-4840-b320-a4f5880b3875\",\"type\":\"LinearAxis\"},{\"id\":\"4b72ae69-c230-4914-a387-7a9215cd5f8d\",\"type\":\"Grid\"},{\"id\":\"fc04125f-1344-40fc-9c36-ae5d427404ca\",\"type\":\"LinearAxis\"},{\"id\":\"67e16a08-cae6-43db-a2e7-9b6aa5cde89c\",\"type\":\"Grid\"},{\"id\":\"be7391ad-86ef-43f8-a577-d21677f7707e\",\"type\":\"BoxAnnotation\"},{\"id\":\"d7d069b8-e687-4f14-87ef-b4e991730372\",\"type\":\"GlyphRenderer\"}],\"title\":\"Test\",\"tool_events\":{\"id\":\"a5b28381-f917-43a8-afd8-5c5d652eb1e1\",\"type\":\"ToolEvents\"},\"tools\":[{\"id\":\"8a529e7d-be67-4fcd-90e9-b07b76e0fb66\",\"type\":\"PanTool\"},{\"id\":\"51b6d5f3-5987-4e82-bd2a-b4557af9d3c1\",\"type\":\"WheelZoomTool\"},{\"id\":\"3528126b-7777-495e-b15c-eab232a2eb90\",\"type\":\"BoxZoomTool\"},{\"id\":\"d4cae031-346d-4273-a658-4fc10747a802\",\"type\":\"PreviewSaveTool\"},{\"id\":\"9a82e9c4-60ca-45c8-9ea2-451469e063b1\",\"type\":\"ResizeTool\"},{\"id\":\"76750500-10b2-45c8-a0b5-e697cac8f4e6\",\"type\":\"ResetTool\"},{\"id\":\"94be5c1b-fd60-4dc1-b6ed-25370898a2ff\",\"type\":\"HelpTool\"}],\"x_range\":{\"id\":\"9433cd29-9c80-480c-9b42-7eb7a6344896\",\"type\":\"DataRange1d\"},\"y_range\":{\"id\":\"9f174f41-0fd0-4e3f-82f6-146fa26d1d61\",\"type\":\"DataRange1d\"}},\"id\":\"3a838d6b-3517-4e35-94ec-2e292290bfa8\",\"subtype\":\"Figure\",\"type\":\"Plot\"},{\"attributes\":{},\"id\":\"68ce25ec-7e40-47cf-bfe9-d2026a39b8de\",\"type\":\"BasicTickFormatter\"},{\"attributes\":{},\"id\":\"215eb979-7ecf-4aeb-919f-c9d7200267ad\",\"type\":\"BasicTicker\"},{\"attributes\":{\"plot\":{\"id\":\"3a838d6b-3517-4e35-94ec-2e292290bfa8\",\"subtype\":\"Figure\",\"type\":\"Plot\"}},\"id\":\"d4cae031-346d-4273-a658-4fc10747a802\",\"type\":\"PreviewSaveTool\"},{\"attributes\":{\"fill_alpha\":{\"value\":0.1},\"fill_color\":{\"value\":\"#1f77b4\"},\"line_alpha\":{\"value\":0.1},\"line_color\":{\"value\":\"#1f77b4\"},\"line_width\":{\"value\":0.5},\"xs\":{\"field\":\"xs\"},\"ys\":{\"field\":\"ys\"}},\"id\":\"b723a570-b822-4024-87b0-05826f77248b\",\"type\":\"Patches\"}],\"root_ids\":[\"3a838d6b-3517-4e35-94ec-2e292290bfa8\"]},\"title\":\"Bokeh Application\",\"version\":\"0.11.1\"}};\n",
       "            var render_items = [{\"docid\":\"d88a898f-2687-4e5e-955a-9d2f559c19ac\",\"elementid\":\"3ba18eff-c88e-477f-8fdf-2162d36053c8\",\"modelid\":\"3a838d6b-3517-4e35-94ec-2e292290bfa8\",\"notebook_comms_target\":\"0f47e1da-cc52-4cbc-8e62-272af000f213\"}];\n",
       "            \n",
       "            Bokeh.embed.embed_items(docs_json, render_items);\n",
       "        });\n",
       "      },\n",
       "      function(Bokeh) {\n",
       "      }\n",
       "    ];\n",
       "  \n",
       "    function run_inline_js() {\n",
       "      for (var i = 0; i < inline_js.length; i++) {\n",
       "        inline_js[i](window.Bokeh);\n",
       "      }\n",
       "    }\n",
       "  \n",
       "    if (window._bokeh_is_loading === 0) {\n",
       "      console.log(\"Bokeh: BokehJS loaded, going straight to plotting\");\n",
       "      run_inline_js();\n",
       "    } else {\n",
       "      load_libs(js_urls, function() {\n",
       "        console.log(\"Bokeh: BokehJS plotting callback run at\", now());\n",
       "        run_inline_js();\n",
       "      });\n",
       "    }\n",
       "  }(this));\n",
       "</script>"
      ]
     },
     "metadata": {},
     "output_type": "display_data"
    },
    {
     "data": {
      "text/html": [
       "<p><code>&lt;Bokeh Notebook handle for <strong>In[3]</strong>&gt;</code></p>"
      ],
      "text/plain": [
       "<bokeh.io._CommsHandle at 0x1131b5cc0>"
      ]
     },
     "execution_count": 3,
     "metadata": {},
     "output_type": "execute_result"
    }
   ],
   "source": [
    "farNorth = [[37.88745, 37.87796, 37.88057, 37.88303, 37.89135], \n",
    "            [-122.30581, -122.30323, -122.28302, -122.26349, -122.26456]]\n",
    "farWest = [[37.87796, 37.88057, 37.87221, 37.86614, 37.85313, 37.85059], \n",
    "           [-122.30323, -122.28302, -122.28182, -122.28092, -122.27903, -122.29482]]\n",
    "farSouth = [[37.85059, 37.83886, 37.84679, 37.85843, 37.85519, 37.85313], \n",
    "            [-122.29482, -122.29165, -122.24255, -122.24541, -122.26588, -122.27903]]\n",
    "north = [[37.88057,37.88303, 37.87553, 37.87418, 37.87221],\n",
    "        [-122.28302, -122.26349, -122.25688, -122.26628, -122.28182]]\n",
    "west = [[37.87221, 37.87418, 37.86756, 37.86614],\n",
    "       [-122.28182, -122.26628, -122.26641, -122.28092]]\n",
    "south = [[37.86756, 37.86977, 37.85843, 37.85519],\n",
    "        [-122.26641, -122.24847, -122.24541, -122.26588]]\n",
    "southwest = [[37.86756, 37.86614, 37.85313, 37.85519],\n",
    "            [-122.26641, -122.28092, -122.27903, -122.26588]]\n",
    "\n",
    "color = [\"#FFA500\", \"#AFEEEE\", \"#BDB76B\", \"#FA8072\", \"#8B008B\", \"grey\", \"brown\"]\n",
    "\n",
    "y = [farNorth[0], farWest[0], farSouth[0], north[0], west[0], south[0], southwest[0]]\n",
    "x = [farNorth[1], farWest[1], farSouth[1], north[1], west[1], south[1], southwest[1]]\n",
    "\n",
    "p = figure(title = \"Test\")\n",
    "source = ColumnDataSource(data=dict(\n",
    "    xs = x,\n",
    "    ys = y,\n",
    "    color = color,\n",
    "))\n",
    "p.patches('xs', 'ys', source = source, line_color = \"black\", \n",
    "          fill_color = 'color', line_width = 0.5, fill_alpha = 0.4)\n",
    "show(p)"
   ]
  },
  {
   "cell_type": "code",
   "execution_count": 4,
   "metadata": {
    "collapsed": false
   },
   "outputs": [
    {
     "data": {
      "text/html": [
       "\n",
       "\n",
       "    <div class=\"plotdiv\" id=\"860683fb-b014-4d9e-aaa3-8c98bf4e370f\"></div>\n",
       "<script type=\"text/javascript\">\n",
       "  \n",
       "  (function(global) {\n",
       "    function now() {\n",
       "      return new Date();\n",
       "    }\n",
       "  \n",
       "    if (typeof (window._bokeh_onload_callbacks) === \"undefined\") {\n",
       "      window._bokeh_onload_callbacks = [];\n",
       "    }\n",
       "  \n",
       "    function run_callbacks() {\n",
       "      window._bokeh_onload_callbacks.forEach(function(callback) { callback() });\n",
       "      delete window._bokeh_onload_callbacks\n",
       "      console.info(\"Bokeh: all callbacks have finished\");\n",
       "    }\n",
       "  \n",
       "    function load_libs(js_urls, callback) {\n",
       "      window._bokeh_onload_callbacks.push(callback);\n",
       "      if (window._bokeh_is_loading > 0) {\n",
       "        console.log(\"Bokeh: BokehJS is being loaded, scheduling callback at\", now());\n",
       "        return null;\n",
       "      }\n",
       "      if (js_urls == null || js_urls.length === 0) {\n",
       "        run_callbacks();\n",
       "        return null;\n",
       "      }\n",
       "      console.log(\"Bokeh: BokehJS not loaded, scheduling load and callback at\", now());\n",
       "      window._bokeh_is_loading = js_urls.length;\n",
       "      for (var i = 0; i < js_urls.length; i++) {\n",
       "        var url = js_urls[i];\n",
       "        var s = document.createElement('script');\n",
       "        s.src = url;\n",
       "        s.async = false;\n",
       "        s.onreadystatechange = s.onload = function() {\n",
       "          window._bokeh_is_loading--;\n",
       "          if (window._bokeh_is_loading === 0) {\n",
       "            console.log(\"Bokeh: all BokehJS libraries loaded\");\n",
       "            run_callbacks()\n",
       "          }\n",
       "        };\n",
       "        s.onerror = function() {\n",
       "          console.warn(\"failed to load library \" + url);\n",
       "        };\n",
       "        console.log(\"Bokeh: injecting script tag for BokehJS library: \", url);\n",
       "        document.getElementsByTagName(\"head\")[0].appendChild(s);\n",
       "      }\n",
       "    };var element = document.getElementById(\"860683fb-b014-4d9e-aaa3-8c98bf4e370f\");\n",
       "    if (element == null) {\n",
       "      console.log(\"Bokeh: ERROR: autoload.js configured with elementid '860683fb-b014-4d9e-aaa3-8c98bf4e370f' but no matching script tag was found. \")\n",
       "      return false;\n",
       "    }\n",
       "  \n",
       "    var js_urls = [];\n",
       "  \n",
       "    var inline_js = [\n",
       "      function(Bokeh) {\n",
       "        Bokeh.$(function() {\n",
       "            var docs_json = {\"3ecd0201-05cf-49b4-8b84-7b86f7594453\":{\"roots\":{\"references\":[{\"attributes\":{\"callback\":null},\"id\":\"d3642bc4-0931-4e18-bc87-223f743ae749\",\"type\":\"DataRange1d\"},{\"attributes\":{\"map_options\":{\"lat\":37.87,\"lng\":-122.27,\"map_type\":\"roadmap\",\"zoom\":14},\"title\":\"Austin\",\"tool_events\":{\"id\":\"d8830f59-9d60-4070-8544-3218d8b8209b\",\"type\":\"ToolEvents\"},\"x_range\":{\"id\":\"d3642bc4-0931-4e18-bc87-223f743ae749\",\"type\":\"DataRange1d\"},\"y_range\":{\"id\":\"419ca29c-0842-4dae-808e-92fde2ee66a8\",\"type\":\"DataRange1d\"}},\"id\":\"c206a4a9-e67f-4c03-a9c6-0f039d9c98a5\",\"type\":\"GMapPlot\"},{\"attributes\":{},\"id\":\"d8830f59-9d60-4070-8544-3218d8b8209b\",\"type\":\"ToolEvents\"},{\"attributes\":{\"callback\":null},\"id\":\"419ca29c-0842-4dae-808e-92fde2ee66a8\",\"type\":\"DataRange1d\"}],\"root_ids\":[\"c206a4a9-e67f-4c03-a9c6-0f039d9c98a5\"]},\"title\":\"Bokeh Application\",\"version\":\"0.11.1\"}};\n",
       "            var render_items = [{\"docid\":\"3ecd0201-05cf-49b4-8b84-7b86f7594453\",\"elementid\":\"860683fb-b014-4d9e-aaa3-8c98bf4e370f\",\"modelid\":\"c206a4a9-e67f-4c03-a9c6-0f039d9c98a5\",\"notebook_comms_target\":\"da9343d6-7295-44fa-a203-ce8f95ed70c3\"}];\n",
       "            \n",
       "            Bokeh.embed.embed_items(docs_json, render_items);\n",
       "        });\n",
       "      },\n",
       "      function(Bokeh) {\n",
       "      }\n",
       "    ];\n",
       "  \n",
       "    function run_inline_js() {\n",
       "      for (var i = 0; i < inline_js.length; i++) {\n",
       "        inline_js[i](window.Bokeh);\n",
       "      }\n",
       "    }\n",
       "  \n",
       "    if (window._bokeh_is_loading === 0) {\n",
       "      console.log(\"Bokeh: BokehJS loaded, going straight to plotting\");\n",
       "      run_inline_js();\n",
       "    } else {\n",
       "      load_libs(js_urls, function() {\n",
       "        console.log(\"Bokeh: BokehJS plotting callback run at\", now());\n",
       "        run_inline_js();\n",
       "      });\n",
       "    }\n",
       "  }(this));\n",
       "</script>"
      ]
     },
     "metadata": {},
     "output_type": "display_data"
    },
    {
     "data": {
      "text/html": [
       "<p><code>&lt;Bokeh Notebook handle for <strong>In[4]</strong>&gt;</code></p>"
      ],
      "text/plain": [
       "<bokeh.io._CommsHandle at 0x1131d0240>"
      ]
     },
     "execution_count": 4,
     "metadata": {},
     "output_type": "execute_result"
    }
   ],
   "source": [
    "map_options = GMapOptions(lat=37.87, lng=-122.27, map_type=\"roadmap\", zoom=14)\n",
    "\n",
    "plot = GMapPlot(\n",
    "    x_range=DataRange1d(), y_range=DataRange1d(), map_options=map_options, title=\"Austin\"\n",
    ")\n",
    "#plot.add_glyph(p)\n",
    "show(plot)"
   ]
  },
  {
   "cell_type": "markdown",
   "metadata": {},
   "source": [
    "## Divide data\n",
    "### Longitude(x), Latitude(y)"
   ]
  },
  {
   "cell_type": "code",
   "execution_count": 5,
   "metadata": {
    "collapsed": false
   },
   "outputs": [
    {
     "name": "stdout",
     "output_type": "stream",
     "text": [
      "Populating the interactive namespace from numpy and matplotlib\n"
     ]
    },
    {
     "name": "stderr",
     "output_type": "stream",
     "text": [
      "WARNING: pylab import has clobbered these variables: ['figure', 'source', 'plt', 'Circle', 'plot', 'show']\n",
      "`%matplotlib` prevents importing * from pylab and numpy\n"
     ]
    }
   ],
   "source": [
    "import matplotlib.pylab as plt\n",
    "%pylab inline"
   ]
  },
  {
   "cell_type": "code",
   "execution_count": 6,
   "metadata": {
    "collapsed": false
   },
   "outputs": [],
   "source": [
    "# Input two points to find a line equation\n",
    "# Return [k,b] where y = kx + b\n",
    "def line(p1, p2):\n",
    "    k = (p2[0] - p1[0]) / (p2[1] - p1[1])\n",
    "    b = p1[0] - k * p1[1]\n",
    "    return [k, b]\n",
    "\n",
    "l1 = line((37.87796, -122.30323), (37.88303, -122.26349))\n",
    "l2 = line((37.85059, -122.29482), (37.85843, -122.24541))\n",
    "l3 = line((37.87214, -122.28229), (37.87573, -122.25646))\n",
    "l4 = line((37.86651, -122.28117), (37.87031, -122.2507))\n",
    "l5 = line((37.87418, -122.26628), (37.85519, -122.26588))\n",
    "l6 = line((37.88057, -122.28302), (37.85313, -122.27903))\n",
    "\n",
    "def getX(line, y):\n",
    "    return (y - line[1]) / line[0]\n",
    "\n",
    "def getY(line, x):\n",
    "    return line[0] * x + line[1]\n"
   ]
  },
  {
   "cell_type": "code",
   "execution_count": 16,
   "metadata": {
    "collapsed": true
   },
   "outputs": [],
   "source": [
    "# Summary for the whole database\n",
    "df = pd.read_csv(\"final_no_outlier\")\n",
    "price = df[\"price per room\"].median()\n",
    "sqft = df[\"sqft per room\"].median()"
   ]
  },
  {
   "cell_type": "code",
   "execution_count": 7,
   "metadata": {
    "collapsed": false
   },
   "outputs": [],
   "source": [
    "df = pd.read_csv(\"final_no_outlier\")\n",
    "\n",
    "FarNorth = df[df['latitude'] > getY(l1, df['longitude'])]\n",
    "compare = FarNorth['latitude'].tolist()\n",
    "df = df[~df['latitude'].isin(compare)]\n",
    "\n",
    "FarSouth = df[df['latitude'] < getY(l2, df['longitude'])]\n",
    "compare = FarSouth['latitude'].tolist()\n",
    "df = df[~df['latitude'].isin(compare)]\n",
    "\n",
    "FarWest = df[df['longitude'] < getX(l6, df['latitude'])]\n",
    "compare = FarWest['latitude'].tolist()\n",
    "df = df[~df['latitude'].isin(compare)]\n",
    "\n",
    "North = df[df['latitude'] > getY(l3, df['longitude'])]\n",
    "compare = North['latitude'].tolist()\n",
    "df = df[~df['latitude'].isin(compare)]\n",
    "\n",
    "West = df[df['latitude'] > getY(l4, df['longitude'])]\n",
    "compare = West['latitude'].tolist()\n",
    "df = df[~df['latitude'].isin(compare)]\n",
    "\n",
    "SouthWest = df[df['longitude'] < getX(l5, df['latitude'])]\n",
    "compare = SouthWest['latitude'].tolist()\n",
    "df = df[~df['latitude'].isin(compare)]\n",
    "\n",
    "South = df[df['longitude'] > getX(l5, df['latitude'])]\n",
    "compare = South['latitude'].tolist()\n",
    "df = df[~df['latitude'].isin(compare)]\n",
    "\n",
    "# plt.scatter(FarNorth.longitude, FarNorth.latitude)\n",
    "# plt.scatter(FarSouth.longitude, FarSouth.latitude)\n",
    "# plt.scatter(FarWest.longitude, FarWest.latitude)\n",
    "# plt.scatter(North.longitude, North.latitude)\n",
    "# plt.scatter(West.longitude, West.latitude)\n",
    "# plt.scatter(SouthWest.longitude, SouthWest.latitude)\n",
    "# plt.scatter(South.longitude, South.latitude)"
   ]
  },
  {
   "cell_type": "markdown",
   "metadata": {
    "collapsed": false
   },
   "source": [
    "## Detail about each Area"
   ]
  },
  {
   "cell_type": "markdown",
   "metadata": {},
   "source": [
    "### FarNorth"
   ]
  },
  {
   "cell_type": "code",
   "execution_count": 19,
   "metadata": {
    "collapsed": false,
    "scrolled": true
   },
   "outputs": [
    {
     "name": "stdout",
     "output_type": "stream",
     "text": [
      "[Average room price is $52 less than the average]\n",
      "\n",
      "\n",
      "~ Room Quality ~\n",
      "Average Room Price:  1750.0 USD\n",
      "Average Room Size:  537.5 sqft\n",
      "Average Distance to Campus:  1.67 miles\n",
      "Average Number of Rooms shared in the Apartment:  2.08\n",
      "\n",
      "\n",
      "~ Neighborhood Quality ~\n",
      "Average Restaurant Ratings:  4.05 out of 5 stars\n",
      "Average 3.28 Cafes around\n",
      "Average 1.48 Pubs around\n"
     ]
    }
   ],
   "source": [
    "\n",
    "FarNorth = FarNorth.replace(0,nan)\n",
    "print(\"[Average room price is $52 less than the average]\")\n",
    "print(\"\\n\")\n",
    "print(\"~ Room Quality ~\")\n",
    "print(\"Average Room Price: \", FarNorth['price per room'].median(), 'USD')\n",
    "temp = FarNorth[FarNorth['sqft per room'].notnull()]\n",
    "print(\"Average Room Size: \", temp['sqft per room'].median(), 'sqft')\n",
    "print(\"Average Distance to Campus: \", FarNorth['edge_distance'].median(), 'miles')\n",
    "temp = FarNorth[FarNorth['bedrooms'].notnull()]\n",
    "print(\"Average Number of Rooms shared in the Apartment: \", round(temp['bedrooms'].mean(),2))\n",
    "\n",
    "print(\"\\n\")\n",
    "print(\"~ Neighborhood Quality ~\")\n",
    "print(\"Average Restaurant Ratings: \", FarNorth['avg_rating'].median(), 'out of 5 stars')\n",
    "print(\"Average\", round(FarNorth['#cafes'].mean(),2), 'Cafes around')\n",
    "print(\"Average\", round(FarNorth['#pubs'].mean(),2), 'Pubs around')\n",
    "\n",
    "print(\"\\n\")\n",
    "print(\"*All the above are the AVERAGE values for this area\")"
   ]
  },
  {
   "cell_type": "code",
   "execution_count": 18,
   "metadata": {
    "collapsed": false
   },
   "outputs": [
    {
     "name": "stdout",
     "output_type": "stream",
     "text": [
      "FarNorth Side's average room price is $52 less than the average\n"
     ]
    }
   ],
   "source": [
    "price - FarNorth['price per room'].median()\n",
    "print(\"FarNorth Side's average room price is $52 less than the average\")"
   ]
  },
  {
   "cell_type": "markdown",
   "metadata": {},
   "source": [
    "### FarWest"
   ]
  },
  {
   "cell_type": "code",
   "execution_count": 9,
   "metadata": {
    "collapsed": false
   },
   "outputs": [
    {
     "name": "stdout",
     "output_type": "stream",
     "text": [
      "~ Room Quality ~\n",
      "Average Room Price:  1675.0 USD\n",
      "Average Room Size:  494.0 sqft\n",
      "Average Distance to Campus:  2.23 miles\n",
      "Average Number of Rooms shared in the Apartment:  1.55\n",
      "\n",
      "\n",
      "~ Neighborhood Quality ~\n",
      "Average Restaurant Ratings:  4.025 out of 5 stars\n",
      "Average 3.97 Cafes around\n",
      "Average 1.52 Pubs around\n"
     ]
    }
   ],
   "source": [
    "FarWest = FarWest.replace(0,nan)\n",
    "\n",
    "print(\"~ Room Quality ~\")\n",
    "print(\"Average Room Price: \", FarWest['price per room'].median(), 'USD')\n",
    "temp = FarWest[FarWest['sqft per room'].notnull()]\n",
    "print(\"Average Room Size: \", temp['sqft per room'].median(), 'sqft')\n",
    "print(\"Average Distance to Campus: \", FarWest['edge_distance'].median(), 'miles')\n",
    "temp = FarWest[FarWest['bedrooms'].notnull()]\n",
    "print(\"Average Number of Rooms shared in the Apartment: \", round(temp['bedrooms'].mean(),2))\n",
    "\n",
    "print(\"\\n\")\n",
    "print(\"~ Neighborhood Quality ~\")\n",
    "print(\"Average Restaurant Ratings: \", FarWest['avg_rating'].median(), 'out of 5 stars')\n",
    "print(\"Average\", round(FarWest['#cafes'].mean(),2), 'Cafes around')\n",
    "print(\"Average\", round(FarWest['#pubs'].mean(),2), 'Pubs around')"
   ]
  },
  {
   "cell_type": "markdown",
   "metadata": {},
   "source": [
    "### FarSouth"
   ]
  },
  {
   "cell_type": "code",
   "execution_count": 10,
   "metadata": {
    "collapsed": false
   },
   "outputs": [
    {
     "name": "stdout",
     "output_type": "stream",
     "text": [
      "~ Room Quality ~\n",
      "Average Room Price:  1735.0 USD\n",
      "Average Room Size:  500.0 sqft\n",
      "Average Distance to Campus:  2.35 miles\n",
      "Average Number of Rooms shared in the Apartment:  1.84\n",
      "\n",
      "\n",
      "~ Neighborhood Quality ~\n",
      "Average Restaurant Ratings:  4.0 out of 5 stars\n",
      "Average 3.72 Cafes around\n",
      "Average 1.36 Pubs around\n"
     ]
    }
   ],
   "source": [
    "FarSouth = FarSouth.replace(0,nan)\n",
    "\n",
    "print(\"~ Room Quality ~\")\n",
    "print(\"Average Room Price: \", FarSouth['price per room'].median(), 'USD')\n",
    "temp = FarSouth[FarSouth['sqft per room'].notnull()]\n",
    "print(\"Average Room Size: \", temp['sqft per room'].median(), 'sqft')\n",
    "print(\"Average Distance to Campus: \", FarSouth['edge_distance'].median(), 'miles')\n",
    "temp = FarSouth[FarSouth['bedrooms'].notnull()]\n",
    "print(\"Average Number of Rooms shared in the Apartment: \", round(temp['bedrooms'].mean(),2))\n",
    "\n",
    "print(\"\\n\")\n",
    "print(\"~ Neighborhood Quality ~\")\n",
    "print(\"Average Restaurant Ratings: \", FarSouth['avg_rating'].median(), 'out of 5 stars')\n",
    "print(\"Average\", round(FarSouth['#cafes'].mean(),2), 'Cafes around')\n",
    "print(\"Average\", round(FarSouth['#pubs'].mean(),2), 'Pubs around')"
   ]
  },
  {
   "cell_type": "markdown",
   "metadata": {},
   "source": [
    "### NorthSide"
   ]
  },
  {
   "cell_type": "code",
   "execution_count": 11,
   "metadata": {
    "collapsed": false
   },
   "outputs": [
    {
     "name": "stdout",
     "output_type": "stream",
     "text": [
      "~ Room Quality ~\n",
      "Average Room Price:  1975.0 USD\n",
      "Average Room Size:  470.0 sqft\n",
      "Average Distance to Campus:  0.61 miles\n",
      "Average Number of Rooms shared in the Apartment:  1.74\n",
      "\n",
      "\n",
      "~ Neighborhood Quality ~\n",
      "Average Restaurant Ratings:  4.05 out of 5 stars\n",
      "Average 4.42 Cafes around\n",
      "Average 1.52 Pubs around\n"
     ]
    }
   ],
   "source": [
    "North = North.replace(0,nan)\n",
    "\n",
    "print(\"~ Room Quality ~\")\n",
    "print(\"Average Room Price: \", North['price per room'].median(), 'USD')\n",
    "temp = North[North['sqft per room'].notnull()]\n",
    "print(\"Average Room Size: \", temp['sqft per room'].median(), 'sqft')\n",
    "print(\"Average Distance to Campus: \", North['edge_distance'].median(), 'miles')\n",
    "temp = North[North['bedrooms'].notnull()]\n",
    "print(\"Average Number of Rooms shared in the Apartment: \", round(temp['bedrooms'].mean(),2))\n",
    "\n",
    "print(\"\\n\")\n",
    "print(\"~ Neighborhood Quality ~\")\n",
    "print(\"Average Restaurant Ratings: \", North['avg_rating'].median(), 'out of 5 stars')\n",
    "print(\"Average\", round(North['#cafes'].mean(),2), 'Cafes around')\n",
    "print(\"Average\", round(North['#pubs'].mean(),2), 'Pubs around')"
   ]
  },
  {
   "cell_type": "markdown",
   "metadata": {},
   "source": [
    "### SouthSide"
   ]
  },
  {
   "cell_type": "code",
   "execution_count": 12,
   "metadata": {
    "collapsed": false
   },
   "outputs": [
    {
     "name": "stdout",
     "output_type": "stream",
     "text": [
      "~ Room Quality ~\n",
      "Average Room Price:  1890.5 USD\n",
      "Average Room Size:  438.0 sqft\n",
      "Average Distance to Campus:  0.69 miles\n",
      "Average Number of Rooms shared in the Apartment:  1.97\n",
      "\n",
      "\n",
      "~ Neighborhood Quality ~\n",
      "Average Restaurant Ratings:  4.025 out of 5 stars\n",
      "Average 1.51 Cafes around\n",
      "Average 1.5 Pubs around\n"
     ]
    }
   ],
   "source": [
    "South = South.replace(0,nan)\n",
    "\n",
    "print(\"~ Room Quality ~\")\n",
    "print(\"Average Room Price: \", South['price per room'].median(), 'USD')\n",
    "temp = South[South['sqft per room'].notnull()]\n",
    "print(\"Average Room Size: \", temp['sqft per room'].median(), 'sqft')\n",
    "print(\"Average Distance to Campus: \", South['edge_distance'].median(), 'miles')\n",
    "temp = South[South['bedrooms'].notnull()]\n",
    "print(\"Average Number of Rooms shared in the Apartment: \", round(temp['bedrooms'].mean(),2))\n",
    "\n",
    "print(\"\\n\")\n",
    "print(\"~ Neighborhood Quality ~\")\n",
    "print(\"Average Restaurant Ratings: \", South['avg_rating'].median(), 'out of 5 stars')\n",
    "print(\"Average\", round(South['#cafes'].mean(),2), 'Cafes around')\n",
    "print(\"Average\", round(South['#pubs'].mean(),2), 'Pubs around')"
   ]
  },
  {
   "cell_type": "markdown",
   "metadata": {},
   "source": [
    "### WestSide"
   ]
  },
  {
   "cell_type": "code",
   "execution_count": 13,
   "metadata": {
    "collapsed": false
   },
   "outputs": [
    {
     "name": "stdout",
     "output_type": "stream",
     "text": [
      "~ Room Quality ~\n",
      "Average Room Price:  1695.0 USD\n",
      "Average Room Size:  375.0 sqft\n",
      "Average Distance to Campus:  0.75 miles\n",
      "Average Number of Rooms shared in the Apartment:  1.42\n",
      "\n",
      "\n",
      "~ Neighborhood Quality ~\n",
      "Average Restaurant Ratings:  3.975 out of 5 stars\n",
      "Average 2.98 Cafes around\n",
      "Average 1.73 Pubs around\n"
     ]
    }
   ],
   "source": [
    "West = West.replace(0,nan)\n",
    "\n",
    "print(\"~ Room Quality ~\")\n",
    "print(\"Average Room Price: \", West['price per room'].median(), 'USD')\n",
    "temp = West[West['sqft per room'].notnull()]\n",
    "print(\"Average Room Size: \", temp['sqft per room'].median(), 'sqft')\n",
    "print(\"Average Distance to Campus: \", West['edge_distance'].median(), 'miles')\n",
    "temp = West[West['bedrooms'].notnull()]\n",
    "print(\"Average Number of Rooms shared in the Apartment: \", round(temp['bedrooms'].mean(),2))\n",
    "\n",
    "print(\"\\n\")\n",
    "print(\"~ Neighborhood Quality ~\")\n",
    "print(\"Average Restaurant Ratings: \", West['avg_rating'].median(), 'out of 5 stars')\n",
    "print(\"Average\", round(West['#cafes'].mean(),2), 'Cafes around')\n",
    "print(\"Average\", round(West['#pubs'].mean(),2), 'Pubs around')"
   ]
  },
  {
   "cell_type": "markdown",
   "metadata": {},
   "source": [
    "### SouthWest"
   ]
  },
  {
   "cell_type": "code",
   "execution_count": 14,
   "metadata": {
    "collapsed": false
   },
   "outputs": [
    {
     "name": "stdout",
     "output_type": "stream",
     "text": [
      "~ Room Quality ~\n",
      "Average Room Price:  1766.0 USD\n",
      "Average Room Size:  475.0 sqft\n",
      "Average Distance to Campus:  1.27 miles\n",
      "Average Number of Rooms shared in the Apartment:  1.7\n",
      "\n",
      "\n",
      "~ Neighborhood Quality ~\n",
      "Average Restaurant Ratings:  4.075 out of 5 stars\n",
      "Average 2.58 Cafes around\n",
      "Average 1.66 Pubs around\n"
     ]
    }
   ],
   "source": [
    "SouthWest = SouthWest.replace(0,nan)\n",
    "\n",
    "print(\"~ Room Quality ~\")\n",
    "print(\"Average Room Price: \", SouthWest['price per room'].median(), 'USD')\n",
    "temp = SouthWest[SouthWest['sqft per room'].notnull()]\n",
    "print(\"Average Room Size: \", temp['sqft per room'].median(), 'sqft')\n",
    "print(\"Average Distance to Campus: \", SouthWest['edge_distance'].median(), 'miles')\n",
    "temp = SouthWest[SouthWest['bedrooms'].notnull()]\n",
    "print(\"Average Number of Bedrooms: \", round(temp['bedrooms'].mean(),2))\n",
    "\n",
    "print(\"\\n\")\n",
    "print(\"~ Neighborhood Quality ~\")\n",
    "print(\"Average Restaurant Ratings: \", SouthWest['avg_rating'].median(), 'out of 5 stars')\n",
    "print(\"Average\", round(SouthWest['#cafes'].mean(),2), 'Cafes around')\n",
    "print(\"Average\", round(SouthWest['#pubs'].mean(),2), 'Pubs around')"
   ]
  },
  {
   "cell_type": "code",
   "execution_count": null,
   "metadata": {
    "collapsed": true
   },
   "outputs": [],
   "source": []
  }
 ],
 "metadata": {
  "kernelspec": {
   "display_name": "Python 3",
   "language": "python",
   "name": "python3"
  },
  "language_info": {
   "codemirror_mode": {
    "name": "ipython",
    "version": 3
   },
   "file_extension": ".py",
   "mimetype": "text/x-python",
   "name": "python",
   "nbconvert_exporter": "python",
   "pygments_lexer": "ipython3",
   "version": "3.5.1"
  }
 },
 "nbformat": 4,
 "nbformat_minor": 0
}
